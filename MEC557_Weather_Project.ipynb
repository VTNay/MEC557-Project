{
  "cells": [
    {
      "cell_type": "markdown",
      "metadata": {
        "id": "view-in-github",
        "colab_type": "text"
      },
      "source": [
        "<a href=\"https://colab.research.google.com/github/VTNay/MEC557-Project/blob/Ma/MEC557_Weather_Project.ipynb\" target=\"_parent\"><img src=\"https://colab.research.google.com/assets/colab-badge.svg\" alt=\"Open In Colab\"/></a>"
      ]
    },
    {
      "cell_type": "markdown",
      "id": "f1ae401f",
      "metadata": {
        "id": "f1ae401f"
      },
      "source": [
        "# Projects\n",
        "\n",
        "[![Binder](https://mybinder.org/badge_logo.svg)](https://mybinder.org/v2/git/https%3A%2F%2Fgitlab.in2p3.fr%2Fenergy4climate%2Fpublic%2Feducation%2Fmachine_learning_for_climate_and_energy/master?filepath=book%2Fnotebooks%2Fprojects.ipynb)"
      ]
    },
    {
      "cell_type": "code",
      "source": [
        "from google.colab import drive\n",
        "drive.mount('/content/drive')"
      ],
      "metadata": {
        "colab": {
          "base_uri": "https://localhost:8080/"
        },
        "id": "EfvEaXMCKKvc",
        "outputId": "f6f58875-1785-44cb-8eb7-82274adbc6fd"
      },
      "id": "EfvEaXMCKKvc",
      "execution_count": 2,
      "outputs": [
        {
          "output_type": "stream",
          "name": "stdout",
          "text": [
            "Mounted at /content/drive\n"
          ]
        }
      ]
    },
    {
      "cell_type": "markdown",
      "id": "03d41164",
      "metadata": {
        "id": "03d41164"
      },
      "source": [
        "<div class=\"alert alert-block alert-warning\">\n",
        "    <b>Schedule</b>\n",
        "    \n",
        "- Ask your supervisors for the data if not already provided (it is not included in this repository).\n",
        "- Quick presentation.\n",
        "- Final project presentation.\n",
        "    \n",
        "</div>"
      ]
    },
    {
      "cell_type": "markdown",
      "id": "01b8a8b3",
      "metadata": {
        "id": "01b8a8b3"
      },
      "source": [
        "<div class=\"alert alert-block alert-info\">\n",
        "    <b>One problematic, One dataset, One (or more) method(s)</b>\n",
        "    \n",
        "- Quality of the dataset is key.\n",
        "- Results on a clean notebook.\n",
        "- Explain which method(s) you used and why.\n",
        "- If a method fails, explain why.\n",
        "\n",
        "</div>"
      ]
    },
    {
      "cell_type": "markdown",
      "id": "b309f16e",
      "metadata": {
        "id": "b309f16e"
      },
      "source": [
        "## Project: Weather station"
      ]
    },
    {
      "cell_type": "markdown",
      "id": "912d896e",
      "metadata": {
        "id": "912d896e"
      },
      "source": [
        "<img alt=\"weather\" src=\"https://github.com/VTNay/MEC557-Project/blob/main/images/map.png?raw=1\" width=400>"
      ]
    },
    {
      "cell_type": "markdown",
      "id": "2372e364",
      "metadata": {
        "id": "2372e364"
      },
      "source": [
        "- Suppose there are 5 weather stations that monitor the weather: Paris, Brest, London, Marseille and Berlin.\n",
        "- The weather station in Paris breaks down\n",
        "- Can we use the other stations to infer the weather in Paris"
      ]
    },
    {
      "cell_type": "markdown",
      "id": "66ae5a0d",
      "metadata": {
        "id": "66ae5a0d"
      },
      "source": [
        "### Data set\n",
        "\n",
        "<img alt=\"weather\" src=\"https://github.com/VTNay/MEC557-Project/blob/main/images/annual_temperature.png?raw=1\" width=400>\n",
        "\n",
        "- Surface variables: skt, u10, v10, t2m, d2m, tcc, sp, tp, ssrd, blh\n",
        "- Temporal resolution: hourly\n",
        "- Spatial resolution: N/A"
      ]
    },
    {
      "cell_type": "markdown",
      "id": "73ad9743",
      "metadata": {
        "id": "73ad9743"
      },
      "source": [
        "### First steps\n",
        "\n",
        "- Look at the correlations between variables.\n",
        "- What variable do I want to predict\n",
        "- What time scale am interested in?\n",
        "- Start with the easy predictions and move on to harder ones\n",
        "- Are there events that are more predictable than others?"
      ]
    },
    {
      "cell_type": "code",
      "execution_count": 2,
      "id": "da094902",
      "metadata": {
        "id": "da094902"
      },
      "outputs": [],
      "source": [
        "from pathlib import Path\n",
        "import numpy as np\n",
        "import pandas as pd\n",
        "import xarray as xr\n",
        "from functools import reduce\n",
        "from matplotlib import pyplot as plt\n",
        "from sklearn import preprocessing\n",
        "\n",
        "paris_path = Path('/content/drive/My Drive/PHY557_Project/weather/paris')\n",
        "brest_path = Path('/content/drive/My Drive/PHY557_Project/weather/brest')\n",
        "london_path = Path('/content/drive/My Drive/PHY557_Project/weather/london')\n",
        "marseille_path = Path('/content/drive/My Drive/PHY557_Project/weather/marseille')\n",
        "berlin_path = Path('/content/drive/My Drive/PHY557_Project/weather/berlin')\n",
        "\n",
        "file_path = {'t2m': 't2m.nc', 'blh': 'blh.nc', 'd2m': 'd2m.nc', 'skt': 'skt.nc', 'sp': 'sp.nc', 'ssrd': 'ssrd.nc', 'tcc': 'tcc.nc', 'tp': 'tp.nc', 'u10': 'u10.nc', 'v10': 'v10.nc'}\n",
        "City_path = {'Paris': paris_path, 'Brest': brest_path, 'London': london_path, 'Marseille': marseille_path, 'Berlin': berlin_path}\n",
        "\n",
        "Weather_stations = {'Paris': [], 'Brest': [], 'London': [], 'Marseille': [], 'Berlin': []}\n",
        "for i in Weather_stations:\n",
        "  Weather_stations[i] = {'t2m': [], 'blh': [], 'd2m': [], 'skt': [], 'sp': [], 'ssrd': [], 'tcc': [], 'tp': [], 'u10': [], 'v10': []}\n",
        "\n",
        "for city in Weather_stations:\n",
        "  for i in Weather_stations[city]:\n",
        "    temp = xr.open_dataset(Path(City_path[city], file_path[i]))\n",
        "    temp = temp.to_dataframe()\n",
        "    if i == 'd2m' or i == 'blh':\n",
        "      temp = temp.droplevel([1,2])\n",
        "    else:\n",
        "      temp = temp.droplevel([0,1])\n",
        "    Weather_stations[city][i] = temp\n",
        "  #merge them into 1 dataframe\n",
        "  Weather_stations[city] = reduce(lambda left, right: pd.merge(left, right, left_index=True, right_index=True, how='outer'), Weather_stations[city].values())"
      ]
    },
    {
      "cell_type": "code",
      "source": [
        "Berlin = Weather_stations['Berlin']\n",
        "Brest =  Weather_stations['Brest']\n",
        "London = Weather_stations['London']\n",
        "Paris = Weather_stations['Paris']\n",
        "Marseille = Weather_stations['Marseille']\n",
        "Paris = Paris[Paris.index < '2020-01-01 07:00:00'] #All dataframe has the same number of rows"
      ],
      "metadata": {
        "id": "u-fkGxxJw0WX"
      },
      "id": "u-fkGxxJw0WX",
      "execution_count": 3,
      "outputs": []
    },
    {
      "cell_type": "code",
      "source": [
        "# Function to rename columns\n",
        "def rename_columns(df, prefix):\n",
        "    return df.rename(columns={col: f\"{prefix}_{col}\" for col in df.columns})\n",
        "# Rename columns of each DataFrame so that the feature in X will be 'Berlin_t2m', 'Berlin_u10', 'London_t2m',...\n",
        "Berlin = rename_columns(Berlin, 'Berlin')\n",
        "Brest = rename_columns(Brest, 'Brest')\n",
        "London = rename_columns(London, 'London')\n",
        "Marseille = rename_columns(Marseille, 'Marseille')"
      ],
      "metadata": {
        "id": "KG4hH1ZCztTf"
      },
      "id": "KG4hH1ZCztTf",
      "execution_count": 4,
      "outputs": []
    },
    {
      "cell_type": "code",
      "source": [
        "#Data cleaning\n",
        "# Concatenate X = Berlin, Brest, London, Marseille and y = Paris\n",
        "combined = pd.concat([Berlin, Brest, London, Marseille, Paris], axis=1)\n",
        "# Drop NA values\n",
        "combined = combined.dropna()\n",
        "# Split them back into X and y\n",
        "X_raw = combined.iloc[:, :-10]  # X has 40 features\n",
        "y = combined.loc[:,'t2m']  # y is the temperature in Paris\n",
        "# Normalize X and y\n",
        "X_raw = (X_raw - X_raw.mean())/ X_raw.std()\n",
        "y = (y - y.mean())/y.std()\n",
        "# Number of years\n",
        "n_years = y.index.year.max() - y.index.year.min() + 1\n",
        "n_years"
      ],
      "metadata": {
        "id": "3mheGo1gm0T3",
        "colab": {
          "base_uri": "https://localhost:8080/"
        },
        "outputId": "d84fd557-b6f5-45ab-dfc0-1fc60994c615"
      },
      "id": "3mheGo1gm0T3",
      "execution_count": 5,
      "outputs": [
        {
          "output_type": "execute_result",
          "data": {
            "text/plain": [
              "40"
            ]
          },
          "metadata": {},
          "execution_count": 5
        }
      ]
    },
    {
      "cell_type": "markdown",
      "source": [
        "**PCA**"
      ],
      "metadata": {
        "id": "E8xgsWcB_n48"
      },
      "id": "E8xgsWcB_n48"
    },
    {
      "cell_type": "markdown",
      "source": [
        "Lasso is a linear model that uses this cost function:\n",
        "\n",
        "$$\n",
        "\\frac{1}{2N_{\\text{training}}} \\sum_{i=1}^{N_{\\text{training}}} \\left( y^{(i)}_{\\text{real}} - y^{(i)}_{\\text{pred}} \\right)^2 + \\alpha \\sum_{j=1}^{n} |a_j|\n",
        "$$\n",
        "\n",
        "$a_j$ is the coefficient of the j-th feature. The final term is called $l_1$ penalty and $\\alpha$ is a hyperparameter that tunes the intensity of this penalty term. The higher the coefficient of a feature, the higher the value of the cost function. So, the idea of Lasso regression is to optimize the cost function reducing the absolute values of the coefficients.\n"
      ],
      "metadata": {
        "id": "1Fa2OtwzAsbH"
      },
      "id": "1Fa2OtwzAsbH"
    },
    {
      "cell_type": "code",
      "source": [
        "from sklearn.linear_model import LassoCV\n",
        "from sklearn.datasets import make_regression\n",
        "# Number of features remained\n",
        "n_features = 20\n",
        "\n",
        "# Set number of splits for cross-validation - two years for each fold\n",
        "n_splits =  5 # We have 40 years in total\n",
        "\n",
        "# Initialize LassoCV, which will perform cross-validation\n",
        "lasso = LassoCV(cv=n_splits, random_state=0, max_iter=10000)\n",
        "\n",
        "# Fit the Lasso model to the data\n",
        "lasso.fit(X_raw, y)\n",
        "\n",
        "# n_features features having the highest absolute value of coefficient can be considered as more important or keeped\n",
        "indices_top = np.argsort(np.abs(lasso.coef_))[-n_features:]\n",
        "selected_features = [X_raw.columns[i] for i in indices_top]\n",
        "\n",
        "# To reduce the feature set\n",
        "X = X_raw[selected_features]"
      ],
      "metadata": {
        "id": "BTs-B6vc_xfZ"
      },
      "id": "BTs-B6vc_xfZ",
      "execution_count": 6,
      "outputs": []
    },
    {
      "cell_type": "markdown",
      "source": [
        "## Fucntion ##"
      ],
      "metadata": {
        "id": "Bg_10e6ephP5"
      },
      "id": "Bg_10e6ephP5"
    },
    {
      "cell_type": "markdown",
      "source": [
        "This cell of code is to define a function ${poly\\_ridge}$ whose input will be:\n",
        "- degree: the degree of the polynomial fitting;\n",
        "- n_splits_cv: the number of set which is split for cross validation;\n",
        "-"
      ],
      "metadata": {
        "id": "OKO8hKdqdAO6"
      },
      "id": "OKO8hKdqdAO6"
    },
    {
      "cell_type": "code",
      "source": [
        "from inspect import modulesbyfile\n",
        "from sklearn.model_selection import KFold\n",
        "from sklearn.linear_model import LinearRegression\n",
        "from sklearn.model_selection import train_test_split\n",
        "#Linear Regression for Paris_t2m with 40 features - the most naive approach\n",
        "from sklearn.preprocessing import PolynomialFeatures\n",
        "from sklearn.pipeline import make_pipeline\n",
        "#Ridge\n",
        "from sklearn.linear_model import Ridge\n",
        "from sklearn.model_selection import cross_val_score\n",
        "\n",
        "def poly_ridge(degree, n_splits_cv, X_cv, y_cv, alphas):\n",
        "  # Declare empty arrays in which to store r2 scores and coefficients\n",
        "  r2_validation = np.empty(alphas.shape)\n",
        "\n",
        "  # Loop over regularization-parameter values\n",
        "  for k, complexity in enumerate(alphas):\n",
        "      # Transform data to include polynomial features\n",
        "      polynomial_features = PolynomialFeatures(degree=degree, include_bias=True)\n",
        "      # Define the Ridge estimator for particular regularization-parameter value\n",
        "      reg = Ridge(alpha=complexity)\n",
        "      # Create a pipeline that includes both polynomial expansion and ridge regression\n",
        "      model = make_pipeline(polynomial_features, reg)\n",
        "      # Get r2 test scores from k-fold cross-validation\n",
        "      r2_validation_arr = cross_val_score(model, X_cv, y_cv, cv=n_splits_cv)\n",
        "\n",
        "      # Get r2 expected prediction score by averaging over test scores\n",
        "      r2_validation[k] = r2_validation_arr.mean()\n",
        "\n",
        "  # Get the best values of the regularization parameter, prediction R2 and coefficients\n",
        "  i_best = np.argmax(r2_validation)\n",
        "  alpha_best = alphas[i_best]\n",
        "  r2_validation_best = r2_validation[i_best]\n",
        "  return r2_validation, i_best\n"
      ],
      "metadata": {
        "id": "3VNrUmKrYzhE"
      },
      "id": "3VNrUmKrYzhE",
      "execution_count": 7,
      "outputs": []
    },
    {
      "cell_type": "code",
      "source": [
        "# Degree 1 with full number of features\n",
        "degree = 1\n",
        "X_raw_cv, X_raw_test, y_cv, y_test = train_test_split(X_raw, y, test_size=.25, random_state=0)\n",
        "n_split_cv = 5\n",
        "alphas = np.logspace(-3, 1, 100)\n",
        "r2_validation, i_best = poly_ridge(degree, n_split_cv, X_raw_cv, y_cv, alphas)\n",
        "# Transform data to include polynomial features\n",
        "polynomial_features = PolynomialFeatures(degree=degree, include_bias=True)\n",
        "# Define the Ridge estimator for particular regularization-parameter value\n",
        "reg = Ridge(alpha=alphas[i_best])\n",
        "# Create a pipeline that includes both polynomial expansion and ridge regression\n",
        "best_model = make_pipeline(polynomial_features, reg)\n",
        "\n",
        "best_model.fit(X_raw_cv, y_cv)\n",
        "R2 = best_model.score(X_raw_test, y_test)"
      ],
      "metadata": {
        "id": "QhYvUKU0WHyc"
      },
      "id": "QhYvUKU0WHyc",
      "execution_count": 17,
      "outputs": []
    },
    {
      "cell_type": "code",
      "source": [
        "plt.plot(alphas, r2_validation)\n",
        "plt.xscale('log')\n",
        "print(alphas[i_best])"
      ],
      "metadata": {
        "colab": {
          "base_uri": "https://localhost:8080/",
          "height": 467
        },
        "id": "SAXcqIrtjTOn",
        "outputId": "9e65176e-3c51-4ee2-eeae-b6d3fa7f65cf"
      },
      "id": "SAXcqIrtjTOn",
      "execution_count": 19,
      "outputs": [
        {
          "output_type": "stream",
          "name": "stdout",
          "text": [
            "0.4229242874389499\n"
          ]
        },
        {
          "output_type": "display_data",
          "data": {
            "text/plain": [
              "<Figure size 640x480 with 1 Axes>"
            ],
            "image/png": "[encoded data removed]"
          },
          "metadata": {}
        }
      ]
    },
    {
      "cell_type": "code",
      "source": [
        "# Degree 1 with reduced number (20) of features\n",
        "degree = 1\n",
        "X_cv, X_test, y_cv, y_test = train_test_split(X, y, test_size=.25, random_state=0)\n",
        "n_split_cv = 5\n",
        "alphas = np.logspace(-3, 1, 50)\n",
        "r2_validation, i_best = poly_ridge(degree, n_split_cv, X_cv, y_cv, alphas)\n",
        "# Transform data to include polynomial features\n",
        "polynomial_features = PolynomialFeatures(degree=degree, include_bias=True)\n",
        "# Define the Ridge estimator for particular regularization-parameter value\n",
        "reg = Ridge(alpha=alphas[i_best])\n",
        "# Create a pipeline that includes both polynomial expansion and ridge regression\n",
        "best_model = make_pipeline(polynomial_features, reg)\n",
        "best_model.fit(X_cv, y_cv)\n",
        "R2 = best_model.score(X_test, y_test)"
      ],
      "metadata": {
        "id": "fM1GO0iWvLN-"
      },
      "id": "fM1GO0iWvLN-",
      "execution_count": null,
      "outputs": []
    },
    {
      "cell_type": "code",
      "source": [
        "plt.plot(alphas, r2_validation)\n",
        "plt.xscale('log')\n",
        "print(alphas[i_best])"
      ],
      "metadata": {
        "colab": {
          "base_uri": "https://localhost:8080/",
          "height": 467
        },
        "id": "Pul-uY-qnELM",
        "outputId": "4e0a34f4-9d07-4a5f-fa8a-27f55ccc0963"
      },
      "id": "Pul-uY-qnELM",
      "execution_count": 16,
      "outputs": [
        {
          "output_type": "stream",
          "name": "stdout",
          "text": [
            "0.2329951810515372\n"
          ]
        },
        {
          "output_type": "display_data",
          "data": {
            "text/plain": [
              "<Figure size 640x480 with 1 Axes>"
            ],
            "image/png": "[encoded data removed]"
          },
          "metadata": {}
        }
      ]
    },
    {
      "cell_type": "code",
      "source": [
        "# Degree 2 with reduced number (20) of features\n",
        "degree = 2\n",
        "n_split_cv = 5\n",
        "X_cv, X_test, y_cv, y_test = train_test_split(X, y, test_size=.25, random_state=0)\n",
        "alphas = np.logspace(-3, 1, 50)\n",
        "r2_validation, i_best = poly_ridge(degree, n_split_cv, X_cv, y_cv, alphas)\n",
        "# Transform data to include polynomial features\n",
        "polynomial_features = PolynomialFeatures(degree=degree, include_bias=True)\n",
        "# Define the Ridge estimator for particular regularization-parameter value\n",
        "reg = Ridge(alpha=alphas[i_best])\n",
        "# Create a pipeline that includes both polynomial expansion and ridge regression\n",
        "best_model = make_pipeline(polynomial_features, reg)\n",
        "best_model.fit(X_cv, y_cv)\n",
        "R2 = best_model.score(X_test, y_test)\n"
      ],
      "metadata": {
        "id": "dMSyPMaE05y-"
      },
      "id": "dMSyPMaE05y-",
      "execution_count": 8,
      "outputs": []
    },
    {
      "cell_type": "code",
      "source": [
        "plt.plot(alphas, r2_validation)\n",
        "plt.xscale('log')\n",
        "print(alphas[i_best])"
      ],
      "metadata": {
        "colab": {
          "base_uri": "https://localhost:8080/",
          "height": 467
        },
        "id": "B-SQaQGKtUmO",
        "outputId": "00d046b2-47e1-493a-8327-5c2cb33f9679"
      },
      "id": "B-SQaQGKtUmO",
      "execution_count": 9,
      "outputs": [
        {
          "output_type": "stream",
          "name": "stdout",
          "text": [
            "1.2648552168552958\n"
          ]
        },
        {
          "output_type": "display_data",
          "data": {
            "text/plain": [
              "<Figure size 640x480 with 1 Axes>"
            ],
            "image/png": "[encoded data removed]"
          },
          "metadata": {}
        }
      ]
    },
    {
      "cell_type": "code",
      "source": [
        "# Degree 3 with reduced number (20) of features\n",
        "degree = 3\n",
        "n_split_cv = 5\n",
        "X_cv, X_test, y_cv, y_test = train_test_split(X, y, test_size=.25, random_state=0)\n",
        "alphas = np.logspace(-3, 1, 50)\n",
        "r2_validation, i_best = poly_ridge(degree, n_split_cv, X_cv, y_cv, alphas)\n",
        "# Transform data to include polynomial features\n",
        "polynomial_features = PolynomialFeatures(degree=degree, include_bias=True)\n",
        "# Define the Ridge estimator for particular regularization-parameter value\n",
        "reg = Ridge(alpha=alphas[i_best])\n",
        "# Create a pipeline that includes both polynomial expansion and ridge regression\n",
        "best_model = make_pipeline(polynomial_features, reg)\n",
        "best_model.fit(X_cv, y_cv)\n",
        "R2 = best_model.score(X_test, y_test)\n",
        "print(r2_validation)\n",
        "print(R2)"
      ],
      "metadata": {
        "id": "nFZ7m5Qa1Evo"
      },
      "id": "nFZ7m5Qa1Evo",
      "execution_count": null,
      "outputs": []
    },
    {
      "cell_type": "code",
      "source": [
        "plt.plot(alphas, r2_validation)\n",
        "plt.xscale('log')\n",
        "print(alphas[i_best])"
      ],
      "metadata": {
        "id": "VPUEiKtDtWZK"
      },
      "id": "VPUEiKtDtWZK",
      "execution_count": null,
      "outputs": []
    },
    {
      "cell_type": "markdown",
      "id": "ad79471d",
      "metadata": {
        "id": "ad79471d"
      },
      "source": [
        "***\n",
        "## Credit\n",
        "\n",
        "[//]: # \"This notebook is part of [E4C Interdisciplinary Center - Education](https://gitlab.in2p3.fr/energy4climate/public/education).\"\n",
        "Contributors include Bruno Deremble and Alexis Tantet.\n",
        "Several slides and images are taken from the very good [Scikit-learn course](https://inria.github.io/scikit-learn-mooc/).\n",
        "\n",
        "<br>\n",
        "\n",
        "<div style=\"display: flex; height: 70px\">\n",
        "    \n",
        "<img alt=\"Logo LMD\" src=\"https://github.com/VTNay/MEC557-Project/blob/main/images/logos/logo_lmd.jpg?raw=1\" style=\"display: inline-block\"/>\n",
        "\n",
        "<img alt=\"Logo IPSL\" src=\"https://github.com/VTNay/MEC557-Project/blob/main/images/logos/logo_ipsl.png?raw=1\" style=\"display: inline-block\"/>\n",
        "\n",
        "<img alt=\"Logo E4C\" src=\"https://github.com/VTNay/MEC557-Project/blob/main/images/logos/logo_e4c_final.png?raw=1\" style=\"display: inline-block\"/>\n",
        "\n",
        "<img alt=\"Logo EP\" src=\"https://github.com/VTNay/MEC557-Project/blob/main/images/logos/logo_ep.png?raw=1\" style=\"display: inline-block\"/>\n",
        "\n",
        "<img alt=\"Logo SU\" src=\"https://github.com/VTNay/MEC557-Project/blob/main/images/logos/logo_su.png?raw=1\" style=\"display: inline-block\"/>\n",
        "\n",
        "<img alt=\"Logo ENS\" src=\"https://github.com/VTNay/MEC557-Project/blob/main/images/logos/logo_ens.jpg?raw=1\" style=\"display: inline-block\"/>\n",
        "\n",
        "<img alt=\"Logo CNRS\" src=\"https://github.com/VTNay/MEC557-Project/blob/main/images/logos/logo_cnrs.png?raw=1\" style=\"display: inline-block\"/>\n",
        "    \n",
        "</div>\n",
        "\n",
        "<hr>\n",
        "\n",
        "<div style=\"display: flex\">\n",
        "    <a rel=\"license\" href=\"http://creativecommons.org/licenses/by-sa/4.0/\"><img alt=\"Creative Commons License\" style=\"border-width:0; margin-right: 10px\" src=\"https://i.creativecommons.org/l/by-sa/4.0/88x31.png\" /></a>\n",
        "    <br>This work is licensed under a &nbsp; <a rel=\"license\" href=\"http://creativecommons.org/licenses/by-sa/4.0/\">Creative Commons Attribution-ShareAlike 4.0 International License</a>.\n",
        "</div>"
      ]
    }
  ],
  "metadata": {
    "kernelspec": {
      "display_name": "Python 3",
      "name": "python3"
    },
    "language_info": {
      "codemirror_mode": {
        "name": "ipython",
        "version": 3
      },
      "file_extension": ".py",
      "mimetype": "text/x-python",
      "name": "python",
      "nbconvert_exporter": "python",
      "pygments_lexer": "ipython3",
      "version": "3.9.12"
    },
    "latex_envs": {
      "LaTeX_envs_menu_present": true,
      "autoclose": true,
      "autocomplete": false,
      "bibliofile": "biblio.bib",
      "cite_by": "apalike",
      "current_citInitial": 1,
      "eqLabelWithNumbers": true,
      "eqNumInitial": 1,
      "hotkeys": {
        "equation": "Ctrl-E",
        "itemize": "Ctrl-I"
      },
      "labels_anchors": false,
      "latex_user_defs": false,
      "report_style_numbering": false,
      "user_envs_cfg": false
    },
    "toc": {
      "base_numbering": 1,
      "nav_menu": {},
      "number_sections": true,
      "sideBar": true,
      "skip_h1_title": false,
      "title_cell": "Table of Contents",
      "title_sidebar": "Contents",
      "toc_cell": false,
      "toc_position": {},
      "toc_section_display": true,
      "toc_window_display": false
    },
    "varInspector": {
      "cols": {
        "lenName": 16,
        "lenType": 16,
        "lenVar": 40
      },
      "kernels_config": {
        "python": {
          "delete_cmd_postfix": "",
          "delete_cmd_prefix": "del ",
          "library": "var_list.py",
          "varRefreshCmd": "print(var_dic_list())"
        },
        "r": {
          "delete_cmd_postfix": ") ",
          "delete_cmd_prefix": "rm(",
          "library": "var_list.r",
          "varRefreshCmd": "cat(var_dic_list()) "
        }
      },
      "types_to_exclude": [
        "module",
        "function",
        "builtin_function_or_method",
        "instance",
        "_Feature"
      ],
      "window_display": false
    },
    "colab": {
      "provenance": [],
      "gpuType": "T4",
      "include_colab_link": true
    },
    "accelerator": "GPU"
  },
  "nbformat": 4,
  "nbformat_minor": 5
}