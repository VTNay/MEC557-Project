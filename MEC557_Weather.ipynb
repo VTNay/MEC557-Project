{
  "cells": [
    {
      "cell_type": "markdown",
      "metadata": {
        "id": "view-in-github",
        "colab_type": "text"
      },
      "source": [
        "<a href=\"https://colab.research.google.com/github/VTNay/MEC557-Project/blob/Ma/MEC557_Weather.ipynb\" target=\"_parent\"><img src=\"https://colab.research.google.com/assets/colab-badge.svg\" alt=\"Open In Colab\"/></a>"
      ]
    },
    {
      "cell_type": "markdown",
      "id": "f1ae401f",
      "metadata": {
        "id": "f1ae401f"
      },
      "source": [
        "# MEC 557 - Apprentissage Automatique pour le climat et l\"énérgie (2023-2024)\n",
        "- **Vo Thoi Nay**, nay.vo-thoi@polytechnique.edu\n",
        "- **Zhichuan Ma**, zhichuan.ma@polytechnique.edu\n",
        "\n",
        "[![Binder](https://mybinder.org/badge_logo.svg)](https://mybinder.org/v2/git/https%3A%2F%2Fgitlab.in2p3.fr%2Fenergy4climate%2Fpublic%2Feducation%2Fmachine_learning_for_climate_and_energy/master?filepath=book%2Fnotebooks%2Fprojects.ipynb)"
      ]
    },
    {
      "cell_type": "markdown",
      "source": [
        "## **Introduction**\n",
        "\n",
        "This project explores the application of machine learning in addressing practical challenges in meteorology, with a focus on a network of five weather stations located in Paris, Brest, London, Marseille, and Berlin. These stations monitor a variety of surface weather variables, including:\n",
        "\n",
        "<center>\n",
        "\n",
        "| Variable | Description                                      |\n",
        "|----------|--------------------------------------------------|\n",
        "| skt      | Skin Temperature                                 |\n",
        "| u10      | 10-meter U Wind Component (wind speed east-west) |\n",
        "| v10      | 10-meter V Wind Component (wind speed north-south)|\n",
        "| t2m      | 2-meter Temperature                              |\n",
        "| d2m      | 2-meter Dew Point Temperature                    |\n",
        "| tcc      | Total Cloud Cover                                |\n",
        "| sp       | Surface Pressure                                 |\n",
        "| tp       | Total Precipitation                              |\n",
        "| ssrd     | Surface Solar Radiation Downwards                |\n",
        "| blh      | Boundary Layer Height                            |\n",
        "\n",
        "</center>\n",
        "\n",
        "The central challenge addressed in this project arises from a malfunction at the Paris weather station, leading to a gap in its data stream. The objective is to investigate the feasibility of using machine learning techniques to infer the weather conditions in Paris based on the data from the remaining stations in Brest, London, Marseille, and Berlin. This approach holds significant value, as it offers a potential solution for maintaining continuous weather monitoring in the event of individual station outages.\n",
        "\n",
        "The project will likely involve analyzing correlations and patterns between the weather conditions reported by these stations and developing a predictive model to estimate the missing data for Paris. The key challenge is to accurately model the complex meteorological phenomena, providing reliable predictions in the absence of direct data from the Paris station."
      ],
      "metadata": {
        "id": "ktfCul1EBJIT"
      },
      "id": "ktfCul1EBJIT"
    },
    {
      "cell_type": "markdown",
      "source": [
        "### **Essential Preparation Guidelines (must read)**\n",
        "Our project embraces collaboration through the use of Git and Google Colab, two powerful tools that enhance our team's efficiency and workflow. We have chosen to store our project data on Google Drive for easy access and sharing among team members.\n",
        "\n",
        "To seamlessly integrate with our project setup, we recommend the following steps:\n",
        "\n",
        "1.   **Download the Dataset**: First, obtain the dataset from our Moodle course page. This dataset forms the foundation of our analyses and experiments.\n",
        "2.   **Create a Dedicated Project Folder**: In your Google Drive, establish a folder named **\"PHY557_Project\"**. This dedicated space will help you organize and manage project files effectively.\n",
        "3.   **Upload the Dataset to the Folder**: Place the downloaded dataset into the \"PHY557_Project\" folder. This step ensures that all project-related data is centralized and accessible within your Google Drive.\n",
        "\n",
        "Here is a example relevant path: \"/content/drive/My Drive/PHY557_Project/weather/paris\"\n",
        "\n",
        "\n",
        "\n",
        "\n",
        "\n",
        "\n"
      ],
      "metadata": {
        "id": "uQkcTUJfdtVI"
      },
      "id": "uQkcTUJfdtVI"
    },
    {
      "cell_type": "code",
      "source": [
        "from google.colab import drive\n",
        "drive.mount('/content/drive')"
      ],
      "metadata": {
        "colab": {
          "base_uri": "https://localhost:8080/"
        },
        "id": "EfvEaXMCKKvc",
        "outputId": "748c8368-912c-48e1-f291-05830afd765e"
      },
      "id": "EfvEaXMCKKvc",
      "execution_count": 1,
      "outputs": [
        {
          "output_type": "stream",
          "name": "stdout",
          "text": [
            "Mounted at /content/drive\n"
          ]
        }
      ]
    },
    {
      "cell_type": "markdown",
      "id": "b309f16e",
      "metadata": {
        "id": "b309f16e"
      },
      "source": [
        "### **Weather Station**"
      ]
    },
    {
      "cell_type": "markdown",
      "id": "912d896e",
      "metadata": {
        "id": "912d896e"
      },
      "source": [
        "<img alt=\"weather\" src=\"https://github.com/VTNay/MEC557-Project/blob/main/images/map.png?raw=1\" width=400>"
      ]
    },
    {
      "cell_type": "markdown",
      "id": "2372e364",
      "metadata": {
        "id": "2372e364"
      },
      "source": [
        "- Suppose there are 5 weather stations that monitor the weather: Paris, Brest, London, Marseille and Berlin.\n",
        "- The weather station in Paris breaks down\n",
        "- Can we use the other stations to infer the weather in Paris"
      ]
    },
    {
      "cell_type": "markdown",
      "id": "66ae5a0d",
      "metadata": {
        "id": "66ae5a0d"
      },
      "source": [
        "### **Glimpse on the dataset**\n",
        "\n",
        "<img alt=\"weather\" src=\"https://github.com/VTNay/MEC557-Project/blob/main/images/annual_temperature.png?raw=1\" width=400>\n",
        "\n",
        "- Surface variables: skt, u10, v10, t2m, d2m, tcc, sp, tp, ssrd, blh\n",
        "- Temporal resolution: hourly\n",
        "- Spatial resolution: N/A"
      ]
    },
    {
      "cell_type": "markdown",
      "source": [
        "## **Methodology**\n",
        "\n",
        "<img alt=\"weather\" src=\"https://github.com/VTNay/MEC557-Project/blob/main/images/methodology (2).png?raw=1\" width=1000>\n",
        "\n",
        "In our project, which involves a comprehensive dataset with 40 distinct features, our primary goal is to develop and refine models capable of predicting weather statistics for Paris. To achieve this, we have devised a structured approach for our data and model management:\n",
        "\n",
        "1. **Dataset Division**: We start by splitting our dataset into two distinct parts. The first part is dedicated to model training, where we employ various strategies, including cross-validation, to identify the most effective model. Cross-validation helps in assessing the model's performance more reliably by using different subsets of the training data.\n",
        "\n",
        "2. **Model Training and Selection**: During the training phase, several models are trained and evaluated. We utilize cross-validation to determine the best model based on its performance across different segments of our training data. This process ensures that the best hyperparameter is determined.\n",
        "\n",
        "3. **Performance Testing**: The second part of the dataset is reserved for testing. This phase is crucial as it provides an unbiased evaluation of the model's performance. By applying the model to unseen data, we can gauge its effectiveness in real-world scenarios.\n",
        "\n",
        "4. **Comparative Analysis**: Finally, we conduct a comprehensive comparison of the models' performances. This involves analyzing various metrics and aspects of each model to understand their strengths and weaknesses in predicting Paris weather statistics. The outcome of this comparison will guide us in selecting the most suitable model for our objective."
      ],
      "metadata": {
        "id": "oGtaEIkDApFH"
      },
      "id": "oGtaEIkDApFH"
    },
    {
      "cell_type": "markdown",
      "source": [
        "## **Data Processing and Cleaning**\n",
        "\n",
        "*   List item\n",
        "*   List item\n",
        "\n",
        "\n",
        "\n",
        "This section focuses on the initial steps of handling our dataset: reading and storing the data followed by thorough cleaning. We place a special emphasis on identifying and addressing two primary issues - the presence of NaN (Not a Number) values and inconsistencies in dataset lengths across different cities. These steps are crucial to ensure the integrity and reliability of our analysis."
      ],
      "metadata": {
        "id": "uc5X9c9COuey"
      },
      "id": "uc5X9c9COuey"
    },
    {
      "cell_type": "code",
      "source": [
        "from pathlib import Path\n",
        "import numpy as np\n",
        "import pandas as pd\n",
        "import xarray as xr\n",
        "from functools import reduce\n",
        "from matplotlib import pyplot as plt\n",
        "from sklearn import preprocessing\n",
        "\n",
        "# Define file paths for weather data of different cities\n",
        "weather_paths = {\n",
        "    'Paris': Path('/content/drive/My Drive/PHY557_Project/weather/paris'),\n",
        "    'Brest': Path('/content/drive/My Drive/PHY557_Project/weather/brest'),\n",
        "    'London': Path('/content/drive/My Drive/PHY557_Project/weather/london'),\n",
        "    'Marseille': Path('/content/drive/My Drive/PHY557_Project/weather/marseille'),\n",
        "    'Berlin': Path('/content/drive/My Drive/PHY557_Project/weather/berlin')\n",
        "}\n",
        "\n",
        "# Define the names of the files for each weather parameter\n",
        "file_names = {\n",
        "    't2m': 't2m.nc', 'blh': 'blh.nc', 'd2m': 'd2m.nc', 'skt': 'skt.nc',\n",
        "    'sp': 'sp.nc', 'ssrd': 'ssrd.nc', 'tcc': 'tcc.nc', 'tp': 'tp.nc',\n",
        "    'u10': 'u10.nc', 'v10': 'v10.nc'\n",
        "}\n",
        "\n",
        "# Initialize a dictionary to store weather data for each city\n",
        "weather_data = {city: {} for city in weather_paths}\n",
        "\n",
        "# Load and preprocess the data for each city\n",
        "for city, path in weather_paths.items():\n",
        "    for param, file_name in file_names.items():\n",
        "        # Load the dataset\n",
        "        dataset = xr.open_dataset(Path(path, file_name)).to_dataframe()\n",
        "        # Drop unnecessary levels based on the parameter\n",
        "        if param in ['d2m', 'blh']:\n",
        "            dataset = dataset.droplevel([1, 2])\n",
        "        else:\n",
        "            dataset = dataset.droplevel([0, 1])\n",
        "        # Store the processed data\n",
        "        weather_data[city][param] = dataset\n",
        "    # Merge data from different parameters into a single dataframe\n",
        "    weather_data[city] = reduce(lambda left, right: pd.merge(\n",
        "        left, right, left_index=True, right_index=True, how='outer'),\n",
        "        weather_data[city].values())\n",
        "\n",
        "# Function to rename columns with city prefix\n",
        "def rename_columns(df, prefix):\n",
        "    \"\"\"Rename columns with a city prefix.\"\"\"\n",
        "    return df.rename(columns={col: f\"{prefix}_{col}\" for col in df.columns})\n",
        "\n",
        "# Rename columns and concatenate data from all cities\n",
        "combined_data = pd.concat([rename_columns(weather_data[city], city) for city in weather_data], axis=1)\n",
        "\n",
        "# Data cleaning\n",
        "# Drop rows with missing values\n",
        "combined_data = combined_data.dropna()\n",
        "\n",
        "# Split the combined data into features (X) and target (y)\n",
        "X_raw = combined_data.iloc[:,10:]  # Features from all cities except Paris\n",
        "y = combined_data['Paris_t2m']  # Target: temperature in Paris\n",
        "\n",
        "# Assuming X_raw and y are your raw data arrays\n",
        "X_normalized = (X_raw - X_raw.mean())/X_raw.std()\n",
        "y_normalized = (y - y.mean())/y.std()\n",
        "\n",
        "\n",
        "# Calculate the number of years in the dataset\n",
        "n_years = y_normalized.index.year.max() - y_normalized.index.year.min() + 1\n",
        "\n",
        "print(X_normalized.columns)\n",
        "print(y)\n",
        "print('Number of years: {}'.format(n_years))"
      ],
      "metadata": {
        "colab": {
          "base_uri": "https://localhost:8080/"
        },
        "id": "_AFDHEOp8-F1",
        "outputId": "80980478-8c32-4c77-978e-a08f9bc619b1"
      },
      "id": "_AFDHEOp8-F1",
      "execution_count": 2,
      "outputs": [
        {
          "output_type": "stream",
          "name": "stdout",
          "text": [
            "Index(['Brest_t2m', 'Brest_blh', 'Brest_d2m', 'Brest_skt', 'Brest_sp',\n",
            "       'Brest_ssrd', 'Brest_tcc', 'Brest_tp', 'Brest_u10', 'Brest_v10',\n",
            "       'London_t2m', 'London_blh', 'London_d2m', 'London_skt', 'London_sp',\n",
            "       'London_ssrd', 'London_tcc', 'London_tp', 'London_u10', 'London_v10',\n",
            "       'Marseille_t2m', 'Marseille_blh', 'Marseille_d2m', 'Marseille_skt',\n",
            "       'Marseille_sp', 'Marseille_ssrd', 'Marseille_tcc', 'Marseille_tp',\n",
            "       'Marseille_u10', 'Marseille_v10', 'Berlin_t2m', 'Berlin_blh',\n",
            "       'Berlin_d2m', 'Berlin_skt', 'Berlin_sp', 'Berlin_ssrd', 'Berlin_tcc',\n",
            "       'Berlin_tp', 'Berlin_u10', 'Berlin_v10'],\n",
            "      dtype='object')\n",
            "time\n",
            "1980-01-01 07:00:00    272.039154\n",
            "1980-01-01 08:00:00    272.022308\n",
            "1980-01-01 09:00:00    271.751892\n",
            "1980-01-01 10:00:00    274.506470\n",
            "1980-01-01 11:00:00    275.079346\n",
            "                          ...    \n",
            "2019-12-31 19:00:00    272.958130\n",
            "2019-12-31 20:00:00    272.240845\n",
            "2019-12-31 21:00:00    271.729919\n",
            "2019-12-31 22:00:00    273.190796\n",
            "2019-12-31 23:00:00    272.771423\n",
            "Freq: H, Name: Paris_t2m, Length: 350633, dtype: float32\n",
            "Number of years: 40\n"
          ]
        }
      ]
    },
    {
      "cell_type": "markdown",
      "source": [
        "## **Reducing the Dimension**\n",
        "The necessity to reduce the dimensions of our feature set is primarily driven by constraints in available RAM. Given the extensive volume of our dataset, directly applying high-degree polynomial regression (such as degree = 3) is not viable due to the significant computational resources it requires.\n",
        "\n",
        "To address this challenge, we have adopted two distinct methods: Principal Component Analysis (PCA) and Lasso Regression."
      ],
      "metadata": {
        "id": "JHTmbCLUJkWl"
      },
      "id": "JHTmbCLUJkWl"
    },
    {
      "cell_type": "markdown",
      "source": [
        "### **PCA**\n",
        "\n",
        "PCA is a powerful technique for dimensionality reduction. It works by identifying the most significant features in terms of variance and transforming the original features into a new set of uncorrelated features (principal components). This process not only reduces the computational load but also retains the most crucial information contained in the data."
      ],
      "metadata": {
        "id": "E8xgsWcB_n48"
      },
      "id": "E8xgsWcB_n48"
    },
    {
      "cell_type": "code",
      "source": [
        "from sklearn.decomposition import PCA\n",
        "import pandas as pd\n",
        "\n",
        "def apply_pca(X, n_components=20):\n",
        "    \"\"\"\n",
        "    Applies PCA to reduce the number of features.\n",
        "    Args:\n",
        "    X (DataFrame): The input features dataset.\n",
        "    n_components (int): The number of principal components to keep.\n",
        "    Returns:\n",
        "    DataFrame: Transformed feature set with reduced dimensions.\n",
        "    \"\"\"\n",
        "    # Initialize PCA\n",
        "    pca = PCA(n_components=n_components)\n",
        "    # Fit PCA on the dataset\n",
        "    pca.fit(X)\n",
        "    # Transform the dataset\n",
        "    X_pca = pca.transform(X)\n",
        "    # Convert to DataFrame for easier handling\n",
        "    X_pca_df = pd.DataFrame(X_pca, columns=[f'PC{i+1}' for i in range(n_components)])\n",
        "    return X_pca_df"
      ],
      "metadata": {
        "id": "Xqd3_wzmIcif"
      },
      "id": "Xqd3_wzmIcif",
      "execution_count": 3,
      "outputs": []
    },
    {
      "cell_type": "markdown",
      "source": [
        "### **Lasso**\n",
        "Lasso is a linear model that uses this cost function:\n",
        "\n",
        "$$\n",
        "\\frac{1}{2N_{\\text{training}}} \\sum_{i=1}^{N_{\\text{training}}} \\left( y^{(i)}_{\\text{real}} - y^{(i)}_{\\text{pred}} \\right)^2 + \\alpha \\sum_{j=1}^{n} |a_j|\n",
        "$$\n",
        "\n",
        "$a_j$ is the coefficient of the j-th feature. The final term is called $l_1$ penalty and $\\alpha$ is a hyperparameter that tunes the intensity of this penalty term. The higher the coefficient of a feature, the higher the value of the cost function. So, the idea of Lasso regression is to optimize the cost function reducing the absolute values of the coefficients.\n"
      ],
      "metadata": {
        "id": "1Fa2OtwzAsbH"
      },
      "id": "1Fa2OtwzAsbH"
    },
    {
      "cell_type": "code",
      "source": [
        "from sklearn.linear_model import LassoCV\n",
        "import pandas as pd\n",
        "\n",
        "def apply_lasso(X, y, n_features_to_select):\n",
        "    \"\"\"\n",
        "    Applies Lasso regression to select features.\n",
        "\n",
        "    Args:\n",
        "    X (DataFrame): The input features dataset.\n",
        "    y (Series): The target dataset.\n",
        "    n_features_to_select (int): The desired number of features to select.\n",
        "\n",
        "    Returns:\n",
        "    DataFrame: The reduced feature set.\n",
        "    List of tuples: The list of features with their corresponding absolute coefficient values.\n",
        "    \"\"\"\n",
        "    # Initialize LassoCV with cross-validation to find the optimal alpha\n",
        "    lasso = LassoCV(cv=5)\n",
        "\n",
        "    # Fit LassoCV on the dataset\n",
        "    lasso.fit(X, y)\n",
        "\n",
        "    # Get the coefficients\n",
        "    coef = lasso.coef_\n",
        "\n",
        "    # Combine features with their coefficients\n",
        "    feature_coef = list(zip(X.columns, abs(coef)))\n",
        "\n",
        "    # Sort features by the absolute value of their coefficient\n",
        "    feature_coef = sorted(feature_coef, key=lambda x: x[1], reverse=True)\n",
        "\n",
        "    # Select the top 'n_features_to_select'\n",
        "    selected_features = [feature for feature, _ in feature_coef[:n_features_to_select]]\n",
        "\n",
        "    return X[selected_features], feature_coef"
      ],
      "metadata": {
        "id": "Qtky8WbuJmVG"
      },
      "id": "Qtky8WbuJmVG",
      "execution_count": 4,
      "outputs": []
    },
    {
      "cell_type": "markdown",
      "source": [
        "## **Choose the number of features to reduce**\n",
        "\n",
        "We developed the following code to strategically determine the number of features to reduce our dataset to."
      ],
      "metadata": {
        "id": "JUBVcKCFK0sI"
      },
      "id": "JUBVcKCFK0sI"
    },
    {
      "cell_type": "code",
      "source": [
        "X_lasso, feature_coef = apply_lasso(X_normalized, y_normalized, 20)\n",
        "# Convert the list of tuples to a DataFrame for easier plotting\n",
        "features, coefficients = zip(*feature_coef)\n",
        "df = pd.DataFrame({'Feature': features, 'Coefficient': coefficients})\n",
        "\n",
        "# Determine the threshold for the top 3 features\n",
        "top_20_threshold = df['Coefficient'].nlargest(21).min()\n",
        "\n",
        "# Create a color list, where features above the threshold are 'red' and others are 'blue'\n",
        "colors = ['blue' if x > top_20_threshold else 'red' for x in df['Coefficient']]\n",
        "\n",
        "# Plot the horizontal bar plot\n",
        "plt.figure(figsize=(8, 5.5))\n",
        "bars = plt.barh(df['Feature'], df['Coefficient'], color=colors)\n",
        "\n",
        "# Add a vertical line for the threshold of the top 3 features\n",
        "plt.axvline(x=top_20_threshold, color='green', linestyle='--', linewidth=2)\n",
        "\n",
        "# Add a horizontal line at the position of the 3rd feature\n",
        "top_20_feature_position = df[df['Coefficient'] > top_20_threshold].shape[0]\n",
        "plt.axhline(y=top_20_feature_position-0.5, color='red', linestyle='--', linewidth=2)\n",
        "\n",
        "plt.xlabel('Coefficient Value')\n",
        "plt.yticks(fontsize = 8)\n",
        "plt.title('Feature Importance with Threshold')\n",
        "plt.tight_layout()\n",
        "\n",
        "# Show the plot\n",
        "plt.show()"
      ],
      "metadata": {
        "id": "2ywuZWmYuhTl",
        "outputId": "448fbbd3-213d-4fa1-f370-4dfef8dffe93",
        "colab": {
          "base_uri": "https://localhost:8080/",
          "height": 557
        }
      },
      "id": "2ywuZWmYuhTl",
      "execution_count": 5,
      "outputs": [
        {
          "output_type": "display_data",
          "data": {
            "text/plain": [
              "<Figure size 800x550 with 1 Axes>"
            ],
            "image/png": "[encoded data removed]"
          },
          "metadata": {}
        }
      ]
    },
    {
      "cell_type": "markdown",
      "source": [
        "## **Core Fucntion: poly_ridge**\n",
        "\n",
        "Our project's central analytical component is encapsulated in the poly_ridge function. This function is meticulously designed to perform polynomial regression complemented by Ridge regularization, a method particularly suitable for handling multicollinearity and preventing overfitting in our model."
      ],
      "metadata": {
        "id": "Bg_10e6ephP5"
      },
      "id": "Bg_10e6ephP5"
    },
    {
      "cell_type": "code",
      "source": [
        "from sklearn.model_selection import train_test_split, KFold, cross_val_score\n",
        "from sklearn.linear_model import Ridge\n",
        "from sklearn.preprocessing import PolynomialFeatures\n",
        "from sklearn.pipeline import make_pipeline\n",
        "from sklearn.metrics import mean_squared_error\n",
        "import numpy as np\n",
        "from sklearn.model_selection import TimeSeriesSplit\n",
        "\n",
        "def poly_ridge(degree, X, y, alpha_values, n_splits_cv, test_size):\n",
        "    \"\"\"\n",
        "    Performs polynomial regression with Ridge regularization.\n",
        "\n",
        "    Args:\n",
        "    degree (int): The degree of the polynomial features.\n",
        "    X (DataFrame): The features dataset.\n",
        "    y (Series): The target dataset.\n",
        "    alpha_values (array): Array of alpha values for regularization.\n",
        "    n_splits_cv (int): Number of splits for cross-validation.\n",
        "    test_size (float): The proportion of the dataset to include in the test split.\n",
        "\n",
        "    Returns:\n",
        "    dict: A dictionary containing model performance metrics and optimal parameters.\n",
        "    \"\"\"\n",
        "\n",
        "    # Split the dataset into cross-validation and testing sets\n",
        "    # Calculate the number of years to use for the test set\n",
        "    n_test_years = int(n_years * test_size)\n",
        "    # Define the cutoff year to separate the last 8 years\n",
        "    cutoff_year = y.index.year.max() - (n_test_years - 1)\n",
        "    # Create boolean masks for splitting the data\n",
        "    cv_mask = y.index.year < cutoff_year\n",
        "    test_mask = y.index.year >= cutoff_year\n",
        "\n",
        "    # Split the data into cross-validation and test sets\n",
        "    X_cv = X.loc[cv_mask]\n",
        "    y_cv = y[cv_mask]\n",
        "    X_test = X.loc[test_mask]\n",
        "    y_test = y[test_mask]\n",
        "\n",
        "    # Initialize arrays for storing scores and coefficients\n",
        "    r2_validation = np.empty(len(alpha_values))\n",
        "    # Set up the cross-validation configuration\n",
        "    tscv = TimeSeriesSplit(n_splits=n_splits_cv)\n",
        "\n",
        "    # Loop over different values of alpha (regularization strength)\n",
        "    for i, alpha in enumerate(alpha_values):\n",
        "        # Transform data to include polynomial features, include_bias=False because Ridge has the intercept by default\n",
        "        polynomial_features = PolynomialFeatures(degree=degree, include_bias=False)\n",
        "        # Create a pipeline with polynomial features and ridge regression\n",
        "        model = make_pipeline(polynomial_features, Ridge(alpha=alpha))\n",
        "\n",
        "        # Calculate the mean R^2 score from k-fold cross-validation\n",
        "        r2_validation[i] = cross_val_score(model, X_cv, y_cv, cv=tscv).mean()\n",
        "\n",
        "    # Find the index of the best alpha value\n",
        "    i_best = np.argmax(r2_validation)\n",
        "    alpha_best = alpha_values[i_best]\n",
        "\n",
        "    # Train the model with the best alpha value on the full CV dataset\n",
        "    best_model = make_pipeline(PolynomialFeatures(degree=degree, include_bias=False), Ridge(alpha=alpha_best))\n",
        "    best_model.fit(X_cv, y_cv)\n",
        "\n",
        "    # Calculate R^2 score on the test dataset\n",
        "    r2_test = best_model.score(X_test, y_test)\n",
        "\n",
        "    # Calculate MSE on the test dataset\n",
        "    y_pred = best_model.predict(X_test)\n",
        "    mse_test = mean_squared_error(y_test, y_pred)\n",
        "\n",
        "    # Return a dictionary containing the results\n",
        "    return {\n",
        "        'r2_validation': r2_validation,\n",
        "        'i_best': i_best,\n",
        "        'alpha_best': alpha_best,\n",
        "        'r2_test': r2_test,\n",
        "        'mse_test': mse_test\n",
        "    }"
      ],
      "metadata": {
        "id": "3I5bkqc3BNJW"
      },
      "id": "3I5bkqc3BNJW",
      "execution_count": 6,
      "outputs": []
    },
    {
      "cell_type": "markdown",
      "source": [
        "## **Results**"
      ],
      "metadata": {
        "id": "G5hc8M5tPg2G"
      },
      "id": "G5hc8M5tPg2G"
    },
    {
      "cell_type": "markdown",
      "source": [
        "### **40 features**"
      ],
      "metadata": {
        "id": "d2Zg-7ZPP64u"
      },
      "id": "d2Zg-7ZPP64u"
    },
    {
      "cell_type": "markdown",
      "source": [
        "Due to memory constraints in handling a third-degree polynomial regression with 40 features, we have adjusted our approach to focus exclusively on Ridge regression for linear (first-degree) and second-degree polynomial models."
      ],
      "metadata": {
        "id": "8kDxnatnP-jV"
      },
      "id": "8kDxnatnP-jV"
    },
    {
      "cell_type": "code",
      "source": [
        "alpha_values_40 =np.logspace(1, 3, 50)"
      ],
      "metadata": {
        "id": "VOacHrVaTHEc"
      },
      "id": "VOacHrVaTHEc",
      "execution_count": 23,
      "outputs": []
    },
    {
      "cell_type": "code",
      "source": [
        "# Degree 1\n",
        "results_40_linear = poly_ridge(degree=1, X=X_normalized, y=y_normalized, alpha_values=alpha_values_40, n_splits_cv=5, test_size=0.25)\n",
        "print(results_40_linear)"
      ],
      "metadata": {
        "id": "fM1GO0iWvLN-",
        "outputId": "cb7f02f8-9ada-4abd-faf6-796b3d3d466f",
        "colab": {
          "base_uri": "https://localhost:8080/"
        }
      },
      "id": "fM1GO0iWvLN-",
      "execution_count": 25,
      "outputs": [
        {
          "output_type": "stream",
          "name": "stdout",
          "text": [
            "{'r2_validation': array([0.91532806, 0.91532901, 0.91532996, 0.91533105, 0.91533222,\n",
            "       0.91533348, 0.91533479, 0.91533627, 0.91533788, 0.91533962,\n",
            "       0.91534143, 0.9153434 , 0.91534556, 0.91534775, 0.9153502 ,\n",
            "       0.91535269, 0.91535534, 0.91535815, 0.91536108, 0.91536403,\n",
            "       0.91536719, 0.91537036, 0.9153735 , 0.91537669, 0.9153798 ,\n",
            "       0.91538274, 0.91538545, 0.91538785, 0.91538984, 0.91539116,\n",
            "       0.91539184, 0.91539155, 0.91539016, 0.91538734, 0.91538292,\n",
            "       0.91537648, 0.91536774, 0.91535633, 0.91534172, 0.91532348,\n",
            "       0.91530123, 0.91527419, 0.91524199, 0.91520367, 0.91515893,\n",
            "       0.91510693, 0.91504699, 0.91497832, 0.91490023, 0.91481206]), 'i_best': 30, 'alpha_best': 167.68329368110065, 'r2_test': 0.9142250193257159, 'mse_test': 0.08770811}\n"
          ]
        }
      ]
    },
    {
      "cell_type": "code",
      "source": [
        "# Degree 2\n",
        "results_40_second = poly_ridge(degree=2, X=X_normalized, y=y_normalized, alpha_values=alpha_values_40, n_splits_cv=5, test_size=0.25)"
      ],
      "metadata": {
        "id": "dMSyPMaE05y-"
      },
      "id": "dMSyPMaE05y-",
      "execution_count": 26,
      "outputs": []
    },
    {
      "cell_type": "code",
      "source": [
        "print(results_40_second)"
      ],
      "metadata": {
        "id": "r2emj51AKVAF",
        "outputId": "e1d8143f-a754-4333-8d72-e31719bfc873",
        "colab": {
          "base_uri": "https://localhost:8080/"
        }
      },
      "id": "r2emj51AKVAF",
      "execution_count": 27,
      "outputs": [
        {
          "output_type": "stream",
          "name": "stdout",
          "text": [
            "{'r2_validation': array([0.93219105, 0.93220437, 0.93221974, 0.93223558, 0.93225223,\n",
            "       0.93226773, 0.93228767, 0.9323057 , 0.93232507, 0.93234312,\n",
            "       0.93236526, 0.93238554, 0.93240831, 0.93243135, 0.93245453,\n",
            "       0.9324769 , 0.93250178, 0.93252599, 0.93255148, 0.93257616,\n",
            "       0.93260066, 0.93262562, 0.93265014, 0.93267535, 0.93270023,\n",
            "       0.93272379, 0.9327461 , 0.93276714, 0.932788  , 0.93280689,\n",
            "       0.93282393, 0.93283863, 0.93285123, 0.93286142, 0.93286792,\n",
            "       0.93287107, 0.93287086, 0.93286524, 0.93285545, 0.93284013,\n",
            "       0.93281987, 0.93279354, 0.9327597 , 0.93271941, 0.93267158,\n",
            "       0.93261631, 0.93255164, 0.9324785 , 0.93239663, 0.93230481]), 'i_best': 35, 'alpha_best': 268.26957952797244, 'r2_test': 0.9356092979151445, 'mse_test': 0.06584189}\n"
          ]
        }
      ]
    },
    {
      "cell_type": "markdown",
      "source": [
        "### **20 features**"
      ],
      "metadata": {
        "id": "j9YEyiQZRTJh"
      },
      "id": "j9YEyiQZRTJh"
    },
    {
      "cell_type": "code",
      "source": [
        "alpha_values_20 =np.logspace(2, 4, 100)"
      ],
      "metadata": {
        "id": "GKhmDmP8ZYI3"
      },
      "id": "GKhmDmP8ZYI3",
      "execution_count": 7,
      "outputs": []
    },
    {
      "cell_type": "markdown",
      "source": [
        "### **Getting the results for 20 features (PCA)**"
      ],
      "metadata": {
        "id": "rfYL7zPjTknp"
      },
      "id": "rfYL7zPjTknp"
    },
    {
      "cell_type": "code",
      "source": [
        "X_20_PCA = apply_pca(X_normalized, 20)\n",
        "alpha_values_20_PCA =np.logspace(1, 4, 100)"
      ],
      "metadata": {
        "id": "3V0iUmfWTpn-"
      },
      "id": "3V0iUmfWTpn-",
      "execution_count": 8,
      "outputs": []
    },
    {
      "cell_type": "code",
      "source": [
        "# Degree 1\n",
        "results_20_linear_PCA = poly_ridge(degree=1, X=X_20_PCA, y=y_normalized, alpha_values=alpha_values_20_PCA, n_splits_cv=5, test_size=0.25)\n",
        "print(results_20_linear_PCA)"
      ],
      "metadata": {
        "id": "J729HpmqVcoF",
        "outputId": "81f3930c-8777-4fb8-c333-428032e52d1d",
        "colab": {
          "base_uri": "https://localhost:8080/"
        }
      },
      "id": "J729HpmqVcoF",
      "execution_count": 9,
      "outputs": [
        {
          "output_type": "stream",
          "name": "stdout",
          "text": [
            "{'r2_validation': array([0.8995221 , 0.89952209, 0.8995221 , 0.89952209, 0.89952209,\n",
            "       0.8995221 , 0.8995221 , 0.8995221 , 0.89952209, 0.8995221 ,\n",
            "       0.8995221 , 0.8995221 , 0.8995221 , 0.8995221 , 0.8995221 ,\n",
            "       0.8995221 , 0.8995221 , 0.8995221 , 0.8995221 , 0.8995221 ,\n",
            "       0.8995221 , 0.8995221 , 0.8995221 , 0.8995221 , 0.8995221 ,\n",
            "       0.8995221 , 0.8995221 , 0.89952209, 0.89952209, 0.89952208,\n",
            "       0.89952208, 0.89952208, 0.89952206, 0.89952205, 0.89952205,\n",
            "       0.89952203, 0.89952202, 0.899522  , 0.89952198, 0.89952196,\n",
            "       0.89952193, 0.8995219 , 0.89952185, 0.89952181, 0.89952175,\n",
            "       0.8995217 , 0.89952163, 0.89952155, 0.89952145, 0.89952134,\n",
            "       0.89952121, 0.89952107, 0.89952089, 0.8995207 , 0.89952048,\n",
            "       0.89952022, 0.89951992, 0.89951958, 0.89951918, 0.89951873,\n",
            "       0.8995182 , 0.8995176 , 0.89951692, 0.89951612, 0.89951522,\n",
            "       0.89951419, 0.89951301, 0.89951166, 0.89951011, 0.89950834,\n",
            "       0.89950633, 0.89950403, 0.8995014 , 0.89949843, 0.89949504,\n",
            "       0.89949118, 0.89948681, 0.89948182, 0.89947618, 0.8994698 ,\n",
            "       0.89946256, 0.89945438, 0.89944514, 0.89943471, 0.89942294,\n",
            "       0.89940969, 0.89939478, 0.89937801, 0.8993592 , 0.89933808,\n",
            "       0.89931443, 0.89928796, 0.89925837, 0.89922534, 0.89918848,\n",
            "       0.89914744, 0.89910175, 0.89905097, 0.89899459, 0.89893207]), 'i_best': 17, 'alpha_best': 32.74549162877728, 'r2_test': 0.8940046194068326, 'mse_test': 0.10838423}\n"
          ]
        }
      ]
    },
    {
      "cell_type": "code",
      "source": [
        "# Degree 2\n",
        "results_20_second_PCA = poly_ridge(degree=2, X=X_20_PCA, y=y_normalized, alpha_values=alpha_values_20_PCA, n_splits_cv=5, test_size=0.25)\n",
        "print(results_20_second_PCA)"
      ],
      "metadata": {
        "id": "zd63YBrWVrvO",
        "outputId": "c06d088b-2dd4-4458-acd7-0cb6c0ddfd4a",
        "colab": {
          "base_uri": "https://localhost:8080/"
        }
      },
      "id": "zd63YBrWVrvO",
      "execution_count": 10,
      "outputs": [
        {
          "output_type": "stream",
          "name": "stdout",
          "text": [
            "{'r2_validation': array([0.91019398, 0.91019433, 0.9101947 , 0.91019507, 0.91019549,\n",
            "       0.91019593, 0.91019645, 0.91019698, 0.9101975 , 0.91019809,\n",
            "       0.91019873, 0.91019944, 0.91020018, 0.91020097, 0.91020181,\n",
            "       0.9102027 , 0.91020365, 0.91020469, 0.91020582, 0.91020697,\n",
            "       0.91020825, 0.91020963, 0.91021108, 0.91021261, 0.91021428,\n",
            "       0.91021605, 0.91021798, 0.91021998, 0.91022213, 0.91022447,\n",
            "       0.91022694, 0.91022961, 0.91023242, 0.91023543, 0.91023869,\n",
            "       0.91024206, 0.91024574, 0.91024964, 0.91025377, 0.91025822,\n",
            "       0.91026293, 0.91026791, 0.91027327, 0.9102789 , 0.91028494,\n",
            "       0.91029129, 0.91029813, 0.91030529, 0.9103129 , 0.91032095,\n",
            "       0.9103295 , 0.91033845, 0.91034797, 0.91035794, 0.91036853,\n",
            "       0.91037963, 0.91039128, 0.91040354, 0.91041633, 0.91042979,\n",
            "       0.91044378, 0.91045842, 0.91047366, 0.91048946, 0.91050587,\n",
            "       0.91052283, 0.91054034, 0.91055839, 0.91057689, 0.91059583,\n",
            "       0.91061512, 0.91063475, 0.91065461, 0.91067462, 0.91069467,\n",
            "       0.91071466, 0.91073446, 0.91075388, 0.91077284, 0.91079112,\n",
            "       0.91080853, 0.91082487, 0.91083988, 0.91085335, 0.91086497,\n",
            "       0.91087443, 0.91088147, 0.91088572, 0.91088681, 0.91088433,\n",
            "       0.91087789, 0.91086703, 0.91085124, 0.91083005, 0.91080289,\n",
            "       0.91076916, 0.91072821, 0.91067944, 0.91062207, 0.9105553 ]), 'i_best': 88, 'alpha_best': 4641.588833612782, 'r2_test': 0.9089493060883808, 'mse_test': 0.09310272}\n"
          ]
        }
      ]
    },
    {
      "cell_type": "code",
      "source": [
        "# Degree 2 with alpha = 0\n",
        "results_20_second_PCA_0 = poly_ridge(degree=2, X=X_20_PCA, y=y_normalized, alpha_values= np.zeros(1), n_splits_cv=5, test_size=0.25)\n",
        "print(results_20_second_PCA_0)"
      ],
      "metadata": {
        "id": "CvAxCoaMfhTJ",
        "outputId": "0a7a0af3-5668-489e-e952-f22212ba7d87",
        "colab": {
          "base_uri": "https://localhost:8080/"
        }
      },
      "id": "CvAxCoaMfhTJ",
      "execution_count": 11,
      "outputs": [
        {
          "output_type": "stream",
          "name": "stdout",
          "text": [
            "{'r2_validation': array([0.91018919]), 'i_best': 0, 'alpha_best': 0.0, 'r2_test': 0.9089060771408316, 'mse_test': 0.09314693}\n"
          ]
        }
      ]
    },
    {
      "cell_type": "code",
      "source": [
        "# Degree 3\n",
        "results_20_third_PCA = poly_ridge(degree=3, X=X_20_PCA, y=y_normalized, alpha_values=alpha_values_20_PCA, n_splits_cv=5, test_size=0.25)"
      ],
      "metadata": {
        "id": "7GRZVCcFVz-4"
      },
      "id": "7GRZVCcFVz-4",
      "execution_count": null,
      "outputs": []
    },
    {
      "cell_type": "code",
      "source": [
        "print(results_20_third_PCA)"
      ],
      "metadata": {
        "colab": {
          "base_uri": "https://localhost:8080/"
        },
        "id": "rhpO-AiaJ2j7",
        "outputId": "5b9d4b87-4ecb-48f6-ff63-af002bbe945e"
      },
      "id": "rhpO-AiaJ2j7",
      "execution_count": 13,
      "outputs": [
        {
          "metadata": {
            "tags": null
          },
          "name": "stdout",
          "output_type": "stream",
          "text": [
            "{'r2_validation': array([0.90664791, 0.90665329, 0.90665677, 0.90666294, 0.90667046,\n",
            "       0.90667531, 0.90668272, 0.90668767, 0.90669734, 0.90670559,\n",
            "       0.90671451, 0.90672586, 0.90673476, 0.90674542, 0.90675782,\n",
            "       0.90676872, 0.90678286, 0.9067981 , 0.90681195, 0.90683125,\n",
            "       0.90684404, 0.90686442, 0.90687948, 0.90689878, 0.90691863,\n",
            "       0.90694051, 0.90696306, 0.90698974, 0.90701219, 0.90704139,\n",
            "       0.90707029, 0.90710149, 0.90712946, 0.90716218, 0.90719584,\n",
            "       0.90723511, 0.90727304, 0.90731365, 0.90735533, 0.90740036,\n",
            "       0.90744399, 0.90749321, 0.90754354, 0.90759362, 0.9076488 ,\n",
            "       0.90770636, 0.90776437, 0.90782569, 0.90789018, 0.90795691,\n",
            "       0.9080246 , 0.90809364, 0.90816742, 0.9082413 , 0.90831684,\n",
            "       0.90839528, 0.90847572, 0.90855816, 0.90864117, 0.90872741,\n",
            "       0.9088134 , 0.90890184, 0.90898888, 0.90907812, 0.90916895,\n",
            "       0.90925744, 0.90934932, 0.90943862, 0.90952825, 0.90961449,\n",
            "       0.90970117, 0.90978751, 0.90986968, 0.90995121, 0.91002953,\n",
            "       0.91010352, 0.91017423, 0.91024175, 0.91030326, 0.91036166,\n",
            "       0.9104126 , 0.91045901, 0.91049843, 0.91053048, 0.91055509,\n",
            "       0.91057054, 0.91057797, 0.91057474, 0.91056157, 0.9105375 ,\n",
            "       0.9105017 , 0.91045411, 0.91039279, 0.91031855, 0.91022818,\n",
            "       0.91012326, 0.9100026 , 0.9098644 , 0.90970917, 0.9095356 ]), 'i_best': 86, 'alpha_best': 4037.017258596554, 'r2_test': 0.9156664920971762, 'mse_test': 0.08623415}\n"
          ]
        }
      ]
    },
    {
      "cell_type": "code",
      "source": [
        "# Degree 3 with alpha = 0\n",
        "results_20_third_PCA_0 = poly_ridge(degree=3, X=X_20_PCA, y=y_normalized, alpha_values=np.zeros(1), n_splits_cv=5, test_size=0.25)"
      ],
      "metadata": {
        "id": "tmCNkyM3fnXa"
      },
      "id": "tmCNkyM3fnXa",
      "execution_count": null,
      "outputs": []
    },
    {
      "cell_type": "code",
      "source": [
        "print(results_20_third_PCA_0)"
      ],
      "metadata": {
        "id": "CqOSpW5X2ll3",
        "outputId": "7cb68930-058b-4369-bc4f-1de20f8a0508",
        "colab": {
          "base_uri": "https://localhost:8080/"
        }
      },
      "id": "CqOSpW5X2ll3",
      "execution_count": 15,
      "outputs": [
        {
          "output_type": "stream",
          "name": "stdout",
          "text": [
            "{'r2_validation': array([0.90657425]), 'i_best': 0, 'alpha_best': 0.0, 'r2_test': 0.9157459490525109, 'mse_test': 0.08615291}\n"
          ]
        }
      ]
    },
    {
      "cell_type": "markdown",
      "source": [
        "### **Getting the results for 20 features (Lasso)**"
      ],
      "metadata": {
        "id": "LbMFHrQtZ8eS"
      },
      "id": "LbMFHrQtZ8eS"
    },
    {
      "cell_type": "code",
      "source": [
        "X_20_Lasso, feature_coef = apply_lasso(X_normalized, y_normalized, 20)\n",
        "alpha_values_20_Lasso =np.logspace(1, 4, 100)"
      ],
      "metadata": {
        "id": "lxGitrO-ge60"
      },
      "id": "lxGitrO-ge60",
      "execution_count": 16,
      "outputs": []
    },
    {
      "cell_type": "code",
      "source": [
        "# Degree 1\n",
        "results_20_linear_Lasso = poly_ridge(degree=1, X=X_20_Lasso, y=y_normalized, alpha_values=alpha_values_20_PCA, n_splits_cv=5, test_size=0.25)\n",
        "print(results_20_linear_Lasso)"
      ],
      "metadata": {
        "id": "ckIuFlpxgke-",
        "outputId": "8f5642f7-a556-451f-f9e6-ea508026e706",
        "colab": {
          "base_uri": "https://localhost:8080/"
        }
      },
      "id": "ckIuFlpxgke-",
      "execution_count": 17,
      "outputs": [
        {
          "output_type": "stream",
          "name": "stdout",
          "text": [
            "{'r2_validation': array([0.91860329, 0.91860367, 0.91860406, 0.91860447, 0.91860493,\n",
            "       0.91860541, 0.91860594, 0.91860647, 0.91860704, 0.91860766,\n",
            "       0.91860828, 0.91860895, 0.91860969, 0.91861043, 0.91861122,\n",
            "       0.91861206, 0.91861289, 0.91861382, 0.91861475, 0.91861572,\n",
            "       0.91861672, 0.91861776, 0.91861884, 0.91861991, 0.91862103,\n",
            "       0.91862215, 0.9186233 , 0.91862443, 0.91862554, 0.9186266 ,\n",
            "       0.91862766, 0.91862864, 0.91862954, 0.91863031, 0.91863096,\n",
            "       0.91863147, 0.91863169, 0.91863174, 0.91863146, 0.91863086,\n",
            "       0.9186298 , 0.91862829, 0.91862622, 0.91862352, 0.91862008,\n",
            "       0.9186158 , 0.91861057, 0.91860429, 0.91859678, 0.91858793,\n",
            "       0.91857757, 0.91856551, 0.91855157, 0.91853555, 0.91851723,\n",
            "       0.91849637, 0.91847276, 0.91844609, 0.91841611, 0.9183825 ,\n",
            "       0.91834499, 0.91830321, 0.91825685, 0.91820553, 0.9181489 ,\n",
            "       0.91808657, 0.91801815, 0.91794322, 0.91786135, 0.91777214,\n",
            "       0.91767513, 0.91756987, 0.91745597, 0.91733293, 0.91720031,\n",
            "       0.91705768, 0.91690461, 0.91674064, 0.91656537, 0.91637841,\n",
            "       0.91617935, 0.91596785, 0.91574356, 0.91550617, 0.91525539,\n",
            "       0.91499096, 0.91471267, 0.91442031, 0.91411372, 0.91379276,\n",
            "       0.91345734, 0.91310737, 0.9127428 , 0.91236361, 0.91196972,\n",
            "       0.91156117, 0.91113792, 0.91069995, 0.91024721, 0.90977962]), 'i_best': 37, 'alpha_best': 132.19411484660287, 'r2_test': 0.9145527898550971, 'mse_test': 0.08737295}\n"
          ]
        }
      ]
    },
    {
      "cell_type": "code",
      "source": [
        "# Degree 2\n",
        "results_20_second_Lasso = poly_ridge(degree=2, X=X_20_Lasso, y=y_normalized, alpha_values=alpha_values_20_Lasso, n_splits_cv=5, test_size=0.25)\n",
        "print(results_20_second_Lasso)"
      ],
      "metadata": {
        "id": "UkkfVVihgp6F",
        "outputId": "06279170-2e4d-4ee2-c59c-496af8a49789",
        "colab": {
          "base_uri": "https://localhost:8080/"
        }
      },
      "id": "UkkfVVihgp6F",
      "execution_count": 18,
      "outputs": [
        {
          "output_type": "stream",
          "name": "stdout",
          "text": [
            "{'r2_validation': array([0.93223144, 0.93223808, 0.93224413, 0.93225085, 0.93225811,\n",
            "       0.93226506, 0.93227296, 0.93228047, 0.9322883 , 0.93229686,\n",
            "       0.93230539, 0.93231419, 0.9323235 , 0.93233322, 0.93234278,\n",
            "       0.93235259, 0.93236272, 0.93237355, 0.93238422, 0.93239531,\n",
            "       0.9324067 , 0.93241849, 0.93243023, 0.93244231, 0.93245488,\n",
            "       0.93246723, 0.93248009, 0.93249297, 0.93250633, 0.93251942,\n",
            "       0.93253287, 0.93254633, 0.93255973, 0.93257321, 0.93258657,\n",
            "       0.9326    , 0.93261308, 0.93262599, 0.93263853, 0.93265096,\n",
            "       0.93266271, 0.93267389, 0.93268437, 0.93269412, 0.93270298,\n",
            "       0.93271071, 0.93271729, 0.93272246, 0.93272592, 0.9327277 ,\n",
            "       0.93272757, 0.93272537, 0.93272059, 0.93271318, 0.9327029 ,\n",
            "       0.93268933, 0.93267238, 0.93265162, 0.93262677, 0.9325974 ,\n",
            "       0.93256336, 0.93252417, 0.93247951, 0.93242902, 0.93237232,\n",
            "       0.93230897, 0.93223869, 0.9321611 , 0.93207578, 0.93198235,\n",
            "       0.93188052, 0.9317699 , 0.93165008, 0.93152088, 0.93138185,\n",
            "       0.93123282, 0.93107351, 0.93090363, 0.93072302, 0.93053149,\n",
            "       0.93032888, 0.93011507, 0.92988997, 0.92965343, 0.92940551,\n",
            "       0.92914611, 0.92887522, 0.92859285, 0.92829901, 0.9279937 ,\n",
            "       0.92767691, 0.92734868, 0.92700895, 0.92665769, 0.92629485,\n",
            "       0.92592027, 0.92553388, 0.92513536, 0.92472446, 0.92430085]), 'i_best': 49, 'alpha_best': 305.3855508833416, 'r2_test': 0.9312601962011183, 'mse_test': 0.070289}\n"
          ]
        }
      ]
    },
    {
      "cell_type": "code",
      "source": [
        "# Degree 3\n",
        "results_20_third_Lasso = poly_ridge(degree=3, X=X_20_Lasso, y=y_normalized, alpha_values=alpha_values_20_Lasso, n_splits_cv=5, test_size=0.25)"
      ],
      "metadata": {
        "id": "pTE-K5eZhZyq"
      },
      "id": "pTE-K5eZhZyq",
      "execution_count": null,
      "outputs": []
    },
    {
      "cell_type": "code",
      "source": [
        "print(results_20_third_Lasso)"
      ],
      "metadata": {
        "colab": {
          "base_uri": "https://localhost:8080/"
        },
        "id": "ljLY8vNNLTDC",
        "outputId": "9aa6a360-8b90-4d08-be61-764103e1d281"
      },
      "id": "ljLY8vNNLTDC",
      "execution_count": 20,
      "outputs": [
        {
          "output_type": "stream",
          "name": "stdout",
          "text": [
            "{'r2_validation': array([0.92769869, 0.92770232, 0.9278155 , 0.92789709, 0.92791203,\n",
            "       0.92799665, 0.92806187, 0.92813069, 0.9281882 , 0.92827942,\n",
            "       0.92831644, 0.92844453, 0.92852391, 0.92863522, 0.92869975,\n",
            "       0.9287981 , 0.92891476, 0.92900503, 0.92910918, 0.92919601,\n",
            "       0.92932935, 0.92942552, 0.92953605, 0.92963838, 0.9297502 ,\n",
            "       0.92988103, 0.93000309, 0.93011813, 0.93024899, 0.93036497,\n",
            "       0.93049172, 0.93062593, 0.93075025, 0.93087701, 0.93100286,\n",
            "       0.93112403, 0.93125737, 0.93138155, 0.93150505, 0.93164248,\n",
            "       0.93176692, 0.93188664, 0.93201346, 0.93213602, 0.93225759,\n",
            "       0.93237598, 0.93249757, 0.93260995, 0.93272364, 0.93283321,\n",
            "       0.93294229, 0.93304377, 0.93314584, 0.9332462 , 0.93334349,\n",
            "       0.93343426, 0.93352232, 0.93360542, 0.9336895 , 0.93376774,\n",
            "       0.93384107, 0.93391149, 0.93397878, 0.93404022, 0.93409833,\n",
            "       0.93415168, 0.93420082, 0.93424376, 0.93428379, 0.93431732,\n",
            "       0.93434603, 0.93436869, 0.93438548, 0.9343964 , 0.9343998 ,\n",
            "       0.93439683, 0.93438657, 0.93436853, 0.93434117, 0.93430537,\n",
            "       0.93426038, 0.93420479, 0.93413848, 0.93406101, 0.93397149,\n",
            "       0.93386857, 0.93375166, 0.9336205 , 0.9334733 , 0.93330977,\n",
            "       0.93312855, 0.93292829, 0.93270897, 0.93246835, 0.93220573,\n",
            "       0.93192025, 0.93161076, 0.93127539, 0.93091365, 0.93052423]), 'i_best': 74, 'alpha_best': 1747.5284000076847, 'r2_test': 0.9362194761353464, 'mse_test': 0.065217964}\n"
          ]
        }
      ]
    },
    {
      "cell_type": "markdown",
      "source": [
        "## **Figures Plotting**"
      ],
      "metadata": {
        "id": "0mSPZOGWWAx8"
      },
      "id": "0mSPZOGWWAx8"
    },
    {
      "cell_type": "markdown",
      "source": [
        "### **Plot_2d function**"
      ],
      "metadata": {
        "id": "LO2UTuX2X_jL"
      },
      "id": "LO2UTuX2X_jL"
    },
    {
      "cell_type": "code",
      "source": [
        "import matplotlib.pyplot as plt\n",
        "import numpy as np\n",
        "\n",
        "def plot_3d(models, alpha_values, r2_validation_arrays):\n",
        "    \"\"\"\n",
        "    Plots a 3D of ridge curves of different models .\n",
        "\n",
        "    Parameters:\n",
        "    models (list): A list of models for the X-axis.\n",
        "    alpha_values (array): An array of alpha values for the Y-axis.\n",
        "    r2_validation_arrays (list of arrays): A list of r2_validation for the Z-axis, each corresponding to a model.\n",
        "    \"\"\"\n",
        "    X, Y = np.meshgrid(range(1, len(models) + 1), alpha_values)\n",
        "\n",
        "    fig = plt.figure()\n",
        "    ax = fig.add_subplot(111, projection='3d')\n",
        "\n",
        "    # Set the positions for the labels to be closer\n",
        "    label_positions = np.linspace(1, 1.2, len(labels))\n",
        "    for i, (label, z) in enumerate(zip(models, r2_validation_arrays)):\n",
        "        X = np.full_like(z, label_positions[i])  # Adjusting label positions\n",
        "        Y = alpha_values\n",
        "        ax.scatter(X, np.log10(Y), z, label=models)  # Apply log scale transformation\n",
        "\n",
        "    ax.set_xlabel('Models')\n",
        "    ax.set_ylabel('Alpha Values')\n",
        "    ax.set_zlabel('R2 validation')\n",
        "    ax.set_title('Ridge regression with several models')\n",
        "    ax.set_xticks(label_positions)\n",
        "    ax.set_xticklabels(models)\n",
        "    # Set the y ticks to represent the log scale\n",
        "    y_ticks = np.logspace(np.log10(alpha_values.min()), np.log10(alpha_values.max()), num=5)\n",
        "    ax.set_yticks(np.log10(y_ticks))\n",
        "    ax.set_yticklabels(y_ticks)\n",
        "    plt.show()\n"
      ],
      "metadata": {
        "id": "QFuFVVxvWHNe"
      },
      "id": "QFuFVVxvWHNe",
      "execution_count": null,
      "outputs": []
    },
    {
      "cell_type": "code",
      "source": [
        "import matplotlib.pyplot as plt\n",
        "import numpy as np\n",
        "\n",
        "def plot_2d(models, alpha_values, r2_validation_arrays):\n",
        "    \"\"\"\n",
        "    Plots a 2D of ridge curves of different models .\n",
        "\n",
        "    Parameters:\n",
        "    models (list): A list of models for the X-axis.\n",
        "    alpha_values (array): An array of alpha values for the Y-axis.\n",
        "    r2_validation_arrays (list of arrays): A list of r2_validation for the Z-axis, each corresponding to a model.\n",
        "    \"\"\"\n",
        "    # Set up the plot\n",
        "    fig, ax = plt.subplots()\n",
        "\n",
        "    # Plot each set of data\n",
        "    for i,z in enumerate(r2_validation_arrays):\n",
        "        ax.plot(alpha_values, z, label=f\"{models[i]}\")\n",
        "\n",
        "    ax.set_xscale('log')\n",
        "    ax.set_xlabel('Alpha values')\n",
        "    ax.set_ylabel('R2 validation')\n",
        "    ax.set_title('Ridge regression with several models')\n",
        "    ax.legend(loc='center left', bbox_to_anchor=(1, 0.5), shadow=True, ncol=2)\n",
        "\n",
        "    plt.show()"
      ],
      "metadata": {
        "id": "J7pkhQ2QazTw"
      },
      "id": "J7pkhQ2QazTw",
      "execution_count": 21,
      "outputs": []
    },
    {
      "cell_type": "markdown",
      "source": [
        "### **40 features figures**"
      ],
      "metadata": {
        "id": "bVOiwiHfVSdb"
      },
      "id": "bVOiwiHfVSdb"
    },
    {
      "cell_type": "code",
      "source": [
        "# 2D plot\n",
        "models = ['1st', '2nd']\n",
        "alpha_values = alpha_values_40\n",
        "z_1st = results_40_linear['r2_validation']\n",
        "z_2nd = results_40_second['r2_validation']\n",
        "plot_2d(models, alpha_values, [z_1st, z_2nd])"
      ],
      "metadata": {
        "colab": {
          "base_uri": "https://localhost:8080/",
          "height": 476
        },
        "id": "KELaZNcHUWIN",
        "outputId": "231247e5-2001-4757-ee0b-612b8b556b2f"
      },
      "id": "KELaZNcHUWIN",
      "execution_count": 28,
      "outputs": [
        {
          "output_type": "display_data",
          "data": {
            "text/plain": [
              "<Figure size 640x480 with 1 Axes>"
            ],
            "image/png": "[encoded data removed]"
          },
          "metadata": {}
        }
      ]
    },
    {
      "cell_type": "markdown",
      "source": [
        "### **20 features figures**: Dimensionality Reduction Impact (PCA and Lasso)"
      ],
      "metadata": {
        "id": "MNEnrQm7c_cb"
      },
      "id": "MNEnrQm7c_cb"
    },
    {
      "cell_type": "code",
      "source": [
        "# 2D plot for 20 features using PCA\n",
        "models = ['PCA_1st', 'PCA_2nd','PCA_3rd', 'Lasso_1st', 'Lasso_2nd','Lasso_3rd']\n",
        "alpha_values = alpha_values_20_PCA\n",
        "z_1st_PCA = results_20_linear_PCA['r2_validation']\n",
        "z_2nd_PCA = results_20_second_PCA['r2_validation']\n",
        "z_3rd_PCA = results_20_third_PCA['r2_validation']\n",
        "z_1st_Lasso = results_20_linear_Lasso['r2_validation']\n",
        "z_2nd_Lasso = results_20_second_Lasso['r2_validation']\n",
        "z_3rd_Lasso = results_20_third_Lasso['r2_validation']\n",
        "plot_2d(models, alpha_values, [z_1st_PCA, z_2nd_PCA, z_3rd_PCA, z_1st_Lasso, z_2nd_Lasso, z_3rd_Lasso])"
      ],
      "metadata": {
        "colab": {
          "base_uri": "https://localhost:8080/",
          "height": 476
        },
        "id": "E-2bj7o8dG24",
        "outputId": "4d171139-a38a-4d7f-e991-e9fc9cb26c4a"
      },
      "id": "E-2bj7o8dG24",
      "execution_count": 29,
      "outputs": [
        {
          "output_type": "display_data",
          "data": {
            "text/plain": [
              "<Figure size 640x480 with 1 Axes>"
            ],
            "image/png": "[encoded data removed]"
          },
          "metadata": {}
        }
      ]
    },
    {
      "cell_type": "markdown",
      "source": [
        "### **Heat Map**\n"
      ],
      "metadata": {
        "id": "84W_HMd5aCNR"
      },
      "id": "84W_HMd5aCNR"
    },
    {
      "cell_type": "code",
      "source": [
        "import seaborn as sns\n",
        "# Let's assume we have 3 polynomial degrees and 2 methods (40 dimensions and 20 dimensions PCA)\n",
        "poly_degrees = [1, 2, 3]\n",
        "methods = ['40_dims', '20_dims_PCA']\n",
        "models = ['Model_A', 'Model_B', 'Model_C']\n",
        "\n",
        "# Generating some random R² scores for illustration purposes\n",
        "data = np.random.rand(len(poly_degrees), len(methods), len(models))\n",
        "\n",
        "# Creating a DataFrame for the heatmap\n",
        "df = pd.DataFrame(data.reshape((len(poly_degrees)*len(methods), len(models))),\n",
        "                  index=pd.MultiIndex.from_product([poly_degrees, methods], names=['Degree', 'Method']),\n",
        "                  columns=models)\n",
        "\n",
        "# Plotting the heatmap\n",
        "plt.figure(figsize=(10, 6))\n",
        "sns.heatmap(df, annot=True, cmap='coolwarm')\n",
        "plt.title('R² Scores of Models by Polynomial Degree and Method')\n",
        "plt.ylabel('Poly Degree, Dimension Reduction Method')\n",
        "plt.show()"
      ],
      "metadata": {
        "id": "NElmVh-taBj8",
        "outputId": "d9743338-116e-46f3-a8dd-34fc49f977c4",
        "colab": {
          "base_uri": "https://localhost:8080/",
          "height": 545
        }
      },
      "id": "NElmVh-taBj8",
      "execution_count": 30,
      "outputs": [
        {
          "output_type": "display_data",
          "data": {
            "text/plain": [
              "<Figure size 1000x600 with 2 Axes>"
            ],
            "image/png": "[encoded data removed]"
          },
          "metadata": {}
        }
      ]
    },
    {
      "cell_type": "markdown",
      "source": [
        "### **Plot R2 test of all the models**"
      ],
      "metadata": {
        "id": "ZTugp4EffzvY"
      },
      "id": "ZTugp4EffzvY"
    },
    {
      "cell_type": "code",
      "source": [
        "# Set up the plot\n",
        "models = ['4O_1st', '40_2nd', 'PCA_1st', 'PCA_2nd','PCA_3rd', 'Lasso_1st', 'Lasso_2nd','Lasso_3rd']\n",
        "r2_tests = [\n",
        "    results_40_linear['r2_test'], results_40_second['r2_test'],\n",
        "    results_20_linear_PCA['r2_test'], results_20_second_PCA['r2_test'],\n",
        "    results_20_third_PCA['r2_test'], results_20_linear_Lasso['r2_test'],\n",
        "    results_20_second_Lasso['r2_test'], results_20_third_Lasso['r2_test']\n",
        "]\n",
        "fig, ax = plt.subplots(figsize = (10,4))\n",
        "ax.scatter(models, r2_tests)\n",
        "ax.set_xlabel('Alpha values')\n",
        "ax.set_ylabel('R2 validation')\n",
        "ax.set_title('Ridge regression with several models')"
      ],
      "metadata": {
        "colab": {
          "base_uri": "https://localhost:8080/",
          "height": 427
        },
        "id": "6U52HfuXf5oi",
        "outputId": "d1b836bf-c03d-404b-a8bf-c42059bd6ee8"
      },
      "id": "6U52HfuXf5oi",
      "execution_count": 31,
      "outputs": [
        {
          "output_type": "execute_result",
          "data": {
            "text/plain": [
              "Text(0.5, 1.0, 'Ridge regression with several models')"
            ]
          },
          "metadata": {},
          "execution_count": 31
        },
        {
          "output_type": "display_data",
          "data": {
            "text/plain": [
              "<Figure size 1000x400 with 1 Axes>"
            ],
            "image/png": "[encoded data removed]"
          },
          "metadata": {}
        }
      ]
    },
    {
      "cell_type": "markdown",
      "source": [
        "### **The determination of the range of alpha**\n",
        "We tested several ranges of alpha_values and np.logspace(1, 3, 50) is the best choice where the best values of all models of 40 features and 20 features rely on this range"
      ],
      "metadata": {
        "id": "RuHUnfxNtmw7"
      },
      "id": "RuHUnfxNtmw7"
    },
    {
      "cell_type": "markdown",
      "source": [
        "## **Discussion and Conclusion**"
      ],
      "metadata": {
        "id": "CDBwnSFoXPln"
      },
      "id": "CDBwnSFoXPln"
    },
    {
      "cell_type": "markdown",
      "id": "ad79471d",
      "metadata": {
        "id": "ad79471d"
      },
      "source": [
        "***\n",
        "## Credit\n",
        "\n",
        "[//]: # \"This notebook is part of [E4C Interdisciplinary Center - Education](https://gitlab.in2p3.fr/energy4climate/public/education).\"\n",
        "Contributors include Bruno Deremble and Alexis Tantet.\n",
        "Several slides and images are taken from the very good [Scikit-learn course](https://inria.github.io/scikit-learn-mooc/).\n",
        "\n",
        "<br>\n",
        "\n",
        "<div style=\"display: flex; height: 70px\">\n",
        "    \n",
        "<img alt=\"Logo LMD\" src=\"https://github.com/VTNay/MEC557-Project/blob/main/images/logos/logo_lmd.jpg?raw=1\" style=\"display: inline-block\"/>\n",
        "\n",
        "<img alt=\"Logo IPSL\" src=\"https://github.com/VTNay/MEC557-Project/blob/main/images/logos/logo_ipsl.png?raw=1\" style=\"display: inline-block\"/>\n",
        "\n",
        "<img alt=\"Logo E4C\" src=\"https://github.com/VTNay/MEC557-Project/blob/main/images/logos/logo_e4c_final.png?raw=1\" style=\"display: inline-block\"/>\n",
        "\n",
        "<img alt=\"Logo EP\" src=\"https://github.com/VTNay/MEC557-Project/blob/main/images/logos/logo_ep.png?raw=1\" style=\"display: inline-block\"/>\n",
        "\n",
        "<img alt=\"Logo SU\" src=\"https://github.com/VTNay/MEC557-Project/blob/main/images/logos/logo_su.png?raw=1\" style=\"display: inline-block\"/>\n",
        "\n",
        "<img alt=\"Logo ENS\" src=\"https://github.com/VTNay/MEC557-Project/blob/main/images/logos/logo_ens.jpg?raw=1\" style=\"display: inline-block\"/>\n",
        "\n",
        "<img alt=\"Logo CNRS\" src=\"https://github.com/VTNay/MEC557-Project/blob/main/images/logos/logo_cnrs.png?raw=1\" style=\"display: inline-block\"/>\n",
        "    \n",
        "</div>\n",
        "\n",
        "<hr>\n",
        "\n",
        "<div style=\"display: flex\">\n",
        "    <a rel=\"license\" href=\"http://creativecommons.org/licenses/by-sa/4.0/\"><img alt=\"Creative Commons License\" style=\"border-width:0; margin-right: 10px\" src=\"https://i.creativecommons.org/l/by-sa/4.0/88x31.png\" /></a>\n",
        "    <br>This work is licensed under a &nbsp; <a rel=\"license\" href=\"http://creativecommons.org/licenses/by-sa/4.0/\">Creative Commons Attribution-ShareAlike 4.0 International License</a>.\n",
        "</div>"
      ]
    }
  ],
  "metadata": {
    "kernelspec": {
      "display_name": "Python 3",
      "language": "python",
      "name": "python3"
    },
    "language_info": {
      "codemirror_mode": {
        "name": "ipython",
        "version": 3
      },
      "file_extension": ".py",
      "mimetype": "text/x-python",
      "name": "python",
      "nbconvert_exporter": "python",
      "pygments_lexer": "ipython3",
      "version": "3.9.12"
    },
    "latex_envs": {
      "LaTeX_envs_menu_present": true,
      "autoclose": true,
      "autocomplete": false,
      "bibliofile": "biblio.bib",
      "cite_by": "apalike",
      "current_citInitial": 1,
      "eqLabelWithNumbers": true,
      "eqNumInitial": 1,
      "hotkeys": {
        "equation": "Ctrl-E",
        "itemize": "Ctrl-I"
      },
      "labels_anchors": false,
      "latex_user_defs": false,
      "report_style_numbering": false,
      "user_envs_cfg": false
    },
    "toc": {
      "base_numbering": 1,
      "nav_menu": {},
      "number_sections": true,
      "sideBar": true,
      "skip_h1_title": false,
      "title_cell": "Table of Contents",
      "title_sidebar": "Contents",
      "toc_cell": false,
      "toc_position": {},
      "toc_section_display": true,
      "toc_window_display": false
    },
    "varInspector": {
      "cols": {
        "lenName": 16,
        "lenType": 16,
        "lenVar": 40
      },
      "kernels_config": {
        "python": {
          "delete_cmd_postfix": "",
          "delete_cmd_prefix": "del ",
          "library": "var_list.py",
          "varRefreshCmd": "print(var_dic_list())"
        },
        "r": {
          "delete_cmd_postfix": ") ",
          "delete_cmd_prefix": "rm(",
          "library": "var_list.r",
          "varRefreshCmd": "cat(var_dic_list()) "
        }
      },
      "types_to_exclude": [
        "module",
        "function",
        "builtin_function_or_method",
        "instance",
        "_Feature"
      ],
      "window_display": false
    },
    "colab": {
      "provenance": [],
      "machine_shape": "hm",
      "include_colab_link": true
    }
  },
  "nbformat": 4,
  "nbformat_minor": 5
}