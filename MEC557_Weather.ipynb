{
  "cells": [
    {
      "cell_type": "markdown",
      "metadata": {
        "id": "view-in-github",
        "colab_type": "text"
      },
      "source": [
        "<a href=\"https://colab.research.google.com/github/VTNay/MEC557-Project/blob/Zhichuan-MA/MEC557_Weather.ipynb\" target=\"_parent\"><img src=\"https://colab.research.google.com/assets/colab-badge.svg\" alt=\"Open In Colab\"/></a>"
      ]
    },
    {
      "cell_type": "markdown",
      "id": "f1ae401f",
      "metadata": {
        "id": "f1ae401f"
      },
      "source": [
        "# Projects\n",
        "\n",
        "[![Binder](https://mybinder.org/badge_logo.svg)](https://mybinder.org/v2/git/https%3A%2F%2Fgitlab.in2p3.fr%2Fenergy4climate%2Fpublic%2Feducation%2Fmachine_learning_for_climate_and_energy/master?filepath=book%2Fnotebooks%2Fprojects.ipynb)"
      ]
    },
    {
      "cell_type": "code",
      "source": [
        "from google.colab import drive\n",
        "drive.mount('/content/drive')"
      ],
      "metadata": {
        "colab": {
          "base_uri": "https://localhost:8080/"
        },
        "id": "EfvEaXMCKKvc",
        "outputId": "c04df14b-49db-47ef-d006-7c98661fb72d"
      },
      "id": "EfvEaXMCKKvc",
      "execution_count": 12,
      "outputs": [
        {
          "output_type": "stream",
          "name": "stdout",
          "text": [
            "Drive already mounted at /content/drive; to attempt to forcibly remount, call drive.mount(\"/content/drive\", force_remount=True).\n"
          ]
        }
      ]
    },
    {
      "cell_type": "markdown",
      "id": "03d41164",
      "metadata": {
        "id": "03d41164"
      },
      "source": [
        "<div class=\"alert alert-block alert-warning\">\n",
        "    <b>Schedule</b>\n",
        "    \n",
        "- Ask your supervisors for the data if not already provided (it is not included in this repository).\n",
        "- Quick presentation.\n",
        "- Final project presentation.\n",
        "    \n",
        "</div>"
      ]
    },
    {
      "cell_type": "markdown",
      "id": "01b8a8b3",
      "metadata": {
        "id": "01b8a8b3"
      },
      "source": [
        "<div class=\"alert alert-block alert-info\">\n",
        "    <b>One problematic, One dataset, One (or more) method(s)</b>\n",
        "    \n",
        "- Quality of the dataset is key.\n",
        "- Results on a clean notebook.\n",
        "- Explain which method(s) you used and why.\n",
        "- If a method fails, explain why.\n",
        "\n",
        "</div>"
      ]
    },
    {
      "cell_type": "markdown",
      "id": "b309f16e",
      "metadata": {
        "id": "b309f16e"
      },
      "source": [
        "## Project: Weather station"
      ]
    },
    {
      "cell_type": "markdown",
      "id": "912d896e",
      "metadata": {
        "id": "912d896e"
      },
      "source": [
        "<img alt=\"weather\" src=\"https://github.com/VTNay/MEC557-Project/blob/main/images/map.png?raw=1\" width=400>"
      ]
    },
    {
      "cell_type": "markdown",
      "id": "2372e364",
      "metadata": {
        "id": "2372e364"
      },
      "source": [
        "- Suppose there are 5 weather stations that monitor the weather: Paris, Brest, London, Marseille and Berlin.\n",
        "- The weather station in Paris breaks down\n",
        "- Can we use the other stations to infer the weather in Paris"
      ]
    },
    {
      "cell_type": "markdown",
      "id": "66ae5a0d",
      "metadata": {
        "id": "66ae5a0d"
      },
      "source": [
        "### Data set\n",
        "\n",
        "<img alt=\"weather\" src=\"https://github.com/VTNay/MEC557-Project/blob/main/images/annual_temperature.png?raw=1\" width=400>\n",
        "\n",
        "- Surface variables: skt, u10, v10, t2m, d2m, tcc, sp, tp, ssrd, blh\n",
        "- Temporal resolution: hourly\n",
        "- Spatial resolution: N/A"
      ]
    },
    {
      "cell_type": "markdown",
      "id": "73ad9743",
      "metadata": {
        "id": "73ad9743"
      },
      "source": [
        "### First steps\n",
        "\n",
        "- Look at the correlations between variables.\n",
        "- What variable do I want to predict\n",
        "- What time scale am interested in?\n",
        "- Start with the easy predictions and move on to harder ones\n",
        "- Are there events that are more predictable than others?"
      ]
    },
    {
      "cell_type": "code",
      "execution_count": 14,
      "id": "da094902",
      "metadata": {
        "id": "da094902",
        "outputId": "5c4c6bac-1cf6-4d87-8234-2a517ae92652",
        "colab": {
          "base_uri": "https://localhost:8080/"
        }
      },
      "outputs": [
        {
          "output_type": "stream",
          "name": "stdout",
          "text": [
            "{'Paris':                             t2m        blh         d2m         skt  \\\n",
            "time                                                                 \n",
            "1980-01-01 00:00:00  273.624573        NaN  272.332703  271.886169   \n",
            "1980-01-01 01:00:00  273.590820        NaN  272.302704  271.277069   \n",
            "1980-01-01 02:00:00  273.077484        NaN  272.056641  271.015686   \n",
            "1980-01-01 03:00:00  272.647949        NaN  271.807556  270.778687   \n",
            "1980-01-01 04:00:00  272.320129        NaN  271.532471  269.853119   \n",
            "...                         ...        ...         ...         ...   \n",
            "2021-01-01 02:00:00         NaN  67.381950         NaN         NaN   \n",
            "2021-01-01 03:00:00         NaN  55.931046         NaN         NaN   \n",
            "2021-01-01 04:00:00         NaN  42.157402         NaN         NaN   \n",
            "2021-01-01 05:00:00         NaN  37.912605         NaN         NaN   \n",
            "2021-01-01 06:00:00         NaN  35.246353         NaN         NaN   \n",
            "\n",
            "                                sp  ssrd       tcc            tp       u10  \\\n",
            "time                                                                         \n",
            "1980-01-01 00:00:00  100071.015625   NaN  1.000000           NaN  1.821228   \n",
            "1980-01-01 01:00:00  100026.843750   NaN  0.986572           NaN  1.522354   \n",
            "1980-01-01 02:00:00   99995.453125   NaN  1.000000           NaN  1.478912   \n",
            "1980-01-01 03:00:00   99981.320312   NaN  0.989990           NaN  1.310043   \n",
            "1980-01-01 04:00:00   99924.750000   NaN  0.916901           NaN  1.426117   \n",
            "...                            ...   ...       ...           ...       ...   \n",
            "2021-01-01 02:00:00            NaN   0.0       NaN  4.768372e-07       NaN   \n",
            "2021-01-01 03:00:00            NaN   0.0       NaN  4.768372e-07       NaN   \n",
            "2021-01-01 04:00:00            NaN   0.0       NaN  0.000000e+00       NaN   \n",
            "2021-01-01 05:00:00            NaN   0.0       NaN  0.000000e+00       NaN   \n",
            "2021-01-01 06:00:00            NaN   0.0       NaN  0.000000e+00       NaN   \n",
            "\n",
            "                          v10  \n",
            "time                           \n",
            "1980-01-01 00:00:00  0.593918  \n",
            "1980-01-01 01:00:00  0.792664  \n",
            "1980-01-01 02:00:00  0.811569  \n",
            "1980-01-01 03:00:00  0.710587  \n",
            "1980-01-01 04:00:00  0.915924  \n",
            "...                       ...  \n",
            "2021-01-01 02:00:00       NaN  \n",
            "2021-01-01 03:00:00       NaN  \n",
            "2021-01-01 04:00:00       NaN  \n",
            "2021-01-01 05:00:00       NaN  \n",
            "2021-01-01 06:00:00       NaN  \n",
            "\n",
            "[359431 rows x 10 columns], 'Brest':                             t2m         blh         d2m         skt  \\\n",
            "time                                                                  \n",
            "1980-01-01 00:00:00  278.646057         NaN  276.399109  279.384216   \n",
            "1980-01-01 01:00:00  278.666992         NaN  276.273407  279.357147   \n",
            "1980-01-01 02:00:00  278.604828         NaN  276.296875  279.341858   \n",
            "1980-01-01 03:00:00  278.364746         NaN  276.332947  279.268921   \n",
            "1980-01-01 04:00:00  278.103333         NaN  276.337158  279.163666   \n",
            "...                         ...         ...         ...         ...   \n",
            "2020-01-01 02:00:00         NaN  297.524200         NaN         NaN   \n",
            "2020-01-01 03:00:00         NaN  329.395233         NaN         NaN   \n",
            "2020-01-01 04:00:00         NaN  344.560791         NaN         NaN   \n",
            "2020-01-01 05:00:00         NaN  347.834473         NaN         NaN   \n",
            "2020-01-01 06:00:00         NaN  315.073761         NaN         NaN   \n",
            "\n",
            "                                sp  ssrd       tcc        tp       u10  \\\n",
            "time                                                                     \n",
            "1980-01-01 00:00:00  100551.015625   NaN  1.000000       NaN -3.045959   \n",
            "1980-01-01 01:00:00  100445.843750   NaN  1.000000       NaN -3.187607   \n",
            "1980-01-01 02:00:00  100470.453125   NaN  0.998413       NaN -2.846283   \n",
            "1980-01-01 03:00:00  100415.320312   NaN  1.000000       NaN -3.439957   \n",
            "1980-01-01 04:00:00  100423.750000   NaN  1.000000       NaN -3.067047   \n",
            "...                            ...   ...       ...       ...       ...   \n",
            "2020-01-01 02:00:00            NaN   0.0       NaN  0.000000       NaN   \n",
            "2020-01-01 03:00:00            NaN   0.0       NaN  0.000003       NaN   \n",
            "2020-01-01 04:00:00            NaN   0.0       NaN  0.000011       NaN   \n",
            "2020-01-01 05:00:00            NaN   0.0       NaN  0.000011       NaN   \n",
            "2020-01-01 06:00:00            NaN   0.0       NaN  0.000009       NaN   \n",
            "\n",
            "                          v10  \n",
            "time                           \n",
            "1980-01-01 00:00:00  3.326340  \n",
            "1980-01-01 01:00:00  3.314148  \n",
            "1980-01-01 02:00:00  2.434616  \n",
            "1980-01-01 03:00:00  1.930313  \n",
            "1980-01-01 04:00:00  1.885651  \n",
            "...                       ...  \n",
            "2020-01-01 02:00:00       NaN  \n",
            "2020-01-01 03:00:00       NaN  \n",
            "2020-01-01 04:00:00       NaN  \n",
            "2020-01-01 05:00:00       NaN  \n",
            "2020-01-01 06:00:00       NaN  \n",
            "\n",
            "[350647 rows x 10 columns], 'London':                             t2m         blh         d2m         skt  \\\n",
            "time                                                                  \n",
            "1980-01-01 00:00:00  271.648010         NaN  270.848328  270.567810   \n",
            "1980-01-01 01:00:00  271.235352         NaN  270.578094  270.226288   \n",
            "1980-01-01 02:00:00  270.897797         NaN  270.341797  270.074280   \n",
            "1980-01-01 03:00:00  270.847168         NaN  270.205994  269.962280   \n",
            "1980-01-01 04:00:00  270.771301         NaN  270.110596  269.985931   \n",
            "...                         ...         ...         ...         ...   \n",
            "2020-01-01 02:00:00         NaN  364.649200         NaN         NaN   \n",
            "2020-01-01 03:00:00         NaN  284.895233         NaN         NaN   \n",
            "2020-01-01 04:00:00         NaN  288.185791         NaN         NaN   \n",
            "2020-01-01 05:00:00         NaN  309.584473         NaN         NaN   \n",
            "2020-01-01 06:00:00         NaN  224.698761         NaN         NaN   \n",
            "\n",
            "                                sp  ssrd       tcc        tp       u10  \\\n",
            "time                                                                     \n",
            "1980-01-01 00:00:00  100375.015625   NaN  0.632019       NaN  2.265564   \n",
            "1980-01-01 01:00:00  100341.843750   NaN  0.918030       NaN  1.991104   \n",
            "1980-01-01 02:00:00  100334.453125   NaN  0.970001       NaN  1.819733   \n",
            "1980-01-01 03:00:00  100338.320312   NaN  0.950012       NaN  1.627426   \n",
            "1980-01-01 04:00:00  100308.750000   NaN  0.961792       NaN  1.632172   \n",
            "...                            ...   ...       ...       ...       ...   \n",
            "2020-01-01 02:00:00            NaN   0.0       NaN  0.000004       NaN   \n",
            "2020-01-01 03:00:00            NaN   0.0       NaN  0.000004       NaN   \n",
            "2020-01-01 04:00:00            NaN   0.0       NaN  0.000002       NaN   \n",
            "2020-01-01 05:00:00            NaN   0.0       NaN  0.000019       NaN   \n",
            "2020-01-01 06:00:00            NaN   0.0       NaN  0.000005       NaN   \n",
            "\n",
            "                          v10  \n",
            "time                           \n",
            "1980-01-01 00:00:00 -0.946121  \n",
            "1980-01-01 01:00:00 -0.942688  \n",
            "1980-01-01 02:00:00 -0.987259  \n",
            "1980-01-01 03:00:00 -1.352890  \n",
            "1980-01-01 04:00:00 -1.340912  \n",
            "...                       ...  \n",
            "2020-01-01 02:00:00       NaN  \n",
            "2020-01-01 03:00:00       NaN  \n",
            "2020-01-01 04:00:00       NaN  \n",
            "2020-01-01 05:00:00       NaN  \n",
            "2020-01-01 06:00:00       NaN  \n",
            "\n",
            "[350647 rows x 10 columns], 'Marseille':                             t2m         blh         d2m         skt  \\\n",
            "time                                                                  \n",
            "1980-01-01 00:00:00  277.665588         NaN  272.750671  281.397888   \n",
            "1980-01-01 01:00:00  277.295898         NaN  272.845673  281.204803   \n",
            "1980-01-01 02:00:00  276.938812         NaN  272.896484  281.058655   \n",
            "1980-01-01 03:00:00  276.673340         NaN  273.045837  281.038452   \n",
            "1980-01-01 04:00:00  276.605286         NaN  272.882080  280.952728   \n",
            "...                         ...         ...         ...         ...   \n",
            "2020-01-01 02:00:00         NaN  167.024200         NaN         NaN   \n",
            "2020-01-01 03:00:00         NaN  159.145233         NaN         NaN   \n",
            "2020-01-01 04:00:00         NaN  124.435791         NaN         NaN   \n",
            "2020-01-01 05:00:00         NaN   94.334480         NaN         NaN   \n",
            "2020-01-01 06:00:00         NaN   80.448761         NaN         NaN   \n",
            "\n",
            "                               sp  ssrd       tcc   tp       u10       v10  \n",
            "time                                                                        \n",
            "1980-01-01 00:00:00  99870.015625   NaN  0.000000  NaN  5.789978 -6.853348  \n",
            "1980-01-01 01:00:00  99838.843750   NaN  0.015198  NaN  5.271378 -5.964172  \n",
            "1980-01-01 02:00:00  99780.453125   NaN  0.470245  NaN  5.464264 -5.353470  \n",
            "1980-01-01 03:00:00  99753.320312   NaN  0.999359  NaN  5.081528 -5.418320  \n",
            "1980-01-01 04:00:00  99628.750000   NaN  1.000000  NaN  4.479828 -5.298920  \n",
            "...                           ...   ...       ...  ...       ...       ...  \n",
            "2020-01-01 02:00:00           NaN   0.0       NaN  0.0       NaN       NaN  \n",
            "2020-01-01 03:00:00           NaN   0.0       NaN  0.0       NaN       NaN  \n",
            "2020-01-01 04:00:00           NaN   0.0       NaN  0.0       NaN       NaN  \n",
            "2020-01-01 05:00:00           NaN   0.0       NaN  0.0       NaN       NaN  \n",
            "2020-01-01 06:00:00           NaN   0.0       NaN  0.0       NaN       NaN  \n",
            "\n",
            "[350647 rows x 10 columns], 'Berlin':                             t2m         blh         d2m         skt  \\\n",
            "time                                                                  \n",
            "1980-01-01 00:00:00  274.347229         NaN  273.488953  272.974060   \n",
            "1980-01-01 01:00:00  274.262695         NaN  273.310516  272.786835   \n",
            "1980-01-01 02:00:00  273.993500         NaN  273.041016  272.630920   \n",
            "1980-01-01 03:00:00  273.997559         NaN  273.000916  272.440796   \n",
            "1980-01-01 04:00:00  273.986145         NaN  273.063721  272.105072   \n",
            "...                         ...         ...         ...         ...   \n",
            "2020-01-01 02:00:00         NaN  285.274200         NaN         NaN   \n",
            "2020-01-01 03:00:00         NaN  229.020233         NaN         NaN   \n",
            "2020-01-01 04:00:00         NaN  198.435791         NaN         NaN   \n",
            "2020-01-01 05:00:00         NaN  208.959473         NaN         NaN   \n",
            "2020-01-01 06:00:00         NaN  221.448761         NaN         NaN   \n",
            "\n",
            "                               sp  ssrd       tcc   tp       u10       v10  \n",
            "time                                                                        \n",
            "1980-01-01 00:00:00  99357.015625   NaN  0.916779  NaN  2.986267  0.781418  \n",
            "1980-01-01 01:00:00  99308.843750   NaN  0.863159  NaN  2.856339  0.796570  \n",
            "1980-01-01 02:00:00  99365.453125   NaN  0.863678  NaN  2.803131  0.714890  \n",
            "1980-01-01 03:00:00  99363.320312   NaN  0.792236  NaN  2.814926  0.733047  \n",
            "1980-01-01 04:00:00  99315.750000   NaN  0.832306  NaN  2.795258  0.756744  \n",
            "...                           ...   ...       ...  ...       ...       ...  \n",
            "2020-01-01 02:00:00           NaN   0.0       NaN  0.0       NaN       NaN  \n",
            "2020-01-01 03:00:00           NaN   0.0       NaN  0.0       NaN       NaN  \n",
            "2020-01-01 04:00:00           NaN   0.0       NaN  0.0       NaN       NaN  \n",
            "2020-01-01 05:00:00           NaN   0.0       NaN  0.0       NaN       NaN  \n",
            "2020-01-01 06:00:00           NaN   0.0       NaN  0.0       NaN       NaN  \n",
            "\n",
            "[350647 rows x 10 columns]}\n"
          ]
        }
      ],
      "source": [
        "from pathlib import Path\n",
        "import pandas as pd\n",
        "import xarray as xr\n",
        "from functools import reduce\n",
        "from matplotlib import pyplot as plt\n",
        "from sklearn import preprocessing\n",
        "\n",
        "paris_path = Path('/content/drive/My Drive/PHY557_Project/weather/paris')\n",
        "brest_path = Path('/content/drive/My Drive/PHY557_Project/weather/brest')\n",
        "london_path = Path('/content/drive/My Drive/PHY557_Project/weather/london')\n",
        "marseille_path = Path('/content/drive/My Drive/PHY557_Project/weather/marseille')\n",
        "berlin_path = Path('/content/drive/My Drive/PHY557_Project/weather/berlin')\n",
        "\n",
        "file_path = {'t2m': 't2m.nc', 'blh': 'blh.nc', 'd2m': 'd2m.nc', 'skt': 'skt.nc', 'sp': 'sp.nc', 'ssrd': 'ssrd.nc', 'tcc': 'tcc.nc', 'tp': 'tp.nc', 'u10': 'u10.nc', 'v10': 'v10.nc'}\n",
        "City_path = {'Paris': paris_path, 'Brest': brest_path, 'London': london_path, 'Marseille': marseille_path, 'Berlin': berlin_path}\n",
        "\n",
        "Weather_stations = {'Paris': [], 'Brest': [], 'London': [], 'Marseille': [], 'Berlin': []}\n",
        "for i in Weather_stations:\n",
        "  Weather_stations[i] = {'t2m': [], 'blh': [], 'd2m': [], 'skt': [], 'sp': [], 'ssrd': [], 'tcc': [], 'tp': [], 'u10': [], 'v10': []}\n",
        "\n",
        "for city in Weather_stations:\n",
        "  for i in Weather_stations[city]:\n",
        "    temp = xr.open_dataset(Path(City_path[city], file_path[i]))\n",
        "    temp = temp.to_dataframe()\n",
        "    if i == 'd2m' or i == 'blh':\n",
        "      temp = temp.droplevel([1,2])\n",
        "    else:\n",
        "      temp = temp.droplevel([0,1])\n",
        "    Weather_stations[city][i] = temp\n",
        "  #merge them into 1 dataframe\n",
        "  Weather_stations[city] = reduce(lambda left, right: pd.merge(left, right, left_index=True, right_index=True, how='outer'), Weather_stations[city].values())\n",
        "print(Weather_stations)\n"
      ]
    },
    {
      "cell_type": "markdown",
      "id": "ad79471d",
      "metadata": {
        "id": "ad79471d"
      },
      "source": [
        "***\n",
        "## Credit\n",
        "\n",
        "[//]: # \"This notebook is part of [E4C Interdisciplinary Center - Education](https://gitlab.in2p3.fr/energy4climate/public/education).\"\n",
        "Contributors include Bruno Deremble and Alexis Tantet.\n",
        "Several slides and images are taken from the very good [Scikit-learn course](https://inria.github.io/scikit-learn-mooc/).\n",
        "\n",
        "<br>\n",
        "\n",
        "<div style=\"display: flex; height: 70px\">\n",
        "    \n",
        "<img alt=\"Logo LMD\" src=\"https://github.com/VTNay/MEC557-Project/blob/main/images/logos/logo_lmd.jpg?raw=1\" style=\"display: inline-block\"/>\n",
        "\n",
        "<img alt=\"Logo IPSL\" src=\"https://github.com/VTNay/MEC557-Project/blob/main/images/logos/logo_ipsl.png?raw=1\" style=\"display: inline-block\"/>\n",
        "\n",
        "<img alt=\"Logo E4C\" src=\"https://github.com/VTNay/MEC557-Project/blob/main/images/logos/logo_e4c_final.png?raw=1\" style=\"display: inline-block\"/>\n",
        "\n",
        "<img alt=\"Logo EP\" src=\"https://github.com/VTNay/MEC557-Project/blob/main/images/logos/logo_ep.png?raw=1\" style=\"display: inline-block\"/>\n",
        "\n",
        "<img alt=\"Logo SU\" src=\"https://github.com/VTNay/MEC557-Project/blob/main/images/logos/logo_su.png?raw=1\" style=\"display: inline-block\"/>\n",
        "\n",
        "<img alt=\"Logo ENS\" src=\"https://github.com/VTNay/MEC557-Project/blob/main/images/logos/logo_ens.jpg?raw=1\" style=\"display: inline-block\"/>\n",
        "\n",
        "<img alt=\"Logo CNRS\" src=\"https://github.com/VTNay/MEC557-Project/blob/main/images/logos/logo_cnrs.png?raw=1\" style=\"display: inline-block\"/>\n",
        "    \n",
        "</div>\n",
        "\n",
        "<hr>\n",
        "\n",
        "<div style=\"display: flex\">\n",
        "    <a rel=\"license\" href=\"http://creativecommons.org/licenses/by-sa/4.0/\"><img alt=\"Creative Commons License\" style=\"border-width:0; margin-right: 10px\" src=\"https://i.creativecommons.org/l/by-sa/4.0/88x31.png\" /></a>\n",
        "    <br>This work is licensed under a &nbsp; <a rel=\"license\" href=\"http://creativecommons.org/licenses/by-sa/4.0/\">Creative Commons Attribution-ShareAlike 4.0 International License</a>.\n",
        "</div>"
      ]
    }
  ],
  "metadata": {
    "kernelspec": {
      "display_name": "Python 3",
      "language": "python",
      "name": "python3"
    },
    "language_info": {
      "codemirror_mode": {
        "name": "ipython",
        "version": 3
      },
      "file_extension": ".py",
      "mimetype": "text/x-python",
      "name": "python",
      "nbconvert_exporter": "python",
      "pygments_lexer": "ipython3",
      "version": "3.9.12"
    },
    "latex_envs": {
      "LaTeX_envs_menu_present": true,
      "autoclose": true,
      "autocomplete": false,
      "bibliofile": "biblio.bib",
      "cite_by": "apalike",
      "current_citInitial": 1,
      "eqLabelWithNumbers": true,
      "eqNumInitial": 1,
      "hotkeys": {
        "equation": "Ctrl-E",
        "itemize": "Ctrl-I"
      },
      "labels_anchors": false,
      "latex_user_defs": false,
      "report_style_numbering": false,
      "user_envs_cfg": false
    },
    "toc": {
      "base_numbering": 1,
      "nav_menu": {},
      "number_sections": true,
      "sideBar": true,
      "skip_h1_title": false,
      "title_cell": "Table of Contents",
      "title_sidebar": "Contents",
      "toc_cell": false,
      "toc_position": {},
      "toc_section_display": true,
      "toc_window_display": false
    },
    "varInspector": {
      "cols": {
        "lenName": 16,
        "lenType": 16,
        "lenVar": 40
      },
      "kernels_config": {
        "python": {
          "delete_cmd_postfix": "",
          "delete_cmd_prefix": "del ",
          "library": "var_list.py",
          "varRefreshCmd": "print(var_dic_list())"
        },
        "r": {
          "delete_cmd_postfix": ") ",
          "delete_cmd_prefix": "rm(",
          "library": "var_list.r",
          "varRefreshCmd": "cat(var_dic_list()) "
        }
      },
      "types_to_exclude": [
        "module",
        "function",
        "builtin_function_or_method",
        "instance",
        "_Feature"
      ],
      "window_display": false
    },
    "colab": {
      "provenance": [],
      "include_colab_link": true
    }
  },
  "nbformat": 4,
  "nbformat_minor": 5
}