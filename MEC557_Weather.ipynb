{
  "cells": [
    {
      "cell_type": "markdown",
      "metadata": {
        "id": "view-in-github",
        "colab_type": "text"
      },
      "source": [
        "<a href=\"https://colab.research.google.com/github/VTNay/MEC557-Project/blob/Ma/MEC557_Weather.ipynb\" target=\"_parent\"><img src=\"https://colab.research.google.com/assets/colab-badge.svg\" alt=\"Open In Colab\"/></a>"
      ]
    },
    {
      "cell_type": "markdown",
      "id": "f1ae401f",
      "metadata": {
        "id": "f1ae401f"
      },
      "source": [
        "# Projects\n",
        "\n",
        "[![Binder](https://mybinder.org/badge_logo.svg)](https://mybinder.org/v2/git/https%3A%2F%2Fgitlab.in2p3.fr%2Fenergy4climate%2Fpublic%2Feducation%2Fmachine_learning_for_climate_and_energy/master?filepath=book%2Fnotebooks%2Fprojects.ipynb)"
      ]
    },
    {
      "cell_type": "code",
      "source": [
        "from google.colab import drive\n",
        "drive.mount('/content/drive')"
      ],
      "metadata": {
        "colab": {
          "base_uri": "https://localhost:8080/"
        },
        "id": "EfvEaXMCKKvc",
        "outputId": "5f3c206a-506c-45d8-8e1a-d43b87820896"
      },
      "id": "EfvEaXMCKKvc",
      "execution_count": 1,
      "outputs": [
        {
          "output_type": "stream",
          "name": "stdout",
          "text": [
            "Mounted at /content/drive\n"
          ]
        }
      ]
    },
    {
      "cell_type": "markdown",
      "id": "03d41164",
      "metadata": {
        "id": "03d41164"
      },
      "source": [
        "<div class=\"alert alert-block alert-warning\">\n",
        "    <b>Schedule</b>\n",
        "    \n",
        "- Ask your supervisors for the data if not already provided (it is not included in this repository).\n",
        "- Quick presentation.\n",
        "- Final project presentation.\n",
        "    \n",
        "</div>"
      ]
    },
    {
      "cell_type": "markdown",
      "id": "01b8a8b3",
      "metadata": {
        "id": "01b8a8b3"
      },
      "source": [
        "<div class=\"alert alert-block alert-info\">\n",
        "    <b>One problematic, One dataset, One (or more) method(s)</b>\n",
        "    \n",
        "- Quality of the dataset is key.\n",
        "- Results on a clean notebook.\n",
        "- Explain which method(s) you used and why.\n",
        "- If a method fails, explain why.\n",
        "\n",
        "</div>"
      ]
    },
    {
      "cell_type": "markdown",
      "id": "b309f16e",
      "metadata": {
        "id": "b309f16e"
      },
      "source": [
        "## Project: Weather station"
      ]
    },
    {
      "cell_type": "markdown",
      "id": "912d896e",
      "metadata": {
        "id": "912d896e"
      },
      "source": [
        "<img alt=\"weather\" src=\"https://github.com/VTNay/MEC557-Project/blob/main/images/map.png?raw=1\" width=400>"
      ]
    },
    {
      "cell_type": "markdown",
      "id": "2372e364",
      "metadata": {
        "id": "2372e364"
      },
      "source": [
        "- Suppose there are 5 weather stations that monitor the weather: Paris, Brest, London, Marseille and Berlin.\n",
        "- The weather station in Paris breaks down\n",
        "- Can we use the other stations to infer the weather in Paris"
      ]
    },
    {
      "cell_type": "markdown",
      "id": "66ae5a0d",
      "metadata": {
        "id": "66ae5a0d"
      },
      "source": [
        "### Data set\n",
        "\n",
        "<img alt=\"weather\" src=\"https://github.com/VTNay/MEC557-Project/blob/main/images/annual_temperature.png?raw=1\" width=400>\n",
        "\n",
        "- Surface variables: skt, u10, v10, t2m, d2m, tcc, sp, tp, ssrd, blh\n",
        "- Temporal resolution: hourly\n",
        "- Spatial resolution: N/A"
      ]
    },
    {
      "cell_type": "markdown",
      "id": "73ad9743",
      "metadata": {
        "id": "73ad9743"
      },
      "source": [
        "### First steps\n",
        "\n",
        "- Look at the correlations between variables.\n",
        "- What variable do I want to predict\n",
        "- What time scale am interested in?\n",
        "- Start with the easy predictions and move on to harder ones\n",
        "- Are there events that are more predictable than others?"
      ]
    },
    {
      "cell_type": "markdown",
      "source": [
        "# Data processing"
      ],
      "metadata": {
        "id": "uc5X9c9COuey"
      },
      "id": "uc5X9c9COuey"
    },
    {
      "cell_type": "code",
      "source": [
        "from pathlib import Path\n",
        "import numpy as np\n",
        "import pandas as pd\n",
        "import xarray as xr\n",
        "from functools import reduce\n",
        "from matplotlib import pyplot as plt\n",
        "from sklearn import preprocessing\n",
        "\n",
        "# Define file paths for weather data of different cities\n",
        "weather_paths = {\n",
        "    'Paris': Path('/content/drive/My Drive/PHY557_Project/weather/paris'),\n",
        "    'Brest': Path('/content/drive/My Drive/PHY557_Project/weather/brest'),\n",
        "    'London': Path('/content/drive/My Drive/PHY557_Project/weather/london'),\n",
        "    'Marseille': Path('/content/drive/My Drive/PHY557_Project/weather/marseille'),\n",
        "    'Berlin': Path('/content/drive/My Drive/PHY557_Project/weather/berlin')\n",
        "}\n",
        "\n",
        "# Define the names of the files for each weather parameter\n",
        "file_names = {\n",
        "    't2m': 't2m.nc', 'blh': 'blh.nc', 'd2m': 'd2m.nc', 'skt': 'skt.nc',\n",
        "    'sp': 'sp.nc', 'ssrd': 'ssrd.nc', 'tcc': 'tcc.nc', 'tp': 'tp.nc',\n",
        "    'u10': 'u10.nc', 'v10': 'v10.nc'\n",
        "}\n",
        "\n",
        "# Initialize a dictionary to store weather data for each city\n",
        "weather_data = {city: {} for city in weather_paths}\n",
        "\n",
        "# Load and preprocess the data for each city\n",
        "for city, path in weather_paths.items():\n",
        "    for param, file_name in file_names.items():\n",
        "        # Load the dataset\n",
        "        dataset = xr.open_dataset(Path(path, file_name)).to_dataframe()\n",
        "        # Drop unnecessary levels based on the parameter\n",
        "        if param in ['d2m', 'blh']:\n",
        "            dataset = dataset.droplevel([1, 2])\n",
        "        else:\n",
        "            dataset = dataset.droplevel([0, 1])\n",
        "        # Store the processed data\n",
        "        weather_data[city][param] = dataset\n",
        "    # Merge data from different parameters into a single dataframe\n",
        "    weather_data[city] = reduce(lambda left, right: pd.merge(\n",
        "        left, right, left_index=True, right_index=True, how='outer'),\n",
        "        weather_data[city].values())\n",
        "\n",
        "# Function to rename columns with city prefix\n",
        "def rename_columns(df, prefix):\n",
        "    \"\"\"Rename columns with a city prefix.\"\"\"\n",
        "    return df.rename(columns={col: f\"{prefix}_{col}\" for col in df.columns})\n",
        "\n",
        "# Rename columns and concatenate data from all cities\n",
        "combined_data = pd.concat([rename_columns(weather_data[city], city) for city in weather_data], axis=1)\n",
        "\n",
        "# Data cleaning\n",
        "# Drop rows with missing values\n",
        "combined_data = combined_data.dropna()\n",
        "\n",
        "# Split the combined data into features (X) and target (y)\n",
        "X_raw = combined_data.iloc[:,10:]  # Features from all cities except Paris\n",
        "y = combined_data['Paris_t2m']  # Target: temperature in Paris\n",
        "\n",
        "# Assuming X_raw and y are your raw data arrays\n",
        "X_normalized = (X_raw - X_raw.mean())/X_raw.std()\n",
        "y_normalized = (y - y.mean())/y.std()\n",
        "\n",
        "\n",
        "# Calculate the number of years in the dataset\n",
        "n_years = y_normalized.index.year.max() - y_normalized.index.year.min() + 1\n",
        "\n",
        "print(X_normalized.columns)\n",
        "print('Number of years: {}'.format(n_years))"
      ],
      "metadata": {
        "colab": {
          "base_uri": "https://localhost:8080/"
        },
        "id": "_AFDHEOp8-F1",
        "outputId": "ed359f84-15c6-4a07-95b0-ec22cb0bc0ca"
      },
      "id": "_AFDHEOp8-F1",
      "execution_count": 2,
      "outputs": [
        {
          "output_type": "stream",
          "name": "stdout",
          "text": [
            "Index(['Brest_t2m', 'Brest_blh', 'Brest_d2m', 'Brest_skt', 'Brest_sp',\n",
            "       'Brest_ssrd', 'Brest_tcc', 'Brest_tp', 'Brest_u10', 'Brest_v10',\n",
            "       'London_t2m', 'London_blh', 'London_d2m', 'London_skt', 'London_sp',\n",
            "       'London_ssrd', 'London_tcc', 'London_tp', 'London_u10', 'London_v10',\n",
            "       'Marseille_t2m', 'Marseille_blh', 'Marseille_d2m', 'Marseille_skt',\n",
            "       'Marseille_sp', 'Marseille_ssrd', 'Marseille_tcc', 'Marseille_tp',\n",
            "       'Marseille_u10', 'Marseille_v10', 'Berlin_t2m', 'Berlin_blh',\n",
            "       'Berlin_d2m', 'Berlin_skt', 'Berlin_sp', 'Berlin_ssrd', 'Berlin_tcc',\n",
            "       'Berlin_tp', 'Berlin_u10', 'Berlin_v10'],\n",
            "      dtype='object')\n",
            "Number of years: 40\n"
          ]
        }
      ]
    },
    {
      "cell_type": "markdown",
      "source": [
        "**PCA**"
      ],
      "metadata": {
        "id": "E8xgsWcB_n48"
      },
      "id": "E8xgsWcB_n48"
    },
    {
      "cell_type": "code",
      "source": [
        "from sklearn.decomposition import PCA\n",
        "import pandas as pd\n",
        "\n",
        "def apply_pca(X, n_components=20):\n",
        "    \"\"\"\n",
        "    Applies PCA to reduce the number of features.\n",
        "    Args:\n",
        "    X (DataFrame): The input features dataset.\n",
        "    n_components (int): The number of principal components to keep.\n",
        "    Returns:\n",
        "    DataFrame: Transformed feature set with reduced dimensions.\n",
        "    \"\"\"\n",
        "    # Initialize PCA\n",
        "    pca = PCA(n_components=n_components)\n",
        "    # Fit PCA on the dataset\n",
        "    pca.fit(X)\n",
        "    # Transform the dataset\n",
        "    X_pca = pca.transform(X)\n",
        "    # Convert to DataFrame for easier handling\n",
        "    X_pca_df = pd.DataFrame(X_pca, columns=[f'PC{i+1}' for i in range(n_components)])\n",
        "    return X_pca_df\n",
        "# Example usage\n",
        "# Assuming X_raw is your original dataset with 40 features\n",
        "# X_reduced = apply_pca(X_raw, n_components=20)"
      ],
      "metadata": {
        "id": "Xqd3_wzmIcif"
      },
      "id": "Xqd3_wzmIcif",
      "execution_count": 3,
      "outputs": []
    },
    {
      "cell_type": "markdown",
      "source": [
        "Lasso is a linear model that uses this cost function:\n",
        "\n",
        "$$\n",
        "\\frac{1}{2N_{\\text{training}}} \\sum_{i=1}^{N_{\\text{training}}} \\left( y^{(i)}_{\\text{real}} - y^{(i)}_{\\text{pred}} \\right)^2 + \\alpha \\sum_{j=1}^{n} |a_j|\n",
        "$$\n",
        "\n",
        "$a_j$ is the coefficient of the j-th feature. The final term is called $l_1$ penalty and $\\alpha$ is a hyperparameter that tunes the intensity of this penalty term. The higher the coefficient of a feature, the higher the value of the cost function. So, the idea of Lasso regression is to optimize the cost function reducing the absolute values of the coefficients.\n"
      ],
      "metadata": {
        "id": "1Fa2OtwzAsbH"
      },
      "id": "1Fa2OtwzAsbH"
    },
    {
      "cell_type": "code",
      "source": [
        "from sklearn.linear_model import LassoCV\n",
        "import pandas as pd\n",
        "\n",
        "def apply_lasso(X, y, n_features_to_select):\n",
        "    \"\"\"\n",
        "    Applies Lasso regression to select features.\n",
        "\n",
        "    Args:\n",
        "    X (DataFrame): The input features dataset.\n",
        "    y (Series): The target dataset.\n",
        "    n_features_to_select (int): The desired number of features to select.\n",
        "\n",
        "    Returns:\n",
        "    DataFrame: The reduced feature set.\n",
        "    List of tuples: The list of features with their corresponding absolute coefficient values.\n",
        "    \"\"\"\n",
        "    # Initialize LassoCV with cross-validation to find the optimal alpha\n",
        "    lasso = LassoCV(cv=5)\n",
        "\n",
        "    # Fit LassoCV on the dataset\n",
        "    lasso.fit(X, y)\n",
        "\n",
        "    # Get the coefficients\n",
        "    coef = lasso.coef_\n",
        "\n",
        "    # Combine features with their coefficients\n",
        "    feature_coef = list(zip(X.columns, abs(coef)))\n",
        "\n",
        "    # Sort features by the absolute value of their coefficient\n",
        "    feature_coef = sorted(feature_coef, key=lambda x: x[1], reverse=True)\n",
        "\n",
        "    # Select the top 'n_features_to_select'\n",
        "    selected_features = [feature for feature, _ in feature_coef[:n_features_to_select]]\n",
        "\n",
        "    return X[selected_features], feature_coef\n",
        "\n",
        "# Example usage\n",
        "# Assuming X and y are your datasets\n",
        "# X_reduced, feature_importances = apply_lasso(X, y, n_features_to_select=20)\n"
      ],
      "metadata": {
        "id": "Qtky8WbuJmVG"
      },
      "id": "Qtky8WbuJmVG",
      "execution_count": 4,
      "outputs": []
    },
    {
      "cell_type": "code",
      "source": [
        "X_lasso, feature_coef = apply_lasso(X_normalized, y_normalized, 20)\n",
        "# Convert the list of tuples to a DataFrame for easier plotting\n",
        "features, coefficients = zip(*feature_coef)\n",
        "df = pd.DataFrame({'Feature': features, 'Coefficient': coefficients})\n",
        "\n",
        "# Determine the threshold for the top 3 features\n",
        "top_20_threshold = df['Coefficient'].nlargest(21).min()\n",
        "\n",
        "# Create a color list, where features above the threshold are 'red' and others are 'blue'\n",
        "colors = ['blue' if x > top_20_threshold else 'red' for x in df['Coefficient']]\n",
        "\n",
        "# Plot the horizontal bar plot\n",
        "plt.figure(figsize=(8, 5.5))\n",
        "bars = plt.barh(df['Feature'], df['Coefficient'], color=colors)\n",
        "\n",
        "# Add a vertical line for the threshold of the top 3 features\n",
        "plt.axvline(x=top_20_threshold, color='green', linestyle='--', linewidth=2)\n",
        "\n",
        "# Add a horizontal line at the position of the 3rd feature\n",
        "top_20_feature_position = df[df['Coefficient'] > top_20_threshold].shape[0]\n",
        "plt.axhline(y=top_20_feature_position-0.5, color='red', linestyle='--', linewidth=2)\n",
        "\n",
        "plt.xlabel('Coefficient Value')\n",
        "plt.yticks(fontsize = 8)\n",
        "plt.title('Feature Importance with Threshold')\n",
        "plt.tight_layout()\n",
        "\n",
        "# Show the plot\n",
        "plt.show()"
      ],
      "metadata": {
        "id": "2ywuZWmYuhTl",
        "outputId": "9c3e6048-c89e-4f1c-f07c-8098fcb87a03",
        "colab": {
          "base_uri": "https://localhost:8080/",
          "height": 557
        }
      },
      "id": "2ywuZWmYuhTl",
      "execution_count": 5,
      "outputs": [
        {
          "output_type": "display_data",
          "data": {
            "text/plain": [
              "<Figure size 800x550 with 1 Axes>"
            ],
            "image/png": "[encoded data removed]"
          },
          "metadata": {}
        }
      ]
    },
    {
      "cell_type": "markdown",
      "source": [
        "## Core Fucntion ##"
      ],
      "metadata": {
        "id": "Bg_10e6ephP5"
      },
      "id": "Bg_10e6ephP5"
    },
    {
      "cell_type": "code",
      "source": [
        "from sklearn.model_selection import train_test_split, KFold, cross_val_score\n",
        "from sklearn.linear_model import Ridge\n",
        "from sklearn.preprocessing import PolynomialFeatures\n",
        "from sklearn.pipeline import make_pipeline\n",
        "import numpy as np\n",
        "\n",
        "def poly_ridge(degree, X, y, alpha_values, n_splits_cv, test_size):\n",
        "    \"\"\"\n",
        "    Performs polynomial regression with Ridge regularization.\n",
        "\n",
        "    Args:\n",
        "    degree (int): The degree of the polynomial features.\n",
        "    X (DataFrame): The features dataset.\n",
        "    y (Series): The target dataset.\n",
        "    alpha_values (array): Array of alpha values for regularization.\n",
        "    n_splits_cv (int): Number of splits for cross-validation.\n",
        "    test_size (float): The proportion of the dataset to include in the test split.\n",
        "\n",
        "    Returns:\n",
        "    dict: A dictionary containing model performance metrics and optimal parameters.\n",
        "    \"\"\"\n",
        "\n",
        "    # Split the dataset into training and testing sets\n",
        "    X_cv, X_test, y_cv, y_test = train_test_split(X, y, test_size=test_size, random_state=0)\n",
        "\n",
        "    # Initialize arrays for storing scores and coefficients\n",
        "    r2_validation = np.empty(len(alpha_values))\n",
        "\n",
        "    # Loop over different values of alpha (regularization strength)\n",
        "    for i, alpha in enumerate(alpha_values):\n",
        "        # Transform data to include polynomial features, include_bias=False because Ridge has the intercept by default\n",
        "        polynomial_features = PolynomialFeatures(degree=degree, include_bias=False)\n",
        "        # Create a pipeline with polynomial features and ridge regression\n",
        "        model = make_pipeline(polynomial_features, Ridge(alpha=alpha))\n",
        "\n",
        "        # Calculate the mean R^2 score from k-fold cross-validation\n",
        "        r2_validation[i] = cross_val_score(model, X_cv, y_cv, cv=n_splits_cv).mean()\n",
        "\n",
        "    # Find the index of the best alpha value\n",
        "    i_best = np.argmax(r2_validation)\n",
        "    alpha_best = alpha_values[i_best]\n",
        "\n",
        "    # Train the model with the best alpha value on the full CV dataset\n",
        "    best_model = make_pipeline(PolynomialFeatures(degree=degree, include_bias=False), Ridge(alpha=alpha_best))\n",
        "    best_model.fit(X_cv, y_cv)\n",
        "\n",
        "    # Calculate R^2 score on the test dataset\n",
        "    r2_test = best_model.score(X_test, y_test)\n",
        "\n",
        "    # Return a dictionary containing the results\n",
        "    return {\n",
        "        'r2_validation': r2_validation,\n",
        "        'i_best': i_best,\n",
        "        'alpha_best': alpha_best,\n",
        "        'r2_test': r2_test\n",
        "    }"
      ],
      "metadata": {
        "id": "3I5bkqc3BNJW"
      },
      "id": "3I5bkqc3BNJW",
      "execution_count": 6,
      "outputs": []
    },
    {
      "cell_type": "code",
      "source": [
        "\n",
        "# Example usage\n",
        "# results = poly_ridge(degree=3, X=X_normalized, y=y_normalized, alpha_values=np.logspace(-4, 4, 10), n_splits_cv=5, test_size=0.25)\n",
        "# print(results)"
      ],
      "metadata": {
        "id": "Lrh-F4MRBQZZ"
      },
      "id": "Lrh-F4MRBQZZ",
      "execution_count": 7,
      "outputs": []
    },
    {
      "cell_type": "markdown",
      "source": [
        "# Results"
      ],
      "metadata": {
        "id": "G5hc8M5tPg2G"
      },
      "id": "G5hc8M5tPg2G"
    },
    {
      "cell_type": "markdown",
      "source": [
        "## 40 features"
      ],
      "metadata": {
        "id": "d2Zg-7ZPP64u"
      },
      "id": "d2Zg-7ZPP64u"
    },
    {
      "cell_type": "markdown",
      "source": [
        "We don't have enough memory to run the third degree polynomial with 40 features, so in this case we will examine only the ridge regression for linear and second degree polynomial"
      ],
      "metadata": {
        "id": "8kDxnatnP-jV"
      },
      "id": "8kDxnatnP-jV"
    },
    {
      "cell_type": "code",
      "source": [
        "alpha_values_40 =np.logspace(-4, 4, 10)"
      ],
      "metadata": {
        "id": "VOacHrVaTHEc"
      },
      "id": "VOacHrVaTHEc",
      "execution_count": 8,
      "outputs": []
    },
    {
      "cell_type": "code",
      "source": [
        "# Degree 1\n",
        "results_40_linear = poly_ridge(degree=1, X=X_normalized, y=y_normalized, alpha_values=alpha_values_40, n_splits_cv=5, test_size=0.25)\n",
        "print(results_40_linear)"
      ],
      "metadata": {
        "id": "fM1GO0iWvLN-",
        "outputId": "69c3b414-8766-4d5a-c36e-107cea34ee2c",
        "colab": {
          "base_uri": "https://localhost:8080/"
        }
      },
      "id": "fM1GO0iWvLN-",
      "execution_count": 9,
      "outputs": [
        {
          "output_type": "stream",
          "name": "stdout",
          "text": [
            "{'r2_validation': array([0.91979408, 0.91979408, 0.91979408, 0.91979407, 0.91979408,\n",
            "       0.91979407, 0.91979388, 0.91978108, 0.91932144, 0.91427956]), 'i_best': 0, 'alpha_best': 0.0001, 'r2_test': 0.9205143468647179}\n"
          ]
        }
      ]
    },
    {
      "cell_type": "code",
      "source": [
        "# Degree 2\n",
        "results_40_second = poly_ridge(degree=2, X=X_normalized, y=y_normalized, alpha_values=alpha_values_40, n_splits_cv=5, test_size=0.25)"
      ],
      "metadata": {
        "id": "dMSyPMaE05y-"
      },
      "id": "dMSyPMaE05y-",
      "execution_count": null,
      "outputs": []
    },
    {
      "cell_type": "code",
      "source": [
        "print(results_40_second)"
      ],
      "metadata": {
        "id": "r2emj51AKVAF",
        "outputId": "d4724ae7-9724-4d4a-e62f-00aab8e41681",
        "colab": {
          "base_uri": "https://localhost:8080/"
        }
      },
      "id": "r2emj51AKVAF",
      "execution_count": 11,
      "outputs": [
        {
          "output_type": "stream",
          "name": "stdout",
          "text": [
            "{'r2_validation': array([0.94159705, 0.94159705, 0.94159704, 0.94159706, 0.94159731,\n",
            "       0.94159811, 0.94159302, 0.94151145, 0.94071196, 0.93618833]), 'i_best': 5, 'alpha_best': 2.782559402207126, 'r2_test': 0.9418065467502197}\n"
          ]
        }
      ]
    },
    {
      "cell_type": "markdown",
      "source": [
        "## 20 features"
      ],
      "metadata": {
        "id": "j9YEyiQZRTJh"
      },
      "id": "j9YEyiQZRTJh"
    },
    {
      "cell_type": "code",
      "source": [
        "alpha_values_20 =np.logspace(-4, 4, 10)"
      ],
      "metadata": {
        "id": "GKhmDmP8ZYI3"
      },
      "id": "GKhmDmP8ZYI3",
      "execution_count": 13,
      "outputs": []
    },
    {
      "cell_type": "markdown",
      "source": [
        "### Getting the results for 20 features (PCA)"
      ],
      "metadata": {
        "id": "rfYL7zPjTknp"
      },
      "id": "rfYL7zPjTknp"
    },
    {
      "cell_type": "code",
      "source": [
        "X_20_PCA = apply_pca(X_normalized, 20)\n",
        "alpha_values_20_PCA =np.logspace(-4, 4, 10)"
      ],
      "metadata": {
        "id": "3V0iUmfWTpn-"
      },
      "id": "3V0iUmfWTpn-",
      "execution_count": 14,
      "outputs": []
    },
    {
      "cell_type": "code",
      "source": [
        "# Degree 1\n",
        "results_20_linear_PCA = poly_ridge(degree=1, X=X_20_PCA, y=y_normalized, alpha_values=alpha_values_20_PCA, n_splits_cv=5, test_size=0.25)\n",
        "print(results_20_linear_PCA)"
      ],
      "metadata": {
        "id": "J729HpmqVcoF",
        "outputId": "c653afcd-abda-4302-c38e-aea8ae052dbc",
        "colab": {
          "base_uri": "https://localhost:8080/"
        }
      },
      "id": "J729HpmqVcoF",
      "execution_count": 15,
      "outputs": [
        {
          "output_type": "stream",
          "name": "stdout",
          "text": [
            "{'r2_validation': array([0.90027472, 0.90027472, 0.90027472, 0.90027472, 0.90027472,\n",
            "       0.90027472, 0.90027472, 0.9002747 , 0.90027256, 0.90015842]), 'i_best': 6, 'alpha_best': 21.54434690031882, 'r2_test': 0.9004984622804788}\n"
          ]
        }
      ]
    },
    {
      "cell_type": "code",
      "source": [
        "# Degree 2\n",
        "results_20_second_PCA = poly_ridge(degree=2, X=X_20_PCA, y=y_normalized, alpha_values=alpha_values_20_PCA, n_splits_cv=5, test_size=0.25)\n",
        "print(results_20_second_PCA)"
      ],
      "metadata": {
        "id": "zd63YBrWVrvO",
        "outputId": "490714dd-d478-4167-be34-55341e368a96",
        "colab": {
          "base_uri": "https://localhost:8080/"
        }
      },
      "id": "zd63YBrWVrvO",
      "execution_count": 16,
      "outputs": [
        {
          "output_type": "stream",
          "name": "stdout",
          "text": [
            "{'r2_validation': array([0.91563004, 0.91563004, 0.91563004, 0.91563004, 0.91563004,\n",
            "       0.91563005, 0.9156301 , 0.91563039, 0.91562763, 0.91542057]), 'i_best': 7, 'alpha_best': 166.81005372000558, 'r2_test': 0.9159360096197793}\n"
          ]
        }
      ]
    },
    {
      "cell_type": "code",
      "source": [
        "# Degree 3\n",
        "results_20_third_PCA = poly_ridge(degree=3, X=X_20_PCA, y=y_normalized, alpha_values=alpha_values_20_PCA, n_splits_cv=5, test_size=0.25)"
      ],
      "metadata": {
        "id": "7GRZVCcFVz-4"
      },
      "id": "7GRZVCcFVz-4",
      "execution_count": null,
      "outputs": []
    },
    {
      "cell_type": "code",
      "source": [
        "print(results_20_third_PCA)"
      ],
      "metadata": {
        "colab": {
          "base_uri": "https://localhost:8080/"
        },
        "id": "rhpO-AiaJ2j7",
        "outputId": "4e7750d0-1aab-4702-8e32-c4cb3d1ab7e2"
      },
      "id": "rhpO-AiaJ2j7",
      "execution_count": 20,
      "outputs": [
        {
          "output_type": "stream",
          "name": "stdout",
          "text": [
            "{'r2_validation': array([0.92558642, 0.92558642, 0.92558625, 0.92558644, 0.92558632,\n",
            "       0.92558678, 0.9255877 , 0.9255944 , 0.92555541, 0.92463696]), 'i_best': 7, 'alpha_best': 166.81005372000558, 'r2_test': 0.9263174718020803}\n"
          ]
        }
      ]
    },
    {
      "cell_type": "markdown",
      "source": [
        "### Getting the results for 20 features (Lasso)"
      ],
      "metadata": {
        "id": "LbMFHrQtZ8eS"
      },
      "id": "LbMFHrQtZ8eS"
    },
    {
      "cell_type": "code",
      "source": [
        "X_20_Lasso, feature_coef = apply_lasso(X_normalized, y_normalized, 20)\n",
        "alpha_values_20_Lasso =np.logspace(-4, 4, 10)"
      ],
      "metadata": {
        "id": "lxGitrO-ge60"
      },
      "id": "lxGitrO-ge60",
      "execution_count": 23,
      "outputs": []
    },
    {
      "cell_type": "code",
      "source": [
        "# Degree 1\n",
        "results_20_linear_Lasso = poly_ridge(degree=1, X=X_20_Lasso, y=y_normalized, alpha_values=alpha_values_20_PCA, n_splits_cv=5, test_size=0.25)\n",
        "print(results_20_linear_Lasso)"
      ],
      "metadata": {
        "id": "ckIuFlpxgke-",
        "outputId": "0a5d4e02-cede-4c28-d1c2-be84ad8f7f5a",
        "colab": {
          "base_uri": "https://localhost:8080/"
        }
      },
      "id": "ckIuFlpxgke-",
      "execution_count": 24,
      "outputs": [
        {
          "output_type": "stream",
          "name": "stdout",
          "text": [
            "{'r2_validation': array([0.91897913, 0.91897913, 0.91897913, 0.91897914, 0.91897914,\n",
            "       0.91897914, 0.91897899, 0.91897027, 0.91863328, 0.91409492]), 'i_best': 5, 'alpha_best': 2.782559402207126, 'r2_test': 0.9196585752223251}\n"
          ]
        }
      ]
    },
    {
      "cell_type": "code",
      "source": [
        "# Degree 2\n",
        "results_20_second_Lasso = poly_ridge(degree=2, X=X_20_Lasso, y=y_normalized, alpha_values=alpha_values_20_Lasso, n_splits_cv=5, test_size=0.25)\n",
        "print(results_20_second_Lasso)"
      ],
      "metadata": {
        "id": "UkkfVVihgp6F",
        "outputId": "c5f80577-ca2b-4a85-a4a7-949dabe3f54f",
        "colab": {
          "base_uri": "https://localhost:8080/"
        }
      },
      "id": "UkkfVVihgp6F",
      "execution_count": 25,
      "outputs": [
        {
          "output_type": "stream",
          "name": "stdout",
          "text": [
            "{'r2_validation': array([0.93595817, 0.93595817, 0.93595817, 0.93595819, 0.93595818,\n",
            "       0.93595818, 0.93595411, 0.9358954 , 0.9351684 , 0.92989065]), 'i_best': 3, 'alpha_best': 0.046415888336127774, 'r2_test': 0.9361751343624192}\n"
          ]
        }
      ]
    },
    {
      "cell_type": "code",
      "source": [
        "# Degree 3\n",
        "results_20_third_Lasso = poly_ridge(degree=3, X=X_20_Lasso, y=y_normalized, alpha_values=alpha_values_20_Lasso, n_splits_cv=5, test_size=0.25)"
      ],
      "metadata": {
        "id": "pTE-K5eZhZyq"
      },
      "id": "pTE-K5eZhZyq",
      "execution_count": null,
      "outputs": []
    },
    {
      "cell_type": "code",
      "source": [
        "print(results_20_third_Lasso)"
      ],
      "metadata": {
        "colab": {
          "base_uri": "https://localhost:8080/"
        },
        "id": "ljLY8vNNLTDC",
        "outputId": "42ab53bf-f63b-4c4d-8454-3dd9e1d7ae11"
      },
      "id": "ljLY8vNNLTDC",
      "execution_count": 27,
      "outputs": [
        {
          "output_type": "stream",
          "name": "stdout",
          "text": [
            "{'r2_validation': array([0.94322811, 0.9432281 , 0.94322811, 0.92771522, 0.94286743,\n",
            "       0.94079323, 0.94424622, 0.94410242, 0.94310298, 0.93949173]), 'i_best': 6, 'alpha_best': 21.54434690031882, 'r2_test': 0.9444842937543287}\n"
          ]
        }
      ]
    },
    {
      "cell_type": "markdown",
      "source": [
        "## Plot the figures"
      ],
      "metadata": {
        "id": "0mSPZOGWWAx8"
      },
      "id": "0mSPZOGWWAx8"
    },
    {
      "cell_type": "markdown",
      "source": [
        "### Plot_3d function"
      ],
      "metadata": {
        "id": "LO2UTuX2X_jL"
      },
      "id": "LO2UTuX2X_jL"
    },
    {
      "cell_type": "code",
      "source": [
        "import matplotlib.pyplot as plt\n",
        "import numpy as np\n",
        "\n",
        "def plot_3d(models, alpha_values, r2_validation_arrays):\n",
        "    \"\"\"\n",
        "    Plots a 3D of ridge curves of different models .\n",
        "\n",
        "    Parameters:\n",
        "    models (list): A list of models for the X-axis.\n",
        "    alpha_values (array): An array of alpha values for the Y-axis.\n",
        "    r2_validation_arrays (list of arrays): A list of r2_validation for the Z-axis, each corresponding to a model.\n",
        "    \"\"\"\n",
        "    X, Y = np.meshgrid(range(1, len(models) + 1), alpha_values)\n",
        "\n",
        "    fig = plt.figure()\n",
        "    ax = fig.add_subplot(111, projection='3d')\n",
        "\n",
        "    # Set the positions for the labels to be closer\n",
        "    label_positions = np.linspace(1, 1.2, len(labels))\n",
        "    for i, (label, z) in enumerate(zip(models, r2_validation_arrays)):\n",
        "        X = np.full_like(z, label_positions[i])  # Adjusting label positions\n",
        "        Y = alpha_values\n",
        "        ax.scatter(X, np.log10(Y), z, label=models)  # Apply log scale transformation\n",
        "\n",
        "    ax.set_xlabel('Models')\n",
        "    ax.set_ylabel('Alpha Values')\n",
        "    ax.set_zlabel('R2 validation')\n",
        "    ax.set_title('Ridge regression with several models')\n",
        "    ax.set_xticks(label_positions)\n",
        "    ax.set_xticklabels(models)\n",
        "    # Set the y ticks to represent the log scale\n",
        "    y_ticks = np.logspace(np.log10(alpha_values.min()), np.log10(alpha_values.max()), num=5)\n",
        "    ax.set_yticks(np.log10(y_ticks))\n",
        "    ax.set_yticklabels(y_ticks)\n",
        "    plt.show()\n"
      ],
      "metadata": {
        "id": "QFuFVVxvWHNe"
      },
      "id": "QFuFVVxvWHNe",
      "execution_count": 63,
      "outputs": []
    },
    {
      "cell_type": "code",
      "source": [
        "import matplotlib.pyplot as plt\n",
        "import numpy as np\n",
        "\n",
        "def plot_2d(models, alpha_values, r2_validation_arrays):\n",
        "    \"\"\"\n",
        "    Plots a 2D of ridge curves of different models .\n",
        "\n",
        "    Parameters:\n",
        "    models (list): A list of models for the X-axis.\n",
        "    alpha_values (array): An array of alpha values for the Y-axis.\n",
        "    r2_validation_arrays (list of arrays): A list of r2_validation for the Z-axis, each corresponding to a model.\n",
        "    \"\"\"\n",
        "    # Set up the plot\n",
        "    fig, ax = plt.subplots()\n",
        "\n",
        "    # Plot each set of data\n",
        "    for i,z in enumerate(r2_validation_arrays):\n",
        "        ax.scatter(alpha_values, z, label=f\"{models[i]}\")\n",
        "\n",
        "    ax.set_xscale('log')\n",
        "    ax.set_xlabel('Alpha values')\n",
        "    ax.set_ylabel('R2 validation')\n",
        "    ax.set_title('Ridge regression with several models')\n",
        "    ax.legend(loc='center left', bbox_to_anchor=(1, 0.5), shadow=True, ncol=2)\n",
        "\n",
        "    plt.show()"
      ],
      "metadata": {
        "id": "J7pkhQ2QazTw"
      },
      "id": "J7pkhQ2QazTw",
      "execution_count": 92,
      "outputs": []
    },
    {
      "cell_type": "markdown",
      "source": [
        "### 40 features figures"
      ],
      "metadata": {
        "id": "bVOiwiHfVSdb"
      },
      "id": "bVOiwiHfVSdb"
    },
    {
      "cell_type": "code",
      "source": [
        "# 2D plot\n",
        "models = ['1st', '2nd']\n",
        "alpha_values = alpha_values_40\n",
        "z_1st = results_40_linear['r2_validation']\n",
        "z_2nd = results_40_second['r2_validation']\n",
        "plot_2d(models, alpha_values, [z_1st, z_2nd])"
      ],
      "metadata": {
        "colab": {
          "base_uri": "https://localhost:8080/",
          "height": 476
        },
        "id": "KELaZNcHUWIN",
        "outputId": "f30e0d9b-fece-4777-d397-bb9ccc3ce9a4"
      },
      "id": "KELaZNcHUWIN",
      "execution_count": 93,
      "outputs": [
        {
          "output_type": "display_data",
          "data": {
            "text/plain": [
              "<Figure size 640x480 with 1 Axes>"
            ],
            "image/png": "[encoded data removed]"
          },
          "metadata": {}
        }
      ]
    },
    {
      "cell_type": "markdown",
      "source": [
        "### 20 features figures"
      ],
      "metadata": {
        "id": "MNEnrQm7c_cb"
      },
      "id": "MNEnrQm7c_cb"
    },
    {
      "cell_type": "code",
      "source": [
        "# 2D plot for 20 features using PCA\n",
        "models = ['PCA_1st', 'PCA_2nd','PCA_3rd', 'Lasso_1st', 'Lasso_2nd','Lasso_3rd']\n",
        "alpha_values = alpha_values_20_PCA\n",
        "z_1st_PCA = results_20_linear_PCA['r2_validation']\n",
        "z_2nd_PCA = results_20_second_PCA['r2_validation']\n",
        "z_3rd_PCA = results_20_third_PCA['r2_validation']\n",
        "z_1st_Lasso = results_20_linear_Lasso['r2_validation']\n",
        "z_2nd_Lasso = results_20_second_Lasso['r2_validation']\n",
        "z_3rd_Lasso = results_20_third_Lasso['r2_validation']\n",
        "plot_2d(models, alpha_values, [z_1st_PCA, z_2nd_PCA, z_3rd_PCA, z_1st_Lasso, z_2nd_Lasso, z_3rd_Lasso])"
      ],
      "metadata": {
        "id": "E-2bj7o8dG24",
        "outputId": "ea23a4ff-3ba5-4afc-a31d-ce92facdb882",
        "colab": {
          "base_uri": "https://localhost:8080/",
          "height": 476
        }
      },
      "id": "E-2bj7o8dG24",
      "execution_count": 94,
      "outputs": [
        {
          "output_type": "display_data",
          "data": {
            "text/plain": [
              "<Figure size 640x480 with 1 Axes>"
            ],
            "image/png": "[encoded data removed]"
          },
          "metadata": {}
        }
      ]
    },
    {
      "cell_type": "markdown",
      "source": [
        "### Plot R2 test of all the models"
      ],
      "metadata": {
        "id": "ZTugp4EffzvY"
      },
      "id": "ZTugp4EffzvY"
    },
    {
      "cell_type": "code",
      "source": [
        "# Set up the plot\n",
        "models = ['4O_1st', '40_2nd', 'PCA_1st', 'PCA_2nd','PCA_3rd', 'Lasso_1st', 'Lasso_2nd','Lasso_3rd']\n",
        "r2_tests = [\n",
        "    results_40_linear['r2_test'], results_40_second['r2_test'],\n",
        "    results_20_linear_PCA['r2_test'], results_20_second_PCA['r2_test'],\n",
        "    results_20_third_PCA['r2_test'], results_20_linear_Lasso['r2_test'],\n",
        "    results_20_second_Lasso['r2_test'], results_20_third_Lasso['r2_test']\n",
        "]\n",
        "fig, ax = plt.subplots(figsize = (12,4))\n",
        "ax.scatter(models, r2_tests)\n",
        "ax.set_xlabel('Alpha values')\n",
        "ax.set_ylabel('R2 validation')\n",
        "ax.set_title('Ridge regression with several models')"
      ],
      "metadata": {
        "id": "6U52HfuXf5oi",
        "outputId": "32d28b69-1f63-4074-ab4a-3ae914fa2f6d",
        "colab": {
          "base_uri": "https://localhost:8080/",
          "height": 427
        }
      },
      "id": "6U52HfuXf5oi",
      "execution_count": 105,
      "outputs": [
        {
          "output_type": "execute_result",
          "data": {
            "text/plain": [
              "Text(0.5, 1.0, 'Ridge regression with several models')"
            ]
          },
          "metadata": {},
          "execution_count": 105
        },
        {
          "output_type": "display_data",
          "data": {
            "text/plain": [
              "<Figure size 1200x400 with 1 Axes>"
            ],
            "image/png": "[encoded data removed]"
          },
          "metadata": {}
        }
      ]
    },
    {
      "cell_type": "markdown",
      "id": "ad79471d",
      "metadata": {
        "id": "ad79471d"
      },
      "source": [
        "***\n",
        "## Credit\n",
        "\n",
        "[//]: # \"This notebook is part of [E4C Interdisciplinary Center - Education](https://gitlab.in2p3.fr/energy4climate/public/education).\"\n",
        "Contributors include Bruno Deremble and Alexis Tantet.\n",
        "Several slides and images are taken from the very good [Scikit-learn course](https://inria.github.io/scikit-learn-mooc/).\n",
        "\n",
        "<br>\n",
        "\n",
        "<div style=\"display: flex; height: 70px\">\n",
        "    \n",
        "<img alt=\"Logo LMD\" src=\"https://github.com/VTNay/MEC557-Project/blob/main/images/logos/logo_lmd.jpg?raw=1\" style=\"display: inline-block\"/>\n",
        "\n",
        "<img alt=\"Logo IPSL\" src=\"https://github.com/VTNay/MEC557-Project/blob/main/images/logos/logo_ipsl.png?raw=1\" style=\"display: inline-block\"/>\n",
        "\n",
        "<img alt=\"Logo E4C\" src=\"https://github.com/VTNay/MEC557-Project/blob/main/images/logos/logo_e4c_final.png?raw=1\" style=\"display: inline-block\"/>\n",
        "\n",
        "<img alt=\"Logo EP\" src=\"https://github.com/VTNay/MEC557-Project/blob/main/images/logos/logo_ep.png?raw=1\" style=\"display: inline-block\"/>\n",
        "\n",
        "<img alt=\"Logo SU\" src=\"https://github.com/VTNay/MEC557-Project/blob/main/images/logos/logo_su.png?raw=1\" style=\"display: inline-block\"/>\n",
        "\n",
        "<img alt=\"Logo ENS\" src=\"https://github.com/VTNay/MEC557-Project/blob/main/images/logos/logo_ens.jpg?raw=1\" style=\"display: inline-block\"/>\n",
        "\n",
        "<img alt=\"Logo CNRS\" src=\"https://github.com/VTNay/MEC557-Project/blob/main/images/logos/logo_cnrs.png?raw=1\" style=\"display: inline-block\"/>\n",
        "    \n",
        "</div>\n",
        "\n",
        "<hr>\n",
        "\n",
        "<div style=\"display: flex\">\n",
        "    <a rel=\"license\" href=\"http://creativecommons.org/licenses/by-sa/4.0/\"><img alt=\"Creative Commons License\" style=\"border-width:0; margin-right: 10px\" src=\"https://i.creativecommons.org/l/by-sa/4.0/88x31.png\" /></a>\n",
        "    <br>This work is licensed under a &nbsp; <a rel=\"license\" href=\"http://creativecommons.org/licenses/by-sa/4.0/\">Creative Commons Attribution-ShareAlike 4.0 International License</a>.\n",
        "</div>"
      ]
    }
  ],
  "metadata": {
    "kernelspec": {
      "display_name": "Python 3",
      "language": "python",
      "name": "python3"
    },
    "language_info": {
      "codemirror_mode": {
        "name": "ipython",
        "version": 3
      },
      "file_extension": ".py",
      "mimetype": "text/x-python",
      "name": "python",
      "nbconvert_exporter": "python",
      "pygments_lexer": "ipython3",
      "version": "3.9.12"
    },
    "latex_envs": {
      "LaTeX_envs_menu_present": true,
      "autoclose": true,
      "autocomplete": false,
      "bibliofile": "biblio.bib",
      "cite_by": "apalike",
      "current_citInitial": 1,
      "eqLabelWithNumbers": true,
      "eqNumInitial": 1,
      "hotkeys": {
        "equation": "Ctrl-E",
        "itemize": "Ctrl-I"
      },
      "labels_anchors": false,
      "latex_user_defs": false,
      "report_style_numbering": false,
      "user_envs_cfg": false
    },
    "toc": {
      "base_numbering": 1,
      "nav_menu": {},
      "number_sections": true,
      "sideBar": true,
      "skip_h1_title": false,
      "title_cell": "Table of Contents",
      "title_sidebar": "Contents",
      "toc_cell": false,
      "toc_position": {},
      "toc_section_display": true,
      "toc_window_display": false
    },
    "varInspector": {
      "cols": {
        "lenName": 16,
        "lenType": 16,
        "lenVar": 40
      },
      "kernels_config": {
        "python": {
          "delete_cmd_postfix": "",
          "delete_cmd_prefix": "del ",
          "library": "var_list.py",
          "varRefreshCmd": "print(var_dic_list())"
        },
        "r": {
          "delete_cmd_postfix": ") ",
          "delete_cmd_prefix": "rm(",
          "library": "var_list.r",
          "varRefreshCmd": "cat(var_dic_list()) "
        }
      },
      "types_to_exclude": [
        "module",
        "function",
        "builtin_function_or_method",
        "instance",
        "_Feature"
      ],
      "window_display": false
    },
    "colab": {
      "provenance": [],
      "machine_shape": "hm",
      "include_colab_link": true
    }
  },
  "nbformat": 4,
  "nbformat_minor": 5
}