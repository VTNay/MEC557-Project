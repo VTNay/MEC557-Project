{
  "cells": [
    {
      "cell_type": "markdown",
      "metadata": {
        "id": "view-in-github",
        "colab_type": "text"
      },
      "source": [
        "<a href=\"https://colab.research.google.com/github/VTNay/MEC557-Project/blob/Ma/MEC557_Weather.ipynb\" target=\"_parent\"><img src=\"https://colab.research.google.com/assets/colab-badge.svg\" alt=\"Open In Colab\"/></a>"
      ]
    },
    {
      "cell_type": "markdown",
      "id": "f1ae401f",
      "metadata": {
        "id": "f1ae401f"
      },
      "source": [
        "# Projects\n",
        "\n",
        "[![Binder](https://mybinder.org/badge_logo.svg)](https://mybinder.org/v2/git/https%3A%2F%2Fgitlab.in2p3.fr%2Fenergy4climate%2Fpublic%2Feducation%2Fmachine_learning_for_climate_and_energy/master?filepath=book%2Fnotebooks%2Fprojects.ipynb)"
      ]
    },
    {
      "cell_type": "code",
      "source": [
        "from google.colab import drive\n",
        "drive.mount('/content/drive')"
      ],
      "metadata": {
        "colab": {
          "base_uri": "https://localhost:8080/"
        },
        "id": "EfvEaXMCKKvc",
        "outputId": "ca4578ef-a0bb-4b4c-d534-9b7c8caddc8c"
      },
      "id": "EfvEaXMCKKvc",
      "execution_count": null,
      "outputs": [
        {
          "output_type": "stream",
          "name": "stdout",
          "text": [
            "Drive already mounted at /content/drive; to attempt to forcibly remount, call drive.mount(\"/content/drive\", force_remount=True).\n"
          ]
        }
      ]
    },
    {
      "cell_type": "markdown",
      "id": "03d41164",
      "metadata": {
        "id": "03d41164"
      },
      "source": [
        "<div class=\"alert alert-block alert-warning\">\n",
        "    <b>Schedule</b>\n",
        "    \n",
        "- Ask your supervisors for the data if not already provided (it is not included in this repository).\n",
        "- Quick presentation.\n",
        "- Final project presentation.\n",
        "    \n",
        "</div>"
      ]
    },
    {
      "cell_type": "markdown",
      "id": "01b8a8b3",
      "metadata": {
        "id": "01b8a8b3"
      },
      "source": [
        "<div class=\"alert alert-block alert-info\">\n",
        "    <b>One problematic, One dataset, One (or more) method(s)</b>\n",
        "    \n",
        "- Quality of the dataset is key.\n",
        "- Results on a clean notebook.\n",
        "- Explain which method(s) you used and why.\n",
        "- If a method fails, explain why.\n",
        "\n",
        "</div>"
      ]
    },
    {
      "cell_type": "markdown",
      "id": "b309f16e",
      "metadata": {
        "id": "b309f16e"
      },
      "source": [
        "## Project: Weather station"
      ]
    },
    {
      "cell_type": "markdown",
      "id": "912d896e",
      "metadata": {
        "id": "912d896e"
      },
      "source": [
        "<img alt=\"weather\" src=\"https://github.com/VTNay/MEC557-Project/blob/main/images/map.png?raw=1\" width=400>"
      ]
    },
    {
      "cell_type": "markdown",
      "id": "2372e364",
      "metadata": {
        "id": "2372e364"
      },
      "source": [
        "- Suppose there are 5 weather stations that monitor the weather: Paris, Brest, London, Marseille and Berlin.\n",
        "- The weather station in Paris breaks down\n",
        "- Can we use the other stations to infer the weather in Paris"
      ]
    },
    {
      "cell_type": "markdown",
      "id": "66ae5a0d",
      "metadata": {
        "id": "66ae5a0d"
      },
      "source": [
        "### Data set\n",
        "\n",
        "<img alt=\"weather\" src=\"https://github.com/VTNay/MEC557-Project/blob/main/images/annual_temperature.png?raw=1\" width=400>\n",
        "\n",
        "- Surface variables: skt, u10, v10, t2m, d2m, tcc, sp, tp, ssrd, blh\n",
        "- Temporal resolution: hourly\n",
        "- Spatial resolution: N/A"
      ]
    },
    {
      "cell_type": "markdown",
      "id": "73ad9743",
      "metadata": {
        "id": "73ad9743"
      },
      "source": [
        "### First steps\n",
        "\n",
        "- Look at the correlations between variables.\n",
        "- What variable do I want to predict\n",
        "- What time scale am interested in?\n",
        "- Start with the easy predictions and move on to harder ones\n",
        "- Are there events that are more predictable than others?"
      ]
    },
    {
      "cell_type": "code",
      "execution_count": null,
      "id": "da094902",
      "metadata": {
        "id": "da094902"
      },
      "outputs": [],
      "source": [
        "from pathlib import Path\n",
        "import numpy as np\n",
        "import pandas as pd\n",
        "import xarray as xr\n",
        "from functools import reduce\n",
        "from matplotlib import pyplot as plt\n",
        "from sklearn import preprocessing\n",
        "\n",
        "paris_path = Path('/content/drive/My Drive/PHY557_Project/weather/paris')\n",
        "brest_path = Path('/content/drive/My Drive/PHY557_Project/weather/brest')\n",
        "london_path = Path('/content/drive/My Drive/PHY557_Project/weather/london')\n",
        "marseille_path = Path('/content/drive/My Drive/PHY557_Project/weather/marseille')\n",
        "berlin_path = Path('/content/drive/My Drive/PHY557_Project/weather/berlin')\n",
        "\n",
        "file_path = {'t2m': 't2m.nc', 'blh': 'blh.nc', 'd2m': 'd2m.nc', 'skt': 'skt.nc', 'sp': 'sp.nc', 'ssrd': 'ssrd.nc', 'tcc': 'tcc.nc', 'tp': 'tp.nc', 'u10': 'u10.nc', 'v10': 'v10.nc'}\n",
        "City_path = {'Paris': paris_path, 'Brest': brest_path, 'London': london_path, 'Marseille': marseille_path, 'Berlin': berlin_path}\n",
        "\n",
        "Weather_stations = {'Paris': [], 'Brest': [], 'London': [], 'Marseille': [], 'Berlin': []}\n",
        "for i in Weather_stations:\n",
        "  Weather_stations[i] = {'t2m': [], 'blh': [], 'd2m': [], 'skt': [], 'sp': [], 'ssrd': [], 'tcc': [], 'tp': [], 'u10': [], 'v10': []}\n",
        "\n",
        "for city in Weather_stations:\n",
        "  for i in Weather_stations[city]:\n",
        "    temp = xr.open_dataset(Path(City_path[city], file_path[i]))\n",
        "    temp = temp.to_dataframe()\n",
        "    if i == 'd2m' or i == 'blh':\n",
        "      temp = temp.droplevel([1,2])\n",
        "    else:\n",
        "      temp = temp.droplevel([0,1])\n",
        "    Weather_stations[city][i] = temp\n",
        "  #merge them into 1 dataframe\n",
        "  Weather_stations[city] = reduce(lambda left, right: pd.merge(left, right, left_index=True, right_index=True, how='outer'), Weather_stations[city].values())"
      ]
    },
    {
      "cell_type": "code",
      "source": [
        "Berlin = Weather_stations['Berlin']\n",
        "Brest =  Weather_stations['Brest']\n",
        "London = Weather_stations['London']\n",
        "Paris = Weather_stations['Paris']\n",
        "Marseille = Weather_stations['Marseille']\n",
        "Paris = Paris[Paris.index < '2020-01-01 07:00:00'] #All dataframe has the same number of rows"
      ],
      "metadata": {
        "id": "u-fkGxxJw0WX"
      },
      "id": "u-fkGxxJw0WX",
      "execution_count": null,
      "outputs": []
    },
    {
      "cell_type": "code",
      "source": [
        "# Function to rename columns\n",
        "def rename_columns(df, prefix):\n",
        "    return df.rename(columns={col: f\"{prefix}_{col}\" for col in df.columns})\n",
        "# Rename columns of each DataFrame so that the feature in X will be 'Berlin_t2m', 'Berlin_u10', 'London_t2m',...\n",
        "Berlin = rename_columns(Berlin, 'Berlin')\n",
        "Brest = rename_columns(Brest, 'Brest')\n",
        "London = rename_columns(London, 'London')\n",
        "Marseille = rename_columns(Marseille, 'Marseille')"
      ],
      "metadata": {
        "id": "KG4hH1ZCztTf"
      },
      "id": "KG4hH1ZCztTf",
      "execution_count": null,
      "outputs": []
    },
    {
      "cell_type": "code",
      "source": [
        "#Data cleaning\n",
        "# Concatenate X = Berlin, Brest, London, Marseille and y = Paris\n",
        "combined = pd.concat([Berlin, Brest, London, Marseille, Paris], axis=1)\n",
        "# Drop NA values\n",
        "combined = combined.dropna()\n",
        "# Split them back into X and y\n",
        "X_raw = combined.iloc[:, :-10]  # X has 40 features\n",
        "y = combined.loc[:,'t2m']  # y is the temperature in Paris\n",
        "# Normalize X and y\n",
        "X_raw = (X_raw - X_raw.mean())/ X_raw.std()\n",
        "y = (y - y.mean())/y.std()\n",
        "# Number of years\n",
        "n_years = y.index.year.max() - y.index.year.min() + 1\n",
        "n_years"
      ],
      "metadata": {
        "id": "3mheGo1gm0T3",
        "colab": {
          "base_uri": "https://localhost:8080/"
        },
        "outputId": "bc9b4dc8-4989-4559-c5a5-11a270160811"
      },
      "id": "3mheGo1gm0T3",
      "execution_count": null,
      "outputs": [
        {
          "output_type": "execute_result",
          "data": {
            "text/plain": [
              "40"
            ]
          },
          "metadata": {},
          "execution_count": 27
        }
      ]
    },
    {
      "cell_type": "markdown",
      "source": [
        "**PCA**"
      ],
      "metadata": {
        "id": "E8xgsWcB_n48"
      },
      "id": "E8xgsWcB_n48"
    },
    {
      "cell_type": "markdown",
      "source": [
        "Lasso is a linear model that uses this cost function:\n",
        "\n",
        "$$\n",
        "\\frac{1}{2N_{\\text{training}}} \\sum_{i=1}^{N_{\\text{training}}} \\left( y^{(i)}_{\\text{real}} - y^{(i)}_{\\text{pred}} \\right)^2 + \\alpha \\sum_{j=1}^{n} |a_j|\n",
        "$$\n",
        "\n",
        "$a_j$ is the coefficient of the j-th feature. The final term is called $l_1$ penalty and $\\alpha$ is a hyperparameter that tunes the intensity of this penalty term. The higher the coefficient of a feature, the higher the value of the cost function. So, the idea of Lasso regression is to optimize the cost function reducing the absolute values of the coefficients.\n"
      ],
      "metadata": {
        "id": "1Fa2OtwzAsbH"
      },
      "id": "1Fa2OtwzAsbH"
    },
    {
      "cell_type": "code",
      "source": [
        "from sklearn.linear_model import LassoCV\n",
        "from sklearn.datasets import make_regression\n",
        "# Set number of splits for cross-validation - two years for each fold\n",
        "n_splits =  5 # We have 40 years in total\n",
        "\n",
        "# Initialize LassoCV, which will perform cross-validation\n",
        "lasso = LassoCV(cv=n_splits, random_state=0, max_iter=10000)\n",
        "\n",
        "# Fit the Lasso model to the data\n",
        "lasso.fit(X_raw, y)\n",
        "# Number of features remained\n",
        "n_features = 25\n",
        "# n_features features having the highest absolute value of coefficient can be considered as more important or keeped\n",
        "indices_top = np.argsort(np.abs(lasso.coef_))[-n_features:]\n",
        "selected_features = [X_raw.columns[i] for i in indices_top]\n",
        "\n",
        "# To reduce the feature set\n",
        "X = X_raw[selected_features]"
      ],
      "metadata": {
        "id": "BTs-B6vc_xfZ"
      },
      "id": "BTs-B6vc_xfZ",
      "execution_count": null,
      "outputs": []
    },
    {
      "cell_type": "markdown",
      "source": [
        "**Linear Regression**"
      ],
      "metadata": {
        "id": "AIvkLpQTPrpg"
      },
      "id": "AIvkLpQTPrpg"
    },
    {
      "cell_type": "code",
      "source": [
        "#Linear Regression for Paris_t2m with 40 features - the most naive approach\n",
        "# Import scikit-learn cross-validation function\n",
        "from sklearn.model_selection import KFold\n",
        "from sklearn.linear_model import LinearRegression\n",
        "\n",
        "# Call the Linear regressor\n",
        "lin = LinearRegression(fit_intercept= True)\n",
        "\n",
        "# Set number of splits for cross-validation - two years for each fold\n",
        "n_splits =  5 # We have 40 years in total\n",
        "\n",
        "# Initialize KFold\n",
        "kf = KFold(n_splits=n_splits)\n",
        "\n",
        "# Arrays to store scores\n",
        "train_scores = []\n",
        "test_scores = []\n",
        "\n",
        "for train_index, test_index in kf.split(X):\n",
        "    # Split data\n",
        "    X_train, X_test = X.iloc[train_index], X.iloc[test_index]\n",
        "    y_train, y_test = y.iloc[train_index], y.iloc[test_index]\n",
        "    # Fit model\n",
        "    lin.fit(X_train, y_train)\n",
        "\n",
        "    # Calculate R2 scores\n",
        "    train_score = lin.score(X_train,y_train)\n",
        "    test_score = lin.score(X_test, y_test)\n",
        "\n",
        "    # Append scores\n",
        "    train_scores.append(train_score)\n",
        "    test_scores.append(test_score)\n",
        "\n",
        "# Average R2 scores\n",
        "avg_train_score = np.mean(train_scores)\n",
        "avg_test_score = np.mean(test_scores)\n",
        "\n",
        "print(f\"Average R2 Score on Training Data: {avg_train_score}\")\n",
        "print(f\"Average R2 Score on Test Data: {avg_test_score}\")"
      ],
      "metadata": {
        "id": "eyZlJNIUn5kO",
        "outputId": "f4feb6b6-7c9f-4f6e-a8a8-899fec30a60b",
        "colab": {
          "base_uri": "https://localhost:8080/"
        }
      },
      "id": "eyZlJNIUn5kO",
      "execution_count": null,
      "outputs": [
        {
          "output_type": "stream",
          "name": "stdout",
          "text": [
            "Average R2 Score on Training Data: 0.9199244346990891\n",
            "Average R2 Score on Test Data: 0.918570570308108\n"
          ]
        }
      ]
    },
    {
      "cell_type": "code",
      "source": [
        "print(train_scores)\n",
        "print(test_scores)"
      ],
      "metadata": {
        "id": "XCSSQ_aP4hfl",
        "outputId": "ef04ea73-e2a6-405a-aeb9-ccfc8ae35347",
        "colab": {
          "base_uri": "https://localhost:8080/"
        }
      },
      "id": "XCSSQ_aP4hfl",
      "execution_count": null,
      "outputs": [
        {
          "output_type": "stream",
          "name": "stdout",
          "text": [
            "[0.9185021777996206, 0.9207039311290756, 0.9196888039984646, 0.9195388790069219, 0.9211883815613624]\n",
            "[0.9227766898735666, 0.9158001320196338, 0.9203836874518292, 0.9204320755561295, 0.9134602666393814]\n"
          ]
        }
      ]
    },
    {
      "cell_type": "markdown",
      "source": [
        "**2nd Degree Polynomial Regression**"
      ],
      "metadata": {
        "id": "7fnVe_oZ5Y9u"
      },
      "id": "7fnVe_oZ5Y9u"
    },
    {
      "cell_type": "code",
      "source": [
        "from inspect import modulesbyfile\n",
        "#Linear Regression for Paris_t2m with 40 features - the most naive approach\n",
        "from sklearn.preprocessing import PolynomialFeatures\n",
        "from sklearn.pipeline import make_pipeline\n",
        "\n",
        "# Transform data to include polynomial features\n",
        "degree = 2\n",
        "polynomial_features = PolynomialFeatures(degree=degree, include_bias=True)\n",
        "linear_regression = LinearRegression()\n",
        "\n",
        "# Create a pipeline that includes both polynomial expansion and linear regression\n",
        "model = make_pipeline(polynomial_features, linear_regression)"
      ],
      "metadata": {
        "id": "2fVEpl6s5hDM"
      },
      "id": "2fVEpl6s5hDM",
      "execution_count": null,
      "outputs": []
    },
    {
      "cell_type": "code",
      "source": [
        "# Set number of splits for cross-validation - two years for each fold\n",
        "n_splits = 5 # We have 40 years in total\n",
        "\n",
        "# Initialize KFold\n",
        "kf = KFold(n_splits=n_splits)\n",
        "\n",
        "# Arrays to store scores\n",
        "train_scores = []\n",
        "test_scores = []\n",
        "\n",
        "for train_index, test_index in kf.split(X):\n",
        "    # Split data\n",
        "    X_train, X_test = X.iloc[train_index], X.iloc[test_index]\n",
        "    y_train, y_test = y.iloc[train_index], y.iloc[test_index]\n",
        "    # Fit model\n",
        "    model.fit(X_train, y_train)\n",
        "\n",
        "    # Calculate R2 scores\n",
        "    train_score = model.score(X_train,y_train)\n",
        "    test_score = model.score(X_test, y_test)\n",
        "\n",
        "    # Append scores\n",
        "    train_scores.append(train_score)\n",
        "    test_scores.append(test_score)\n",
        "\n",
        "# Average R2 scores\n",
        "avg_train_score = np.mean(train_scores)\n",
        "avg_test_score = np.mean(test_scores)\n",
        "\n",
        "print(f\"Average R2 Score on Training Data: {avg_train_score}\")\n",
        "print(f\"Average R2 Score on Test Data: {avg_test_score}\")"
      ],
      "metadata": {
        "id": "PRQwR-d4QW4S",
        "outputId": "b1800f27-fafa-4573-aafc-a3f07b158eed",
        "colab": {
          "base_uri": "https://localhost:8080/"
        }
      },
      "id": "PRQwR-d4QW4S",
      "execution_count": 15,
      "outputs": [
        {
          "metadata": {
            "tags": null
          },
          "name": "stdout",
          "output_type": "stream",
          "text": [
            "Average R2 Score on Training Data: 0.9385307874363548\n",
            "Average R2 Score on Test Data: 0.9356968959495472\n"
          ]
        }
      ]
    },
    {
      "cell_type": "markdown",
      "source": [
        "**3nd Degree Polynomial Regression**"
      ],
      "metadata": {
        "id": "HLVZpBNYXoxW"
      },
      "id": "HLVZpBNYXoxW"
    },
    {
      "cell_type": "code",
      "source": [
        "from inspect import modulesbyfile\n",
        "from sklearn.model_selection import KFold\n",
        "from sklearn.linear_model import LinearRegression\n",
        "\n",
        "#Linear Regression for Paris_t2m with 40 features - the most naive approach\n",
        "from sklearn.preprocessing import PolynomialFeatures\n",
        "from sklearn.pipeline import make_pipeline\n",
        "\n",
        "# Transform data to include polynomial features\n",
        "degree = 3\n",
        "polynomial_features = PolynomialFeatures(degree=degree, include_bias=True)\n",
        "linear_regression = LinearRegression()\n",
        "\n",
        "# Create a pipeline that includes both polynomial expansion and linear regression\n",
        "model = make_pipeline(polynomial_features, linear_regression)"
      ],
      "metadata": {
        "id": "w9kDNr96XtmW"
      },
      "id": "w9kDNr96XtmW",
      "execution_count": null,
      "outputs": []
    },
    {
      "cell_type": "code",
      "source": [
        "from sklearn.model_selection import train_test_split\n",
        "X_train, X_test, y_train, y_test = train_test_split(X, y, test_size=.3, random_state=0)\n",
        "model.fit(X_train, y_train)\n",
        "train_score = model.score(X_train,y_train)\n",
        "test_score = model.score(X_test, y_test)\n",
        "print(f\"Average R2 Score on Training Data: {train_score}\")\n",
        "print(f\"Average R2 Score on Test Data: {test_score}\")"
      ],
      "metadata": {
        "id": "8aIHiLu_gPft",
        "outputId": "2098ef64-0b0c-47c5-cf72-3c404635ab2e",
        "colab": {
          "base_uri": "https://localhost:8080/"
        }
      },
      "id": "8aIHiLu_gPft",
      "execution_count": null,
      "outputs": [
        {
          "output_type": "stream",
          "name": "stdout",
          "text": [
            "Average R2 Score on Training Data: 0.9495567999436698\n",
            "Average R2 Score on Test Data: 0.9480971928553792\n"
          ]
        }
      ]
    },
    {
      "cell_type": "code",
      "source": [
        "# Set number of splits for cross-validation - two years for each fold\n",
        "from sklearn.model_selection import train_test_split\n",
        "\n",
        "n_splits = 5 # We have n_features years in total\n",
        "\n",
        "# Initialize KFold\n",
        "kf = KFold(n_splits=n_splits)\n",
        "\n",
        "# Arrays to store scores\n",
        "train_scores = []\n",
        "test_scores = []\n",
        "\n",
        "for train_index, test_index in kf.split(X):\n",
        "    # Split data\n",
        "    X_train, X_test = X.iloc[train_index], X.iloc[test_index]\n",
        "    y_train, y_test = y.iloc[train_index], y.iloc[test_index]\n",
        "    # Fit model\n",
        "    model.fit(X_train, y_train)\n",
        "\n",
        "    # Calculate R2 scores\n",
        "    train_score = model.score(X_train,y_train)\n",
        "    test_score = model.score(X_test, y_test)\n",
        "\n",
        "    # Append scores\n",
        "    train_scores.append(train_score)\n",
        "    test_scores.append(test_score)\n",
        "\n",
        "# Average R2 scores\n",
        "avg_train_score = np.mean(train_scores)\n",
        "avg_test_score = np.mean(test_scores)\n",
        "\n",
        "print(f\"Average R2 Score on Training Data: {avg_train_score}\")\n",
        "print(f\"Average R2 Score on Test Data: {avg_test_score}\")"
      ],
      "metadata": {
        "id": "EUglJMuGXvaM",
        "outputId": "d7f6fadf-5a03-4b26-9dbf-245e2de748dc",
        "colab": {
          "base_uri": "https://localhost:8080/"
        }
      },
      "id": "EUglJMuGXvaM",
      "execution_count": null,
      "outputs": [
        {
          "output_type": "stream",
          "name": "stdout",
          "text": [
            "Average R2 Score on Training Data: 0.9502185486067448\n",
            "Average R2 Score on Test Data: 0.9391885498353677\n"
          ]
        }
      ]
    },
    {
      "cell_type": "code",
      "source": [
        "from inspect import modulesbyfile\n",
        "from sklearn.model_selection import KFold\n",
        "from sklearn.linear_model import LinearRegression\n",
        "\n",
        "#Linear Regression for Paris_t2m with 40 features - the most naive approach\n",
        "from sklearn.preprocessing import PolynomialFeatures\n",
        "from sklearn.pipeline import make_pipeline\n",
        "\n",
        "def poly_ridge(degree):\n",
        "  # Transform data to include polynomial features\n",
        "  polynomial_features = PolynomialFeatures(degree=degree, include_bias=True)\n",
        "  linear_regression = LinearRegression()\n",
        "\n",
        "  # Create a pipeline that includes both polynomial expansion and linear regression\n",
        "  model = make_pipeline(polynomial_features, linear_regression)\n",
        "\n",
        "\n",
        "  X_train, X_test, y_train, y_test = train_test_split(X, y, test_size=.3, random_state=0)\n",
        "  model.fit(X_train, y_train)\n",
        "  train_score = model.score(X_train,y_train)\n",
        "  test_score = model.score(X_test, y_test)\n",
        "\n",
        "  print(f\"Average R2 Score on Training Data: {train_score}\")\n",
        "  print(f\"Average R2 Score on Test Data: {test_score}\")\n",
        "\n",
        "  n_splits = 5 # We have n_features years in total\n",
        "\n",
        "  # Initialize KFold\n",
        "  kf = KFold(n_splits=n_splits)\n",
        "\n",
        "  # Arrays to store scores\n",
        "  train_scores = []\n",
        "  test_scores = []\n",
        "\n",
        "  for train_index, test_index in kf.split(X):\n",
        "      # Split data\n",
        "      X_train, X_test = X.iloc[train_index], X.iloc[test_index]\n",
        "      y_train, y_test = y.iloc[train_index], y.iloc[test_index]\n",
        "      # Fit model\n",
        "      model.fit(X_train, y_train)\n",
        "\n",
        "      # Calculate R2 scores\n",
        "      train_score = model.score(X_train,y_train)\n",
        "      test_score = model.score(X_test, y_test)\n",
        "\n",
        "      # Append scores\n",
        "      train_scores.append(train_score)\n",
        "      test_scores.append(test_score)\n",
        "\n",
        "  # Average R2 scores\n",
        "  avg_train_score = np.mean(train_scores)\n",
        "  avg_test_score = np.mean(test_scores)\n",
        "\n",
        "  print(f\"Average R2 Score on Training Data: {avg_train_score}\")\n",
        "  print(f\"Average R2 Score on Test Data: {avg_test_score}\")\n"
      ],
      "metadata": {
        "id": "3VNrUmKrYzhE"
      },
      "id": "3VNrUmKrYzhE",
      "execution_count": 17,
      "outputs": []
    },
    {
      "cell_type": "code",
      "source": [
        "poly_ridge(2)"
      ],
      "metadata": {
        "id": "WiDiLNzebJAa",
        "outputId": "c5502b6c-7d02-409c-afa5-724d5157ea6e",
        "colab": {
          "base_uri": "https://localhost:8080/"
        }
      },
      "id": "WiDiLNzebJAa",
      "execution_count": 19,
      "outputs": [
        {
          "output_type": "stream",
          "name": "stdout",
          "text": [
            "Average R2 Score on Training Data: 0.9383044605935733\n",
            "Average R2 Score on Test Data: 0.9382701775206103\n",
            "Average R2 Score on Training Data: 0.9385307874363548\n",
            "Average R2 Score on Test Data: 0.9356968959495472\n"
          ]
        }
      ]
    },
    {
      "cell_type": "markdown",
      "source": [
        "**Ridge Regression**"
      ],
      "metadata": {
        "id": "TZ0DRq1tPjWD"
      },
      "id": "TZ0DRq1tPjWD"
    },
    {
      "cell_type": "code",
      "source": [
        "X"
      ],
      "metadata": {
        "id": "HND_uOfb14i2",
        "outputId": "e99814f9-080a-49f0-e706-b0072f13f287",
        "colab": {
          "base_uri": "https://localhost:8080/",
          "height": 822
        }
      },
      "id": "HND_uOfb14i2",
      "execution_count": null,
      "outputs": [
        {
          "output_type": "execute_result",
          "data": {
            "text/plain": [
              "                     London_tp  Brest_blh  Marseille_u10  Berlin_tcc  \\\n",
              "time                                                                   \n",
              "1980-01-01 07:00:00  -0.278934  -1.048983       0.870842    0.667635   \n",
              "1980-01-01 08:00:00  -0.278934  -1.091323       0.993999    0.881137   \n",
              "1980-01-01 09:00:00  -0.278934  -1.102888       1.133610    0.612861   \n",
              "1980-01-01 10:00:00  -0.278934  -0.946166       1.369794   -0.238688   \n",
              "1980-01-01 11:00:00  -0.278934  -0.859870       1.553617    0.299730   \n",
              "...                        ...        ...            ...         ...   \n",
              "2019-12-31 19:00:00  -0.275445  -1.067182       0.500165   -1.373605   \n",
              "2019-12-31 20:00:00  -0.268467  -1.159483       0.468008   -1.468655   \n",
              "2019-12-31 21:00:00  -0.268467  -1.225893       0.388778   -1.580324   \n",
              "2019-12-31 22:00:00  -0.270211  -1.279984       0.060826   -1.615258   \n",
              "2019-12-31 23:00:00  -0.271956  -1.286743      -0.064454   -1.458480   \n",
              "\n",
              "                     Marseille_sp  London_tcc  Berlin_u10  London_blh  \\\n",
              "time                                                                    \n",
              "1980-01-01 07:00:00     -0.157242    0.857992    0.634322   -1.237421   \n",
              "1980-01-01 08:00:00     -0.215661    0.879057    0.563080   -1.216062   \n",
              "1980-01-01 09:00:00     -0.172878    0.879057    0.516551   -1.174471   \n",
              "1980-01-01 10:00:00     -0.172220    0.879057    0.443052   -1.074903   \n",
              "1980-01-01 11:00:00     -0.129411    0.879057    0.359763   -0.948913   \n",
              "...                           ...         ...         ...         ...   \n",
              "2019-12-31 19:00:00      2.256792    0.626096    0.997613   -0.384688   \n",
              "2019-12-31 20:00:00      2.276772    0.408216    0.930757   -0.374639   \n",
              "2019-12-31 21:00:00      2.282018    0.253532    0.801972   -0.412927   \n",
              "2019-12-31 22:00:00      2.260766    0.387063    0.558168   -0.440125   \n",
              "2019-12-31 23:00:00      2.261163    0.132361    0.516447   -0.488302   \n",
              "\n",
              "                     Brest_sp  Brest_d2m  ...  Marseille_v10  Brest_u10  \\\n",
              "time                                      ...                             \n",
              "1980-01-01 07:00:00 -0.595613  -1.215220  ...      -1.096548  -1.061760   \n",
              "1980-01-01 08:00:00 -0.600239  -1.197646  ...      -0.873488  -1.005725   \n",
              "1980-01-01 09:00:00 -0.578220  -1.199826  ...      -0.731117  -0.929177   \n",
              "1980-01-01 10:00:00 -0.617530  -1.085383  ...      -0.725583  -1.043368   \n",
              "1980-01-01 11:00:00 -0.597482  -1.018452  ...      -0.806257  -0.980622   \n",
              "...                       ...        ...  ...            ...        ...   \n",
              "2019-12-31 19:00:00  0.974200   0.249746  ...      -0.189322  -0.523194   \n",
              "2019-12-31 20:00:00  0.981498   0.292945  ...      -0.360215  -0.191695   \n",
              "2019-12-31 21:00:00  0.992013   0.307863  ...      -0.403064   0.140721   \n",
              "2019-12-31 22:00:00  1.030474   0.251759  ...      -0.392800  -0.329882   \n",
              "2019-12-31 23:00:00  1.079667   0.229918  ...      -0.278971  -0.283092   \n",
              "\n",
              "                     Marseille_ssrd  Berlin_d2m  Berlin_skt  Marseille_skt  \\\n",
              "time                                                                         \n",
              "1980-01-01 07:00:00       -0.712641   -0.820727   -1.170801      -1.046479   \n",
              "1980-01-01 08:00:00       -0.650088   -0.879626   -1.142013      -1.007527   \n",
              "1980-01-01 09:00:00       -0.378646   -0.865970   -1.077083      -0.928146   \n",
              "1980-01-01 10:00:00        0.059422   -0.843495   -0.962925      -0.865909   \n",
              "1980-01-01 11:00:00        0.288062   -0.851552   -0.939251      -0.798922   \n",
              "...                             ...         ...         ...            ...   \n",
              "2019-12-31 19:00:00       -0.712641   -0.521140   -0.744059      -0.750039   \n",
              "2019-12-31 20:00:00       -0.712641   -0.595001   -0.760107      -0.792125   \n",
              "2019-12-31 21:00:00       -0.712641   -0.646521   -0.864438      -0.814603   \n",
              "2019-12-31 22:00:00       -0.712641   -0.626504   -0.923411      -0.856675   \n",
              "2019-12-31 23:00:00       -0.712641   -0.658286   -0.996635      -0.875407   \n",
              "\n",
              "                     Brest_t2m  Marseille_t2m  Berlin_t2m  London_t2m  \n",
              "time                                                                   \n",
              "1980-01-01 07:00:00  -1.664213      -1.689754   -1.063012   -2.198360  \n",
              "1980-01-01 08:00:00  -1.642218      -1.684193   -1.115076   -2.143821  \n",
              "1980-01-01 09:00:00  -1.650785      -1.665266   -1.097012   -2.098460  \n",
              "1980-01-01 10:00:00  -1.513667      -1.408239   -1.035811   -1.894867  \n",
              "1980-01-01 11:00:00  -1.470345      -1.423881   -1.060515   -1.873327  \n",
              "...                        ...            ...         ...         ...  \n",
              "2019-12-31 19:00:00  -0.320381      -0.906727   -0.597764   -0.506371  \n",
              "2019-12-31 20:00:00  -0.325604      -0.940393   -0.696701   -0.537124  \n",
              "2019-12-31 21:00:00  -0.337022      -0.976584   -0.764332   -0.577224  \n",
              "2019-12-31 22:00:00  -0.359322      -0.950266   -0.789826   -0.698597  \n",
              "2019-12-31 23:00:00  -0.385190      -0.985284   -0.843800   -0.805686  \n",
              "\n",
              "[350633 rows x 25 columns]"
            ],
            "text/html": [
              "\n",
              "  <div id=\"df-e9ac2443-6bea-44af-93e4-04d99db283e4\" class=\"colab-df-container\">\n",
              "    <div>\n",
              "<style scoped>\n",
              "    .dataframe tbody tr th:only-of-type {\n",
              "        vertical-align: middle;\n",
              "    }\n",
              "\n",
              "    .dataframe tbody tr th {\n",
              "        vertical-align: top;\n",
              "    }\n",
              "\n",
              "    .dataframe thead th {\n",
              "        text-align: right;\n",
              "    }\n",
              "</style>\n",
              "<table border=\"1\" class=\"dataframe\">\n",
              "  <thead>\n",
              "    <tr style=\"text-align: right;\">\n",
              "      <th></th>\n",
              "      <th>London_tp</th>\n",
              "      <th>Brest_blh</th>\n",
              "      <th>Marseille_u10</th>\n",
              "      <th>Berlin_tcc</th>\n",
              "      <th>Marseille_sp</th>\n",
              "      <th>London_tcc</th>\n",
              "      <th>Berlin_u10</th>\n",
              "      <th>London_blh</th>\n",
              "      <th>Brest_sp</th>\n",
              "      <th>Brest_d2m</th>\n",
              "      <th>...</th>\n",
              "      <th>Marseille_v10</th>\n",
              "      <th>Brest_u10</th>\n",
              "      <th>Marseille_ssrd</th>\n",
              "      <th>Berlin_d2m</th>\n",
              "      <th>Berlin_skt</th>\n",
              "      <th>Marseille_skt</th>\n",
              "      <th>Brest_t2m</th>\n",
              "      <th>Marseille_t2m</th>\n",
              "      <th>Berlin_t2m</th>\n",
              "      <th>London_t2m</th>\n",
              "    </tr>\n",
              "    <tr>\n",
              "      <th>time</th>\n",
              "      <th></th>\n",
              "      <th></th>\n",
              "      <th></th>\n",
              "      <th></th>\n",
              "      <th></th>\n",
              "      <th></th>\n",
              "      <th></th>\n",
              "      <th></th>\n",
              "      <th></th>\n",
              "      <th></th>\n",
              "      <th></th>\n",
              "      <th></th>\n",
              "      <th></th>\n",
              "      <th></th>\n",
              "      <th></th>\n",
              "      <th></th>\n",
              "      <th></th>\n",
              "      <th></th>\n",
              "      <th></th>\n",
              "      <th></th>\n",
              "      <th></th>\n",
              "    </tr>\n",
              "  </thead>\n",
              "  <tbody>\n",
              "    <tr>\n",
              "      <th>1980-01-01 07:00:00</th>\n",
              "      <td>-0.278934</td>\n",
              "      <td>-1.048983</td>\n",
              "      <td>0.870842</td>\n",
              "      <td>0.667635</td>\n",
              "      <td>-0.157242</td>\n",
              "      <td>0.857992</td>\n",
              "      <td>0.634322</td>\n",
              "      <td>-1.237421</td>\n",
              "      <td>-0.595613</td>\n",
              "      <td>-1.215220</td>\n",
              "      <td>...</td>\n",
              "      <td>-1.096548</td>\n",
              "      <td>-1.061760</td>\n",
              "      <td>-0.712641</td>\n",
              "      <td>-0.820727</td>\n",
              "      <td>-1.170801</td>\n",
              "      <td>-1.046479</td>\n",
              "      <td>-1.664213</td>\n",
              "      <td>-1.689754</td>\n",
              "      <td>-1.063012</td>\n",
              "      <td>-2.198360</td>\n",
              "    </tr>\n",
              "    <tr>\n",
              "      <th>1980-01-01 08:00:00</th>\n",
              "      <td>-0.278934</td>\n",
              "      <td>-1.091323</td>\n",
              "      <td>0.993999</td>\n",
              "      <td>0.881137</td>\n",
              "      <td>-0.215661</td>\n",
              "      <td>0.879057</td>\n",
              "      <td>0.563080</td>\n",
              "      <td>-1.216062</td>\n",
              "      <td>-0.600239</td>\n",
              "      <td>-1.197646</td>\n",
              "      <td>...</td>\n",
              "      <td>-0.873488</td>\n",
              "      <td>-1.005725</td>\n",
              "      <td>-0.650088</td>\n",
              "      <td>-0.879626</td>\n",
              "      <td>-1.142013</td>\n",
              "      <td>-1.007527</td>\n",
              "      <td>-1.642218</td>\n",
              "      <td>-1.684193</td>\n",
              "      <td>-1.115076</td>\n",
              "      <td>-2.143821</td>\n",
              "    </tr>\n",
              "    <tr>\n",
              "      <th>1980-01-01 09:00:00</th>\n",
              "      <td>-0.278934</td>\n",
              "      <td>-1.102888</td>\n",
              "      <td>1.133610</td>\n",
              "      <td>0.612861</td>\n",
              "      <td>-0.172878</td>\n",
              "      <td>0.879057</td>\n",
              "      <td>0.516551</td>\n",
              "      <td>-1.174471</td>\n",
              "      <td>-0.578220</td>\n",
              "      <td>-1.199826</td>\n",
              "      <td>...</td>\n",
              "      <td>-0.731117</td>\n",
              "      <td>-0.929177</td>\n",
              "      <td>-0.378646</td>\n",
              "      <td>-0.865970</td>\n",
              "      <td>-1.077083</td>\n",
              "      <td>-0.928146</td>\n",
              "      <td>-1.650785</td>\n",
              "      <td>-1.665266</td>\n",
              "      <td>-1.097012</td>\n",
              "      <td>-2.098460</td>\n",
              "    </tr>\n",
              "    <tr>\n",
              "      <th>1980-01-01 10:00:00</th>\n",
              "      <td>-0.278934</td>\n",
              "      <td>-0.946166</td>\n",
              "      <td>1.369794</td>\n",
              "      <td>-0.238688</td>\n",
              "      <td>-0.172220</td>\n",
              "      <td>0.879057</td>\n",
              "      <td>0.443052</td>\n",
              "      <td>-1.074903</td>\n",
              "      <td>-0.617530</td>\n",
              "      <td>-1.085383</td>\n",
              "      <td>...</td>\n",
              "      <td>-0.725583</td>\n",
              "      <td>-1.043368</td>\n",
              "      <td>0.059422</td>\n",
              "      <td>-0.843495</td>\n",
              "      <td>-0.962925</td>\n",
              "      <td>-0.865909</td>\n",
              "      <td>-1.513667</td>\n",
              "      <td>-1.408239</td>\n",
              "      <td>-1.035811</td>\n",
              "      <td>-1.894867</td>\n",
              "    </tr>\n",
              "    <tr>\n",
              "      <th>1980-01-01 11:00:00</th>\n",
              "      <td>-0.278934</td>\n",
              "      <td>-0.859870</td>\n",
              "      <td>1.553617</td>\n",
              "      <td>0.299730</td>\n",
              "      <td>-0.129411</td>\n",
              "      <td>0.879057</td>\n",
              "      <td>0.359763</td>\n",
              "      <td>-0.948913</td>\n",
              "      <td>-0.597482</td>\n",
              "      <td>-1.018452</td>\n",
              "      <td>...</td>\n",
              "      <td>-0.806257</td>\n",
              "      <td>-0.980622</td>\n",
              "      <td>0.288062</td>\n",
              "      <td>-0.851552</td>\n",
              "      <td>-0.939251</td>\n",
              "      <td>-0.798922</td>\n",
              "      <td>-1.470345</td>\n",
              "      <td>-1.423881</td>\n",
              "      <td>-1.060515</td>\n",
              "      <td>-1.873327</td>\n",
              "    </tr>\n",
              "    <tr>\n",
              "      <th>...</th>\n",
              "      <td>...</td>\n",
              "      <td>...</td>\n",
              "      <td>...</td>\n",
              "      <td>...</td>\n",
              "      <td>...</td>\n",
              "      <td>...</td>\n",
              "      <td>...</td>\n",
              "      <td>...</td>\n",
              "      <td>...</td>\n",
              "      <td>...</td>\n",
              "      <td>...</td>\n",
              "      <td>...</td>\n",
              "      <td>...</td>\n",
              "      <td>...</td>\n",
              "      <td>...</td>\n",
              "      <td>...</td>\n",
              "      <td>...</td>\n",
              "      <td>...</td>\n",
              "      <td>...</td>\n",
              "      <td>...</td>\n",
              "      <td>...</td>\n",
              "    </tr>\n",
              "    <tr>\n",
              "      <th>2019-12-31 19:00:00</th>\n",
              "      <td>-0.275445</td>\n",
              "      <td>-1.067182</td>\n",
              "      <td>0.500165</td>\n",
              "      <td>-1.373605</td>\n",
              "      <td>2.256792</td>\n",
              "      <td>0.626096</td>\n",
              "      <td>0.997613</td>\n",
              "      <td>-0.384688</td>\n",
              "      <td>0.974200</td>\n",
              "      <td>0.249746</td>\n",
              "      <td>...</td>\n",
              "      <td>-0.189322</td>\n",
              "      <td>-0.523194</td>\n",
              "      <td>-0.712641</td>\n",
              "      <td>-0.521140</td>\n",
              "      <td>-0.744059</td>\n",
              "      <td>-0.750039</td>\n",
              "      <td>-0.320381</td>\n",
              "      <td>-0.906727</td>\n",
              "      <td>-0.597764</td>\n",
              "      <td>-0.506371</td>\n",
              "    </tr>\n",
              "    <tr>\n",
              "      <th>2019-12-31 20:00:00</th>\n",
              "      <td>-0.268467</td>\n",
              "      <td>-1.159483</td>\n",
              "      <td>0.468008</td>\n",
              "      <td>-1.468655</td>\n",
              "      <td>2.276772</td>\n",
              "      <td>0.408216</td>\n",
              "      <td>0.930757</td>\n",
              "      <td>-0.374639</td>\n",
              "      <td>0.981498</td>\n",
              "      <td>0.292945</td>\n",
              "      <td>...</td>\n",
              "      <td>-0.360215</td>\n",
              "      <td>-0.191695</td>\n",
              "      <td>-0.712641</td>\n",
              "      <td>-0.595001</td>\n",
              "      <td>-0.760107</td>\n",
              "      <td>-0.792125</td>\n",
              "      <td>-0.325604</td>\n",
              "      <td>-0.940393</td>\n",
              "      <td>-0.696701</td>\n",
              "      <td>-0.537124</td>\n",
              "    </tr>\n",
              "    <tr>\n",
              "      <th>2019-12-31 21:00:00</th>\n",
              "      <td>-0.268467</td>\n",
              "      <td>-1.225893</td>\n",
              "      <td>0.388778</td>\n",
              "      <td>-1.580324</td>\n",
              "      <td>2.282018</td>\n",
              "      <td>0.253532</td>\n",
              "      <td>0.801972</td>\n",
              "      <td>-0.412927</td>\n",
              "      <td>0.992013</td>\n",
              "      <td>0.307863</td>\n",
              "      <td>...</td>\n",
              "      <td>-0.403064</td>\n",
              "      <td>0.140721</td>\n",
              "      <td>-0.712641</td>\n",
              "      <td>-0.646521</td>\n",
              "      <td>-0.864438</td>\n",
              "      <td>-0.814603</td>\n",
              "      <td>-0.337022</td>\n",
              "      <td>-0.976584</td>\n",
              "      <td>-0.764332</td>\n",
              "      <td>-0.577224</td>\n",
              "    </tr>\n",
              "    <tr>\n",
              "      <th>2019-12-31 22:00:00</th>\n",
              "      <td>-0.270211</td>\n",
              "      <td>-1.279984</td>\n",
              "      <td>0.060826</td>\n",
              "      <td>-1.615258</td>\n",
              "      <td>2.260766</td>\n",
              "      <td>0.387063</td>\n",
              "      <td>0.558168</td>\n",
              "      <td>-0.440125</td>\n",
              "      <td>1.030474</td>\n",
              "      <td>0.251759</td>\n",
              "      <td>...</td>\n",
              "      <td>-0.392800</td>\n",
              "      <td>-0.329882</td>\n",
              "      <td>-0.712641</td>\n",
              "      <td>-0.626504</td>\n",
              "      <td>-0.923411</td>\n",
              "      <td>-0.856675</td>\n",
              "      <td>-0.359322</td>\n",
              "      <td>-0.950266</td>\n",
              "      <td>-0.789826</td>\n",
              "      <td>-0.698597</td>\n",
              "    </tr>\n",
              "    <tr>\n",
              "      <th>2019-12-31 23:00:00</th>\n",
              "      <td>-0.271956</td>\n",
              "      <td>-1.286743</td>\n",
              "      <td>-0.064454</td>\n",
              "      <td>-1.458480</td>\n",
              "      <td>2.261163</td>\n",
              "      <td>0.132361</td>\n",
              "      <td>0.516447</td>\n",
              "      <td>-0.488302</td>\n",
              "      <td>1.079667</td>\n",
              "      <td>0.229918</td>\n",
              "      <td>...</td>\n",
              "      <td>-0.278971</td>\n",
              "      <td>-0.283092</td>\n",
              "      <td>-0.712641</td>\n",
              "      <td>-0.658286</td>\n",
              "      <td>-0.996635</td>\n",
              "      <td>-0.875407</td>\n",
              "      <td>-0.385190</td>\n",
              "      <td>-0.985284</td>\n",
              "      <td>-0.843800</td>\n",
              "      <td>-0.805686</td>\n",
              "    </tr>\n",
              "  </tbody>\n",
              "</table>\n",
              "<p>350633 rows × 25 columns</p>\n",
              "</div>\n",
              "    <div class=\"colab-df-buttons\">\n",
              "\n",
              "  <div class=\"colab-df-container\">\n",
              "    <button class=\"colab-df-convert\" onclick=\"convertToInteractive('df-e9ac2443-6bea-44af-93e4-04d99db283e4')\"\n",
              "            title=\"Convert this dataframe to an interactive table.\"\n",
              "            style=\"display:none;\">\n",
              "\n",
              "  <svg xmlns=\"http://www.w3.org/2000/svg\" height=\"24px\" viewBox=\"0 -960 960 960\">\n",
              "    <path d=\"M120-120v-720h720v720H120Zm60-500h600v-160H180v160Zm220 220h160v-160H400v160Zm0 220h160v-160H400v160ZM180-400h160v-160H180v160Zm440 0h160v-160H620v160ZM180-180h160v-160H180v160Zm440 0h160v-160H620v160Z\"/>\n",
              "  </svg>\n",
              "    </button>\n",
              "\n",
              "  <style>\n",
              "    .colab-df-container {\n",
              "      display:flex;\n",
              "      gap: 12px;\n",
              "    }\n",
              "\n",
              "    .colab-df-convert {\n",
              "      background-color: #E8F0FE;\n",
              "      border: none;\n",
              "      border-radius: 50%;\n",
              "      cursor: pointer;\n",
              "      display: none;\n",
              "      fill: #1967D2;\n",
              "      height: 32px;\n",
              "      padding: 0 0 0 0;\n",
              "      width: 32px;\n",
              "    }\n",
              "\n",
              "    .colab-df-convert:hover {\n",
              "      background-color: #E2EBFA;\n",
              "      box-shadow: 0px 1px 2px rgba(60, 64, 67, 0.3), 0px 1px 3px 1px rgba(60, 64, 67, 0.15);\n",
              "      fill: #174EA6;\n",
              "    }\n",
              "\n",
              "    .colab-df-buttons div {\n",
              "      margin-bottom: 4px;\n",
              "    }\n",
              "\n",
              "    [theme=dark] .colab-df-convert {\n",
              "      background-color: #3B4455;\n",
              "      fill: #D2E3FC;\n",
              "    }\n",
              "\n",
              "    [theme=dark] .colab-df-convert:hover {\n",
              "      background-color: #434B5C;\n",
              "      box-shadow: 0px 1px 3px 1px rgba(0, 0, 0, 0.15);\n",
              "      filter: drop-shadow(0px 1px 2px rgba(0, 0, 0, 0.3));\n",
              "      fill: #FFFFFF;\n",
              "    }\n",
              "  </style>\n",
              "\n",
              "    <script>\n",
              "      const buttonEl =\n",
              "        document.querySelector('#df-e9ac2443-6bea-44af-93e4-04d99db283e4 button.colab-df-convert');\n",
              "      buttonEl.style.display =\n",
              "        google.colab.kernel.accessAllowed ? 'block' : 'none';\n",
              "\n",
              "      async function convertToInteractive(key) {\n",
              "        const element = document.querySelector('#df-e9ac2443-6bea-44af-93e4-04d99db283e4');\n",
              "        const dataTable =\n",
              "          await google.colab.kernel.invokeFunction('convertToInteractive',\n",
              "                                                    [key], {});\n",
              "        if (!dataTable) return;\n",
              "\n",
              "        const docLinkHtml = 'Like what you see? Visit the ' +\n",
              "          '<a target=\"_blank\" href=https://colab.research.google.com/notebooks/data_table.ipynb>data table notebook</a>'\n",
              "          + ' to learn more about interactive tables.';\n",
              "        element.innerHTML = '';\n",
              "        dataTable['output_type'] = 'display_data';\n",
              "        await google.colab.output.renderOutput(dataTable, element);\n",
              "        const docLink = document.createElement('div');\n",
              "        docLink.innerHTML = docLinkHtml;\n",
              "        element.appendChild(docLink);\n",
              "      }\n",
              "    </script>\n",
              "  </div>\n",
              "\n",
              "\n",
              "<div id=\"df-ce27f0b0-ac89-4ccf-af4e-5cd733f92ea2\">\n",
              "  <button class=\"colab-df-quickchart\" onclick=\"quickchart('df-ce27f0b0-ac89-4ccf-af4e-5cd733f92ea2')\"\n",
              "            title=\"Suggest charts\"\n",
              "            style=\"display:none;\">\n",
              "\n",
              "<svg xmlns=\"http://www.w3.org/2000/svg\" height=\"24px\"viewBox=\"0 0 24 24\"\n",
              "     width=\"24px\">\n",
              "    <g>\n",
              "        <path d=\"M19 3H5c-1.1 0-2 .9-2 2v14c0 1.1.9 2 2 2h14c1.1 0 2-.9 2-2V5c0-1.1-.9-2-2-2zM9 17H7v-7h2v7zm4 0h-2V7h2v10zm4 0h-2v-4h2v4z\"/>\n",
              "    </g>\n",
              "</svg>\n",
              "  </button>\n",
              "\n",
              "<style>\n",
              "  .colab-df-quickchart {\n",
              "      --bg-color: #E8F0FE;\n",
              "      --fill-color: #1967D2;\n",
              "      --hover-bg-color: #E2EBFA;\n",
              "      --hover-fill-color: #174EA6;\n",
              "      --disabled-fill-color: #AAA;\n",
              "      --disabled-bg-color: #DDD;\n",
              "  }\n",
              "\n",
              "  [theme=dark] .colab-df-quickchart {\n",
              "      --bg-color: #3B4455;\n",
              "      --fill-color: #D2E3FC;\n",
              "      --hover-bg-color: #434B5C;\n",
              "      --hover-fill-color: #FFFFFF;\n",
              "      --disabled-bg-color: #3B4455;\n",
              "      --disabled-fill-color: #666;\n",
              "  }\n",
              "\n",
              "  .colab-df-quickchart {\n",
              "    background-color: var(--bg-color);\n",
              "    border: none;\n",
              "    border-radius: 50%;\n",
              "    cursor: pointer;\n",
              "    display: none;\n",
              "    fill: var(--fill-color);\n",
              "    height: 32px;\n",
              "    padding: 0;\n",
              "    width: 32px;\n",
              "  }\n",
              "\n",
              "  .colab-df-quickchart:hover {\n",
              "    background-color: var(--hover-bg-color);\n",
              "    box-shadow: 0 1px 2px rgba(60, 64, 67, 0.3), 0 1px 3px 1px rgba(60, 64, 67, 0.15);\n",
              "    fill: var(--button-hover-fill-color);\n",
              "  }\n",
              "\n",
              "  .colab-df-quickchart-complete:disabled,\n",
              "  .colab-df-quickchart-complete:disabled:hover {\n",
              "    background-color: var(--disabled-bg-color);\n",
              "    fill: var(--disabled-fill-color);\n",
              "    box-shadow: none;\n",
              "  }\n",
              "\n",
              "  .colab-df-spinner {\n",
              "    border: 2px solid var(--fill-color);\n",
              "    border-color: transparent;\n",
              "    border-bottom-color: var(--fill-color);\n",
              "    animation:\n",
              "      spin 1s steps(1) infinite;\n",
              "  }\n",
              "\n",
              "  @keyframes spin {\n",
              "    0% {\n",
              "      border-color: transparent;\n",
              "      border-bottom-color: var(--fill-color);\n",
              "      border-left-color: var(--fill-color);\n",
              "    }\n",
              "    20% {\n",
              "      border-color: transparent;\n",
              "      border-left-color: var(--fill-color);\n",
              "      border-top-color: var(--fill-color);\n",
              "    }\n",
              "    30% {\n",
              "      border-color: transparent;\n",
              "      border-left-color: var(--fill-color);\n",
              "      border-top-color: var(--fill-color);\n",
              "      border-right-color: var(--fill-color);\n",
              "    }\n",
              "    40% {\n",
              "      border-color: transparent;\n",
              "      border-right-color: var(--fill-color);\n",
              "      border-top-color: var(--fill-color);\n",
              "    }\n",
              "    60% {\n",
              "      border-color: transparent;\n",
              "      border-right-color: var(--fill-color);\n",
              "    }\n",
              "    80% {\n",
              "      border-color: transparent;\n",
              "      border-right-color: var(--fill-color);\n",
              "      border-bottom-color: var(--fill-color);\n",
              "    }\n",
              "    90% {\n",
              "      border-color: transparent;\n",
              "      border-bottom-color: var(--fill-color);\n",
              "    }\n",
              "  }\n",
              "</style>\n",
              "\n",
              "  <script>\n",
              "    async function quickchart(key) {\n",
              "      const quickchartButtonEl =\n",
              "        document.querySelector('#' + key + ' button');\n",
              "      quickchartButtonEl.disabled = true;  // To prevent multiple clicks.\n",
              "      quickchartButtonEl.classList.add('colab-df-spinner');\n",
              "      try {\n",
              "        const charts = await google.colab.kernel.invokeFunction(\n",
              "            'suggestCharts', [key], {});\n",
              "      } catch (error) {\n",
              "        console.error('Error during call to suggestCharts:', error);\n",
              "      }\n",
              "      quickchartButtonEl.classList.remove('colab-df-spinner');\n",
              "      quickchartButtonEl.classList.add('colab-df-quickchart-complete');\n",
              "    }\n",
              "    (() => {\n",
              "      let quickchartButtonEl =\n",
              "        document.querySelector('#df-ce27f0b0-ac89-4ccf-af4e-5cd733f92ea2 button');\n",
              "      quickchartButtonEl.style.display =\n",
              "        google.colab.kernel.accessAllowed ? 'block' : 'none';\n",
              "    })();\n",
              "  </script>\n",
              "</div>\n",
              "    </div>\n",
              "  </div>\n"
            ]
          },
          "metadata": {},
          "execution_count": 33
        }
      ]
    },
    {
      "cell_type": "code",
      "source": [
        "#Ridge regression\n",
        "# Import Ridge\n",
        "from sklearn.linear_model import Ridge\n",
        "from sklearn.model_selection import cross_val_score\n",
        "# Call the Ridge regressor\n",
        "reg_class = Ridge\n",
        "\n",
        "# Number of test years\n",
        "N_TEST_YEARS = 8\n",
        "# Number of test days = number of test columns\n",
        "n_test = 365 * N_TEST_YEARS # 365 days per year\n",
        "\n",
        "# Define array of regularization-parameter values\n",
        "complexity_rng = np.linspace(0, 80, 80)\n",
        "\n",
        "# Select cross validation data\n",
        "X_cv = X[:-n_test]\n",
        "y_cv = y[:-n_test]\n",
        "\n",
        "# Select test set for later\n",
        "X_test = X[-n_test:]\n",
        "y_test = y[-n_test:]\n",
        "\n",
        "# Set number of splits for cross-validation - two years for each fold\n",
        "n_splits_cv = (n_years - N_TEST_YEARS)//2\n",
        "\n",
        "# Declare empty arrays in which to store r2 scores and coefficients\n",
        "r2_validation = np.empty(complexity_rng.shape)\n",
        "coefs = np.empty((len(complexity_rng), X.shape[1]))\n",
        "r2_test = np.empty(complexity_rng.shape)\n",
        "\n",
        "\n",
        "# Loop over regularization-parameter values\n",
        "for k, complexity in enumerate(complexity_rng):\n",
        "    # Define the Ridge estimator for particular regularization-parameter value\n",
        "    reg = reg_class(alpha=complexity)\n",
        "\n",
        "    # Get r2 test scores from k-fold cross-validation\n",
        "    r2_validation_arr = cross_val_score(reg, X_cv, y_cv, cv=n_splits_cv)\n",
        "\n",
        "    # Get r2 expected prediction score by averaging over test scores\n",
        "    r2_validation[k] = r2_validation_arr.mean()\n",
        "\n",
        "    # Save coefficients\n",
        "    reg.fit(X_cv, y_cv)\n",
        "    coefs[k] = reg.coef_\n",
        "\n",
        "    # Get r2 test error\n",
        "    r2_test[k] = reg.score(X_test, y_test)\n",
        "\n",
        "\n",
        "# Get the best values of the regularization parameter, prediction R2 and coefficients\n",
        "i_best = np.argmax(r2_validation)\n",
        "complexity_best = complexity_rng[i_best]\n",
        "r2_validation_best = r2_validation[i_best]\n",
        "coefs_best = coefs[i_best]\n",
        "r2_test_best = r2_test[i_best]"
      ],
      "metadata": {
        "id": "c0pmD7-JYeii"
      },
      "id": "c0pmD7-JYeii",
      "execution_count": null,
      "outputs": []
    },
    {
      "cell_type": "code",
      "source": [
        "print(r2_validation)"
      ],
      "metadata": {
        "id": "acleenFpSoLK"
      },
      "id": "acleenFpSoLK",
      "execution_count": null,
      "outputs": []
    },
    {
      "cell_type": "code",
      "source": [
        "# Plot validation curve\n",
        "complexity_label = r'$\\alpha$'\n",
        "plt.figure()\n",
        "plt.plot(complexity_rng, r2_validation, label = 'Train R2')\n",
        "plt.legend()\n",
        "plt.xlabel(complexity_label)\n",
        "plt.ylabel(r'$R^2$')\n",
        "\n",
        "plt.figure()\n",
        "plt.plot(complexity_rng, r2_test, label = 'Test R2')\n",
        "plt.xlabel(complexity_label)\n",
        "plt.ylabel(r'$R^2$')\n",
        "plt.legend()\n",
        "_ = plt.title(r'Best $R^2 train$: {:.3} for $\\alpha$ = {:.1e} and $R^2 test$ : {:.3}'.format(\n",
        "    r2_validation_best, complexity_best, r2_test_best))\n",
        "_ = plt.xlim(complexity_rng[[0, -1]])\n"
      ],
      "metadata": {
        "id": "DeN1ZSKLrT7_"
      },
      "id": "DeN1ZSKLrT7_",
      "execution_count": null,
      "outputs": []
    },
    {
      "cell_type": "code",
      "source": [
        "# Define the Ridge estimator for best regularization parameter value\n",
        "reg = reg_class(alpha=complexity_best)\n",
        "\n",
        "# Fit on train data\n",
        "reg.fit(X_cv, y_cv)\n",
        "\n",
        "# Test on test data\n",
        "r2_test = reg.score(X_test, y_test)\n",
        "\n",
        "print('Test R2: {:.3f}'.format(r2_test))"
      ],
      "metadata": {
        "id": "m00xD4fuRw3l"
      },
      "id": "m00xD4fuRw3l",
      "execution_count": null,
      "outputs": []
    },
    {
      "cell_type": "markdown",
      "id": "ad79471d",
      "metadata": {
        "id": "ad79471d"
      },
      "source": [
        "***\n",
        "## Credit\n",
        "\n",
        "[//]: # \"This notebook is part of [E4C Interdisciplinary Center - Education](https://gitlab.in2p3.fr/energy4climate/public/education).\"\n",
        "Contributors include Bruno Deremble and Alexis Tantet.\n",
        "Several slides and images are taken from the very good [Scikit-learn course](https://inria.github.io/scikit-learn-mooc/).\n",
        "\n",
        "<br>\n",
        "\n",
        "<div style=\"display: flex; height: 70px\">\n",
        "    \n",
        "<img alt=\"Logo LMD\" src=\"https://github.com/VTNay/MEC557-Project/blob/main/images/logos/logo_lmd.jpg?raw=1\" style=\"display: inline-block\"/>\n",
        "\n",
        "<img alt=\"Logo IPSL\" src=\"https://github.com/VTNay/MEC557-Project/blob/main/images/logos/logo_ipsl.png?raw=1\" style=\"display: inline-block\"/>\n",
        "\n",
        "<img alt=\"Logo E4C\" src=\"https://github.com/VTNay/MEC557-Project/blob/main/images/logos/logo_e4c_final.png?raw=1\" style=\"display: inline-block\"/>\n",
        "\n",
        "<img alt=\"Logo EP\" src=\"https://github.com/VTNay/MEC557-Project/blob/main/images/logos/logo_ep.png?raw=1\" style=\"display: inline-block\"/>\n",
        "\n",
        "<img alt=\"Logo SU\" src=\"https://github.com/VTNay/MEC557-Project/blob/main/images/logos/logo_su.png?raw=1\" style=\"display: inline-block\"/>\n",
        "\n",
        "<img alt=\"Logo ENS\" src=\"https://github.com/VTNay/MEC557-Project/blob/main/images/logos/logo_ens.jpg?raw=1\" style=\"display: inline-block\"/>\n",
        "\n",
        "<img alt=\"Logo CNRS\" src=\"https://github.com/VTNay/MEC557-Project/blob/main/images/logos/logo_cnrs.png?raw=1\" style=\"display: inline-block\"/>\n",
        "    \n",
        "</div>\n",
        "\n",
        "<hr>\n",
        "\n",
        "<div style=\"display: flex\">\n",
        "    <a rel=\"license\" href=\"http://creativecommons.org/licenses/by-sa/4.0/\"><img alt=\"Creative Commons License\" style=\"border-width:0; margin-right: 10px\" src=\"https://i.creativecommons.org/l/by-sa/4.0/88x31.png\" /></a>\n",
        "    <br>This work is licensed under a &nbsp; <a rel=\"license\" href=\"http://creativecommons.org/licenses/by-sa/4.0/\">Creative Commons Attribution-ShareAlike 4.0 International License</a>.\n",
        "</div>"
      ]
    }
  ],
  "metadata": {
    "kernelspec": {
      "display_name": "Python 3",
      "language": "python",
      "name": "python3"
    },
    "language_info": {
      "codemirror_mode": {
        "name": "ipython",
        "version": 3
      },
      "file_extension": ".py",
      "mimetype": "text/x-python",
      "name": "python",
      "nbconvert_exporter": "python",
      "pygments_lexer": "ipython3",
      "version": "3.9.12"
    },
    "latex_envs": {
      "LaTeX_envs_menu_present": true,
      "autoclose": true,
      "autocomplete": false,
      "bibliofile": "biblio.bib",
      "cite_by": "apalike",
      "current_citInitial": 1,
      "eqLabelWithNumbers": true,
      "eqNumInitial": 1,
      "hotkeys": {
        "equation": "Ctrl-E",
        "itemize": "Ctrl-I"
      },
      "labels_anchors": false,
      "latex_user_defs": false,
      "report_style_numbering": false,
      "user_envs_cfg": false
    },
    "toc": {
      "base_numbering": 1,
      "nav_menu": {},
      "number_sections": true,
      "sideBar": true,
      "skip_h1_title": false,
      "title_cell": "Table of Contents",
      "title_sidebar": "Contents",
      "toc_cell": false,
      "toc_position": {},
      "toc_section_display": true,
      "toc_window_display": false
    },
    "varInspector": {
      "cols": {
        "lenName": 16,
        "lenType": 16,
        "lenVar": 40
      },
      "kernels_config": {
        "python": {
          "delete_cmd_postfix": "",
          "delete_cmd_prefix": "del ",
          "library": "var_list.py",
          "varRefreshCmd": "print(var_dic_list())"
        },
        "r": {
          "delete_cmd_postfix": ") ",
          "delete_cmd_prefix": "rm(",
          "library": "var_list.r",
          "varRefreshCmd": "cat(var_dic_list()) "
        }
      },
      "types_to_exclude": [
        "module",
        "function",
        "builtin_function_or_method",
        "instance",
        "_Feature"
      ],
      "window_display": false
    },
    "colab": {
      "provenance": [],
      "include_colab_link": true
    }
  },
  "nbformat": 4,
  "nbformat_minor": 5
}