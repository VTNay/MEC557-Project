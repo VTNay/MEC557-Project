{
  "cells": [
    {
      "cell_type": "markdown",
      "metadata": {
        "id": "view-in-github",
        "colab_type": "text"
      },
      "source": [
        "<a href=\"https://colab.research.google.com/github/VTNay/MEC557-Project/blob/Ma/MEC557_Weather.ipynb\" target=\"_parent\"><img src=\"https://colab.research.google.com/assets/colab-badge.svg\" alt=\"Open In Colab\"/></a>"
      ]
    },
    {
      "cell_type": "markdown",
      "id": "f1ae401f",
      "metadata": {
        "id": "f1ae401f"
      },
      "source": [
        "# MEC 557 - Apprentissage Automatique pour le climat et l\"énérgie (2023-2024)\n",
        "- **Vo Thoi Nay**, nay.vo-thoi@polytechnique.edu\n",
        "- **Zhichuan Ma**, zhichuan.ma@polytechnique.edu\n",
        "\n",
        "[![Binder](https://mybinder.org/badge_logo.svg)](https://mybinder.org/v2/git/https%3A%2F%2Fgitlab.in2p3.fr%2Fenergy4climate%2Fpublic%2Feducation%2Fmachine_learning_for_climate_and_energy/master?filepath=book%2Fnotebooks%2Fprojects.ipynb)"
      ]
    },
    {
      "cell_type": "markdown",
      "source": [
        "## **Introduction**\n",
        "\n",
        "This project explores the application of machine learning in addressing practical challenges in meteorology, with a focus on a network of five weather stations located in Paris, Brest, London, Marseille, and Berlin. These stations monitor a variety of surface weather variables, including:\n",
        "\n",
        "<center>\n",
        "\n",
        "| Variable | Description                                      |\n",
        "|----------|--------------------------------------------------|\n",
        "| skt      | Skin Temperature                                 |\n",
        "| u10      | 10-meter U Wind Component (wind speed east-west) |\n",
        "| v10      | 10-meter V Wind Component (wind speed north-south)|\n",
        "| t2m      | 2-meter Temperature                              |\n",
        "| d2m      | 2-meter Dew Point Temperature                    |\n",
        "| tcc      | Total Cloud Cover                                |\n",
        "| sp       | Surface Pressure                                 |\n",
        "| tp       | Total Precipitation                              |\n",
        "| ssrd     | Surface Solar Radiation Downwards                |\n",
        "| blh      | Boundary Layer Height                            |\n",
        "\n",
        "</center>\n",
        "\n",
        "The central challenge addressed in this project arises from a malfunction at the Paris weather station, leading to a gap in its data stream. The objective is to investigate the feasibility of using machine learning techniques to infer the weather conditions in Paris based on the data from the remaining stations in Brest, London, Marseille, and Berlin. This approach holds significant value, as it offers a potential solution for maintaining continuous weather monitoring in the event of individual station outages.\n",
        "\n",
        "The project will likely involve analyzing correlations and patterns between the weather conditions reported by these stations and developing a predictive model to estimate the missing data for Paris. The key challenge is to accurately model the complex meteorological phenomena, providing reliable predictions in the absence of direct data from the Paris station."
      ],
      "metadata": {
        "id": "ktfCul1EBJIT"
      },
      "id": "ktfCul1EBJIT"
    },
    {
      "cell_type": "markdown",
      "source": [
        "### **Essential Preparation Guidelines (must read)**\n",
        "Our project embraces collaboration through the use of Git and Google Colab, two powerful tools that enhance our team's efficiency and workflow. We have chosen to store our project data on Google Drive for easy access and sharing among team members.\n",
        "\n",
        "To seamlessly integrate with our project setup, we recommend the following steps:\n",
        "\n",
        "1.   **Download the Dataset**: First, obtain the dataset from our Moodle course page. This dataset forms the foundation of our analyses and experiments.\n",
        "2.   **Create a Dedicated Project Folder**: In your Google Drive, establish a folder named **\"PHY557_Project\"**. This dedicated space will help you organize and manage project files effectively.\n",
        "3.   **Upload the Dataset to the Folder**: Place the downloaded dataset into the \"PHY557_Project\" folder. This step ensures that all project-related data is centralized and accessible within your Google Drive.\n",
        "\n",
        "Here is a example relevant path: \"/content/drive/My Drive/PHY557_Project/weather/paris\"\n",
        "\n",
        "\n",
        "\n",
        "\n",
        "\n",
        "\n"
      ],
      "metadata": {
        "id": "uQkcTUJfdtVI"
      },
      "id": "uQkcTUJfdtVI"
    },
    {
      "cell_type": "code",
      "source": [
        "from google.colab import drive\n",
        "drive.mount('/content/drive')"
      ],
      "metadata": {
        "colab": {
          "base_uri": "https://localhost:8080/"
        },
        "id": "EfvEaXMCKKvc",
        "outputId": "761ceeae-fd6d-4876-ea2f-414923b8b86a"
      },
      "id": "EfvEaXMCKKvc",
      "execution_count": 1,
      "outputs": [
        {
          "output_type": "stream",
          "name": "stdout",
          "text": [
            "Mounted at /content/drive\n"
          ]
        }
      ]
    },
    {
      "cell_type": "markdown",
      "id": "b309f16e",
      "metadata": {
        "id": "b309f16e"
      },
      "source": [
        "### **Weather Station**"
      ]
    },
    {
      "cell_type": "markdown",
      "id": "912d896e",
      "metadata": {
        "id": "912d896e"
      },
      "source": [
        "<img alt=\"weather\" src=\"https://github.com/VTNay/MEC557-Project/blob/main/images/map.png?raw=1\" width=400>"
      ]
    },
    {
      "cell_type": "markdown",
      "id": "2372e364",
      "metadata": {
        "id": "2372e364"
      },
      "source": [
        "- Suppose there are 5 weather stations that monitor the weather: Paris, Brest, London, Marseille and Berlin.\n",
        "- The weather station in Paris breaks down\n",
        "- Can we use the other stations to infer the weather in Paris"
      ]
    },
    {
      "cell_type": "markdown",
      "id": "66ae5a0d",
      "metadata": {
        "id": "66ae5a0d"
      },
      "source": [
        "### **Glimpse on the dataset**\n",
        "\n",
        "<img alt=\"weather\" src=\"https://github.com/VTNay/MEC557-Project/blob/main/images/annual_temperature.png?raw=1\" width=400>\n",
        "\n",
        "- Surface variables: skt, u10, v10, t2m, d2m, tcc, sp, tp, ssrd, blh\n",
        "- Temporal resolution: hourly\n",
        "- Spatial resolution: N/A"
      ]
    },
    {
      "cell_type": "markdown",
      "source": [
        "## **Methodology**\n",
        "\n",
        "<img alt=\"weather\" src=\"https://github.com/VTNay/MEC557-Project/blob/main/images/methodology (2).png?raw=1\" width=1000>\n",
        "\n",
        "In our project, which involves a comprehensive dataset with 40 distinct features, our primary goal is to develop and refine models capable of predicting weather statistics for Paris. To achieve this, we have devised a structured approach for our data and model management:\n",
        "\n",
        "1. **Dataset Division**: We start by splitting our dataset into two distinct parts. The first part is dedicated to model training, where we employ various strategies, including cross-validation, to identify the most effective model. Cross-validation helps in assessing the model's performance more reliably by using different subsets of the training data.\n",
        "\n",
        "2. **Model Training and Selection**: During the training phase, several models are trained and evaluated. We utilize cross-validation to determine the best model based on its performance across different segments of our training data. This process ensures that the best hyperparameter is determined.\n",
        "\n",
        "3. **Performance Testing**: The second part of the dataset is reserved for testing. This phase is crucial as it provides an unbiased evaluation of the model's performance. By applying the model to unseen data, we can gauge its effectiveness in real-world scenarios.\n",
        "\n",
        "4. **Comparative Analysis**: Finally, we conduct a comprehensive comparison of the models' performances. This involves analyzing various metrics and aspects of each model to understand their strengths and weaknesses in predicting Paris weather statistics. The outcome of this comparison will guide us in selecting the most suitable model for our objective."
      ],
      "metadata": {
        "id": "oGtaEIkDApFH"
      },
      "id": "oGtaEIkDApFH"
    },
    {
      "cell_type": "markdown",
      "source": [
        "## **Data Processing and Cleansing**\n",
        "\n",
        "This section focuses on the initial steps of handling our dataset: reading and storing the data followed by thorough cleaning. We place a special emphasis on identifying and addressing two primary issues - the presence of NaN (Not a Number) values and inconsistencies in dataset lengths across different cities. These steps are crucial to ensure the integrity and reliability of our analysis."
      ],
      "metadata": {
        "id": "uc5X9c9COuey"
      },
      "id": "uc5X9c9COuey"
    },
    {
      "cell_type": "code",
      "source": [
        "from pathlib import Path\n",
        "import numpy as np\n",
        "import pandas as pd\n",
        "import xarray as xr\n",
        "from functools import reduce\n",
        "from matplotlib import pyplot as plt\n",
        "from sklearn import preprocessing\n",
        "\n",
        "# Define file paths for weather data of different cities\n",
        "weather_paths = {\n",
        "    'Paris': Path('/content/drive/My Drive/PHY557_Project/weather/paris'),\n",
        "    'Brest': Path('/content/drive/My Drive/PHY557_Project/weather/brest'),\n",
        "    'London': Path('/content/drive/My Drive/PHY557_Project/weather/london'),\n",
        "    'Marseille': Path('/content/drive/My Drive/PHY557_Project/weather/marseille'),\n",
        "    'Berlin': Path('/content/drive/My Drive/PHY557_Project/weather/berlin')\n",
        "}\n",
        "\n",
        "# Define the names of the files for each weather parameter\n",
        "file_names = {\n",
        "    't2m': 't2m.nc', 'blh': 'blh.nc', 'd2m': 'd2m.nc', 'skt': 'skt.nc',\n",
        "    'sp': 'sp.nc', 'ssrd': 'ssrd.nc', 'tcc': 'tcc.nc', 'tp': 'tp.nc',\n",
        "    'u10': 'u10.nc', 'v10': 'v10.nc'\n",
        "}\n",
        "\n",
        "# Initialize a dictionary to store weather data for each city\n",
        "weather_data = {city: {} for city in weather_paths}\n",
        "\n",
        "# Load and preprocess the data for each city\n",
        "for city, path in weather_paths.items():\n",
        "    for param, file_name in file_names.items():\n",
        "        # Load the dataset\n",
        "        dataset = xr.open_dataset(Path(path, file_name)).to_dataframe()\n",
        "        # Drop unnecessary levels based on the parameter\n",
        "        if param in ['d2m', 'blh']:\n",
        "            dataset = dataset.droplevel([1, 2])\n",
        "        else:\n",
        "            dataset = dataset.droplevel([0, 1])\n",
        "        # Store the processed data\n",
        "        weather_data[city][param] = dataset\n",
        "    # Merge data from different parameters into a single dataframe\n",
        "    weather_data[city] = reduce(lambda left, right: pd.merge(\n",
        "        left, right, left_index=True, right_index=True, how='outer'),\n",
        "        weather_data[city].values())\n",
        "\n",
        "# Function to rename columns with city prefix\n",
        "def rename_columns(df, prefix):\n",
        "    \"\"\"Rename columns with a city prefix.\"\"\"\n",
        "    return df.rename(columns={col: f\"{prefix}_{col}\" for col in df.columns})\n",
        "\n",
        "# Rename columns and concatenate data from all cities\n",
        "combined_data = pd.concat([rename_columns(weather_data[city], city) for city in weather_data], axis=1)\n",
        "\n",
        "# Data cleaning\n",
        "# Drop rows with missing values\n",
        "combined_data = combined_data.dropna()\n",
        "\n",
        "# Split the combined data into features (X) and target (y)\n",
        "X_raw = combined_data.iloc[:,10:]  # Features from all cities except Paris\n",
        "y = combined_data['Paris_t2m']  # Target: temperature in Paris\n",
        "\n",
        "# Assuming X_raw and y are your raw data arrays\n",
        "X_normalized = (X_raw - X_raw.mean())/X_raw.std()\n",
        "y_normalized = (y - y.mean())/y.std()\n",
        "\n",
        "\n",
        "# Calculate the number of years in the dataset\n",
        "n_years = y_normalized.index.year.max() - y_normalized.index.year.min() + 1\n",
        "\n",
        "print(X_normalized.columns)\n",
        "print(y)\n",
        "print('Number of years: {}'.format(n_years))"
      ],
      "metadata": {
        "colab": {
          "base_uri": "https://localhost:8080/"
        },
        "id": "_AFDHEOp8-F1",
        "outputId": "3c76d363-6f92-4bad-f155-48f1c2fc9932"
      },
      "id": "_AFDHEOp8-F1",
      "execution_count": 2,
      "outputs": [
        {
          "output_type": "stream",
          "name": "stdout",
          "text": [
            "Index(['Brest_t2m', 'Brest_blh', 'Brest_d2m', 'Brest_skt', 'Brest_sp',\n",
            "       'Brest_ssrd', 'Brest_tcc', 'Brest_tp', 'Brest_u10', 'Brest_v10',\n",
            "       'London_t2m', 'London_blh', 'London_d2m', 'London_skt', 'London_sp',\n",
            "       'London_ssrd', 'London_tcc', 'London_tp', 'London_u10', 'London_v10',\n",
            "       'Marseille_t2m', 'Marseille_blh', 'Marseille_d2m', 'Marseille_skt',\n",
            "       'Marseille_sp', 'Marseille_ssrd', 'Marseille_tcc', 'Marseille_tp',\n",
            "       'Marseille_u10', 'Marseille_v10', 'Berlin_t2m', 'Berlin_blh',\n",
            "       'Berlin_d2m', 'Berlin_skt', 'Berlin_sp', 'Berlin_ssrd', 'Berlin_tcc',\n",
            "       'Berlin_tp', 'Berlin_u10', 'Berlin_v10'],\n",
            "      dtype='object')\n",
            "time\n",
            "1980-01-01 07:00:00    272.039154\n",
            "1980-01-01 08:00:00    272.022308\n",
            "1980-01-01 09:00:00    271.751892\n",
            "1980-01-01 10:00:00    274.506470\n",
            "1980-01-01 11:00:00    275.079346\n",
            "                          ...    \n",
            "2019-12-31 19:00:00    272.958130\n",
            "2019-12-31 20:00:00    272.240845\n",
            "2019-12-31 21:00:00    271.729919\n",
            "2019-12-31 22:00:00    273.190796\n",
            "2019-12-31 23:00:00    272.771423\n",
            "Freq: H, Name: Paris_t2m, Length: 350633, dtype: float32\n",
            "Number of years: 40\n"
          ]
        }
      ]
    },
    {
      "cell_type": "markdown",
      "source": [
        "## **Reducing the Dimension**\n",
        "The necessity to reduce the dimensions of our feature set is primarily driven by constraints in available RAM. Given the extensive volume of our dataset, directly applying high-degree polynomial regression (such as degree = 3) is not viable due to the significant computational resources it requires.\n",
        "\n",
        "To address this challenge, we have adopted two distinct methods: Principal Component Analysis (PCA) and Lasso Regression."
      ],
      "metadata": {
        "id": "JHTmbCLUJkWl"
      },
      "id": "JHTmbCLUJkWl"
    },
    {
      "cell_type": "markdown",
      "source": [
        "### **PCA**\n",
        "\n",
        "PCA is a powerful technique for dimensionality reduction. It works by identifying the most significant features in terms of variance and transforming the original features into a new set of uncorrelated features (principal components). This process not only reduces the computational load but also retains the most crucial information contained in the data."
      ],
      "metadata": {
        "id": "E8xgsWcB_n48"
      },
      "id": "E8xgsWcB_n48"
    },
    {
      "cell_type": "code",
      "source": [
        "from sklearn.decomposition import PCA\n",
        "import pandas as pd\n",
        "\n",
        "def apply_pca(X, n_components=20):\n",
        "    \"\"\"\n",
        "    Applies PCA to reduce the number of features.\n",
        "    Args:\n",
        "    X (DataFrame): The input features dataset.\n",
        "    n_components (int): The number of principal components to keep.\n",
        "    Returns:\n",
        "    DataFrame: Transformed feature set with reduced dimensions.\n",
        "    \"\"\"\n",
        "    # Initialize PCA\n",
        "    pca = PCA(n_components=n_components)\n",
        "    # Fit PCA on the dataset\n",
        "    pca.fit(X)\n",
        "    # Transform the dataset\n",
        "    X_pca = pca.transform(X)\n",
        "    # Convert to DataFrame for easier handling\n",
        "    X_pca_df = pd.DataFrame(X_pca, columns=[f'PC{i+1}' for i in range(n_components)])\n",
        "    return X_pca_df"
      ],
      "metadata": {
        "id": "Xqd3_wzmIcif"
      },
      "id": "Xqd3_wzmIcif",
      "execution_count": 3,
      "outputs": []
    },
    {
      "cell_type": "markdown",
      "source": [
        "### **Lasso**\n",
        "Lasso is a linear model that uses this cost function:\n",
        "\n",
        "$$\n",
        "\\frac{1}{2N_{\\text{training}}} \\sum_{i=1}^{N_{\\text{training}}} \\left( y^{(i)}_{\\text{real}} - y^{(i)}_{\\text{pred}} \\right)^2 + \\alpha \\sum_{j=1}^{n} |a_j|\n",
        "$$\n",
        "\n",
        "$a_j$ is the coefficient of the j-th feature. The final term is called $l_1$ penalty and $\\alpha$ is a hyperparameter that tunes the intensity of this penalty term. The higher the coefficient of a feature, the higher the value of the cost function. So, the idea of Lasso regression is to optimize the cost function reducing the absolute values of the coefficients.\n"
      ],
      "metadata": {
        "id": "1Fa2OtwzAsbH"
      },
      "id": "1Fa2OtwzAsbH"
    },
    {
      "cell_type": "code",
      "source": [
        "from sklearn.linear_model import LassoCV\n",
        "import pandas as pd\n",
        "\n",
        "def apply_lasso(X, y, n_features_to_select):\n",
        "    \"\"\"\n",
        "    Applies Lasso regression to select features.\n",
        "\n",
        "    Args:\n",
        "    X (DataFrame): The input features dataset.\n",
        "    y (Series): The target dataset.\n",
        "    n_features_to_select (int): The desired number of features to select.\n",
        "\n",
        "    Returns:\n",
        "    DataFrame: The reduced feature set.\n",
        "    List of tuples: The list of features with their corresponding absolute coefficient values.\n",
        "    \"\"\"\n",
        "    # Initialize LassoCV with cross-validation to find the optimal alpha\n",
        "    lasso = LassoCV(cv=5)\n",
        "\n",
        "    # Fit LassoCV on the dataset\n",
        "    lasso.fit(X, y)\n",
        "\n",
        "    # Get the coefficients\n",
        "    coef = lasso.coef_\n",
        "\n",
        "    # Combine features with their coefficients\n",
        "    feature_coef = list(zip(X.columns, abs(coef)))\n",
        "\n",
        "    # Sort features by the absolute value of their coefficient\n",
        "    feature_coef = sorted(feature_coef, key=lambda x: x[1], reverse=True)\n",
        "\n",
        "    # Select the top 'n_features_to_select'\n",
        "    selected_features = [feature for feature, _ in feature_coef[:n_features_to_select]]\n",
        "\n",
        "    return X[selected_features], feature_coef"
      ],
      "metadata": {
        "id": "Qtky8WbuJmVG"
      },
      "id": "Qtky8WbuJmVG",
      "execution_count": 4,
      "outputs": []
    },
    {
      "cell_type": "markdown",
      "source": [
        "## **Choose the number of features to reduce**\n",
        "\n",
        "We developed the following code to strategically determine the number of features to reduce our dataset to."
      ],
      "metadata": {
        "id": "JUBVcKCFK0sI"
      },
      "id": "JUBVcKCFK0sI"
    },
    {
      "cell_type": "code",
      "source": [
        "X_lasso, feature_coef = apply_lasso(X_normalized, y_normalized, 20)\n",
        "# Convert the list of tuples to a DataFrame for easier plotting\n",
        "features, coefficients = zip(*feature_coef)\n",
        "df = pd.DataFrame({'Feature': features, 'Coefficient': coefficients})\n",
        "\n",
        "# Determine the threshold for the top 3 features\n",
        "top_20_threshold = df['Coefficient'].nlargest(21).min()\n",
        "\n",
        "# Create a color list, where features above the threshold are 'red' and others are 'blue'\n",
        "colors = ['blue' if x > top_20_threshold else 'red' for x in df['Coefficient']]\n",
        "\n",
        "# Plot the horizontal bar plot\n",
        "plt.figure(figsize=(8, 5.5))\n",
        "bars = plt.barh(df['Feature'], df['Coefficient'], color=colors)\n",
        "\n",
        "# Add a vertical line for the threshold of the top 3 features\n",
        "plt.axvline(x=top_20_threshold, color='green', linestyle='--', linewidth=2)\n",
        "\n",
        "# Add a horizontal line at the position of the 3rd feature\n",
        "top_20_feature_position = df[df['Coefficient'] > top_20_threshold].shape[0]\n",
        "plt.axhline(y=top_20_feature_position-0.5, color='red', linestyle='--', linewidth=2)\n",
        "\n",
        "plt.xlabel('Coefficient Value')\n",
        "plt.yticks(fontsize = 8)\n",
        "plt.title('Feature Importance with Threshold')\n",
        "plt.tight_layout()\n",
        "\n",
        "# Show the plot\n",
        "plt.show()"
      ],
      "metadata": {
        "id": "2ywuZWmYuhTl",
        "outputId": "05ee4431-0021-4ee2-ccfc-1cf206b215d2",
        "colab": {
          "base_uri": "https://localhost:8080/",
          "height": 557
        }
      },
      "id": "2ywuZWmYuhTl",
      "execution_count": 5,
      "outputs": [
        {
          "output_type": "display_data",
          "data": {
            "text/plain": [
              "<Figure size 800x550 with 1 Axes>"
            ],
            "image/png": "[encoded data removed]"
          },
          "metadata": {}
        }
      ]
    },
    {
      "cell_type": "markdown",
      "source": [
        "## **Core Fucntion: poly_ridge**\n",
        "\n",
        "Our project's central analytical component is encapsulated in the poly_ridge function. This function is meticulously designed to perform polynomial regression complemented by Ridge regularization, a method particularly suitable for handling multicollinearity and preventing overfitting in our model."
      ],
      "metadata": {
        "id": "Bg_10e6ephP5"
      },
      "id": "Bg_10e6ephP5"
    },
    {
      "cell_type": "code",
      "source": [
        "from sklearn.model_selection import train_test_split, KFold, cross_val_score\n",
        "from sklearn.linear_model import Ridge\n",
        "from sklearn.preprocessing import PolynomialFeatures\n",
        "from sklearn.pipeline import make_pipeline\n",
        "from sklearn.metrics import mean_squared_error\n",
        "import numpy as np\n",
        "from sklearn.model_selection import TimeSeriesSplit\n",
        "\n",
        "def poly_ridge(degree, X, y, alpha_values, n_splits_cv, test_size):\n",
        "    \"\"\"\n",
        "    Performs polynomial regression with Ridge regularization.\n",
        "\n",
        "    Args:\n",
        "    degree (int): The degree of the polynomial features.\n",
        "    X (DataFrame): The features dataset.\n",
        "    y (Series): The target dataset.\n",
        "    alpha_values (array): Array of alpha values for regularization.\n",
        "    n_splits_cv (int): Number of splits for cross-validation.\n",
        "    test_size (float): The proportion of the dataset to include in the test split.\n",
        "\n",
        "    Returns:\n",
        "    dict: A dictionary containing model performance metrics and optimal parameters.\n",
        "    \"\"\"\n",
        "\n",
        "    # Split the dataset into cross-validation and testing sets\n",
        "    # Calculate the number of years to use for the test set\n",
        "    n_test_years = int(n_years * test_size)\n",
        "    # Define the cutoff year to separate the last 8 years\n",
        "    cutoff_year = y.index.year.max() - (n_test_years - 1)\n",
        "    # Create boolean masks for splitting the data\n",
        "    cv_mask = y.index.year < cutoff_year\n",
        "    test_mask = y.index.year >= cutoff_year\n",
        "\n",
        "    # Split the data into cross-validation and test sets\n",
        "    X_cv = X.loc[cv_mask]\n",
        "    y_cv = y[cv_mask]\n",
        "    X_test = X.loc[test_mask]\n",
        "    y_test = y[test_mask]\n",
        "\n",
        "    # Initialize arrays for storing scores and coefficients\n",
        "    r2_validation = np.empty(len(alpha_values))\n",
        "    # Set up the cross-validation configuration\n",
        "    tscv = TimeSeriesSplit(n_splits=n_splits_cv)\n",
        "\n",
        "    # Loop over different values of alpha (regularization strength)\n",
        "    for i, alpha in enumerate(alpha_values):\n",
        "        # Transform data to include polynomial features, include_bias=False because Ridge has the intercept by default\n",
        "        polynomial_features = PolynomialFeatures(degree=degree, include_bias=False)\n",
        "        # Create a pipeline with polynomial features and ridge regression\n",
        "        model = make_pipeline(polynomial_features, Ridge(alpha=alpha))\n",
        "\n",
        "        # Calculate the mean R^2 score from k-fold cross-validation\n",
        "        r2_validation[i] = cross_val_score(model, X_cv, y_cv, cv=tscv).mean()\n",
        "\n",
        "    # Find the index of the best alpha value\n",
        "    i_best = np.argmax(r2_validation)\n",
        "    alpha_best = alpha_values[i_best]\n",
        "\n",
        "    # Train the model with the best alpha value on the full CV dataset\n",
        "    best_model = make_pipeline(PolynomialFeatures(degree=degree, include_bias=False), Ridge(alpha=alpha_best))\n",
        "    best_model.fit(X_cv, y_cv)\n",
        "\n",
        "    # Calculate R^2 score on the test dataset\n",
        "    r2_test = best_model.score(X_test, y_test)\n",
        "\n",
        "    # Calculate MSE on the test dataset\n",
        "    y_pred = best_model.predict(X_test)\n",
        "    mse_test = mean_squared_error(y_test, y_pred)\n",
        "\n",
        "    # Return a dictionary containing the results\n",
        "    return {\n",
        "        'r2_validation': r2_validation,\n",
        "        'i_best': i_best,\n",
        "        'alpha_best': alpha_best,\n",
        "        'r2_test': r2_test,\n",
        "        'mse_test': mse_test\n",
        "    }"
      ],
      "metadata": {
        "id": "3I5bkqc3BNJW"
      },
      "id": "3I5bkqc3BNJW",
      "execution_count": 14,
      "outputs": []
    },
    {
      "cell_type": "markdown",
      "source": [
        "## **Results**"
      ],
      "metadata": {
        "id": "G5hc8M5tPg2G"
      },
      "id": "G5hc8M5tPg2G"
    },
    {
      "cell_type": "markdown",
      "source": [
        "### **40 features**"
      ],
      "metadata": {
        "id": "d2Zg-7ZPP64u"
      },
      "id": "d2Zg-7ZPP64u"
    },
    {
      "cell_type": "markdown",
      "source": [
        "Due to memory constraints in handling a third-degree polynomial regression with 40 features, we have adjusted our approach to focus exclusively on Ridge regression for linear (first-degree) and second-degree polynomial models."
      ],
      "metadata": {
        "id": "8kDxnatnP-jV"
      },
      "id": "8kDxnatnP-jV"
    },
    {
      "cell_type": "code",
      "source": [
        "alpha_values_40 =np.logspace(1, 3, 50)"
      ],
      "metadata": {
        "id": "VOacHrVaTHEc"
      },
      "id": "VOacHrVaTHEc",
      "execution_count": 19,
      "outputs": []
    },
    {
      "cell_type": "code",
      "source": [
        "# Degree 1\n",
        "results_40_linear = poly_ridge(degree=1, X=X_normalized, y=y_normalized, alpha_values=alpha_values_40, n_splits_cv=5, test_size=0.25)\n",
        "print(results_40_linear)"
      ],
      "metadata": {
        "id": "fM1GO0iWvLN-",
        "outputId": "d4248b3c-9012-4b0e-a228-2a20a8609be2",
        "colab": {
          "base_uri": "https://localhost:8080/"
        }
      },
      "id": "fM1GO0iWvLN-",
      "execution_count": 20,
      "outputs": [
        {
          "output_type": "stream",
          "name": "stdout",
          "text": [
            "{'r2_validation': array([0.91532801, 0.91532893, 0.91532991, 0.91533098, 0.91533217,\n",
            "       0.9153334 , 0.91533475, 0.91533625, 0.91533783, 0.91533957,\n",
            "       0.91534138, 0.91534336, 0.91534552, 0.9153477 , 0.91535014,\n",
            "       0.91535265, 0.91535529, 0.9153581 , 0.915361  , 0.91536399,\n",
            "       0.91536718, 0.9153703 , 0.91537347, 0.91537666, 0.91537974,\n",
            "       0.91538272, 0.9153854 , 0.91538783, 0.91538979, 0.91539112,\n",
            "       0.91539183, 0.91539151, 0.9153901 , 0.91538732, 0.91538287,\n",
            "       0.91537649, 0.91536771, 0.91535629, 0.91534171, 0.91532345,\n",
            "       0.91530121, 0.91527417, 0.91524196, 0.91520369, 0.91515898,\n",
            "       0.91510694, 0.915047  , 0.91497835, 0.91490025, 0.91481209]), 'i_best': 30, 'alpha_best': 167.68329368110065, 'r2_test': 0.914225190841697, 'mse_test': 0.08770794}\n"
          ]
        }
      ]
    },
    {
      "cell_type": "code",
      "source": [
        "# Degree 2\n",
        "results_40_second = poly_ridge(degree=2, X=X_normalized, y=y_normalized, alpha_values=alpha_values_40, n_splits_cv=5, test_size=0.25)"
      ],
      "metadata": {
        "id": "dMSyPMaE05y-"
      },
      "id": "dMSyPMaE05y-",
      "execution_count": 13,
      "outputs": []
    },
    {
      "cell_type": "code",
      "source": [
        "print(results_40_second)"
      ],
      "metadata": {
        "id": "r2emj51AKVAF",
        "outputId": "18318eea-d27d-4f7a-c191-d3e963134c0f",
        "colab": {
          "base_uri": "https://localhost:8080/"
        }
      },
      "id": "r2emj51AKVAF",
      "execution_count": 22,
      "outputs": [
        {
          "output_type": "stream",
          "name": "stdout",
          "text": [
            "{'r2_validation': array([0.93219   , 0.93220364, 0.93221997, 0.93223462, 0.93225272,\n",
            "       0.93226891, 0.9322869 , 0.93230479, 0.93232481, 0.93234438,\n",
            "       0.93236596, 0.93238614, 0.93240771, 0.93243106, 0.93245441,\n",
            "       0.93247677, 0.93250212, 0.93252525, 0.93255103, 0.93257522,\n",
            "       0.93260055, 0.93262591, 0.93265039, 0.93267539, 0.93270011,\n",
            "       0.93272331, 0.93274591, 0.93276743, 0.93278812, 0.93280699,\n",
            "       0.9328241 , 0.93283899, 0.93285106, 0.93286134, 0.93286833,\n",
            "       0.93287118, 0.93287069, 0.93286515, 0.93285571, 0.93284014,\n",
            "       0.93281986, 0.9327934 , 0.93275991, 0.93271942, 0.93267162,\n",
            "       0.93261601, 0.93255174, 0.93247867, 0.93239645, 0.9323047 ]), 'i_best': 35, 'alpha_best': 268.26957952797244, 'r2_test': 0.9356094532859576, 'mse_test': 0.06584173}\n"
          ]
        }
      ]
    },
    {
      "cell_type": "markdown",
      "source": [
        "### **20 features**"
      ],
      "metadata": {
        "id": "j9YEyiQZRTJh"
      },
      "id": "j9YEyiQZRTJh"
    },
    {
      "cell_type": "code",
      "source": [
        "alpha_values_20 =np.logspace(2, 4, 50)"
      ],
      "metadata": {
        "id": "GKhmDmP8ZYI3"
      },
      "id": "GKhmDmP8ZYI3",
      "execution_count": 15,
      "outputs": []
    },
    {
      "cell_type": "markdown",
      "source": [
        "### **Getting the results for 20 features (PCA)**"
      ],
      "metadata": {
        "id": "rfYL7zPjTknp"
      },
      "id": "rfYL7zPjTknp"
    },
    {
      "cell_type": "code",
      "source": [
        "X_20_PCA = apply_pca(X_normalized, 20)\n",
        "alpha_values_20_PCA =np.logspace(1, 4, 50)"
      ],
      "metadata": {
        "id": "3V0iUmfWTpn-"
      },
      "id": "3V0iUmfWTpn-",
      "execution_count": 16,
      "outputs": []
    },
    {
      "cell_type": "code",
      "source": [
        "# Degree 1\n",
        "results_20_linear_PCA = poly_ridge(degree=1, X=X_20_PCA, y=y_normalized, alpha_values=alpha_values_20_PCA, n_splits_cv=5, test_size=0.25)\n",
        "print(results_20_linear_PCA)"
      ],
      "metadata": {
        "id": "J729HpmqVcoF",
        "outputId": "dd92e00d-aecf-47f2-bdad-3cad9823ce25",
        "colab": {
          "base_uri": "https://localhost:8080/"
        }
      },
      "id": "J729HpmqVcoF",
      "execution_count": 17,
      "outputs": [
        {
          "output_type": "stream",
          "name": "stdout",
          "text": [
            "{'r2_validation': array([0.89952067, 0.89952067, 0.89952066, 0.89952067, 0.89952067,\n",
            "       0.89952067, 0.89952068, 0.89952068, 0.89952068, 0.89952067,\n",
            "       0.89952067, 0.89952067, 0.89952067, 0.89952066, 0.89952066,\n",
            "       0.89952064, 0.89952063, 0.89952061, 0.89952058, 0.89952054,\n",
            "       0.89952048, 0.8995204 , 0.8995203 , 0.89952016, 0.89951997,\n",
            "       0.89951971, 0.89951936, 0.89951891, 0.89951829, 0.89951748,\n",
            "       0.8995164 , 0.89951498, 0.89951311, 0.89951067, 0.89950746,\n",
            "       0.89950327, 0.89949781, 0.89949071, 0.89948154, 0.8994697 ,\n",
            "       0.89945449, 0.89943502, 0.8994102 , 0.8993787 , 0.89933887,\n",
            "       0.89928875, 0.89922599, 0.89914772, 0.89905059, 0.8989306 ]), 'i_best': 7, 'alpha_best': 26.826957952797258, 'r2_test': 0.8940022107223222, 'mse_test': 0.10838668}\n"
          ]
        }
      ]
    },
    {
      "cell_type": "code",
      "source": [
        "# Degree 2\n",
        "results_20_second_PCA = poly_ridge(degree=2, X=X_20_PCA, y=y_normalized, alpha_values=alpha_values_20_PCA, n_splits_cv=5, test_size=0.25)\n",
        "print(results_20_second_PCA)"
      ],
      "metadata": {
        "id": "zd63YBrWVrvO",
        "outputId": "8a1abaa2-102e-41a1-c681-5a8b9c77ecce",
        "colab": {
          "base_uri": "https://localhost:8080/"
        }
      },
      "id": "zd63YBrWVrvO",
      "execution_count": 21,
      "outputs": [
        {
          "output_type": "stream",
          "name": "stdout",
          "text": [
            "{'r2_validation': array([0.91019374, 0.91019446, 0.91019525, 0.91019621, 0.91019736,\n",
            "       0.91019855, 0.9102    , 0.91020171, 0.91020361, 0.91020578,\n",
            "       0.91020827, 0.91021116, 0.91021442, 0.91021821, 0.91022255,\n",
            "       0.91022745, 0.9102331 , 0.91023953, 0.91024684, 0.91025518,\n",
            "       0.91026465, 0.91027533, 0.91028748, 0.91030111, 0.91031646,\n",
            "       0.91033364, 0.91035284, 0.91037419, 0.91039782, 0.9104238 ,\n",
            "       0.91045224, 0.91048309, 0.91051638, 0.9105519 , 0.91058941,\n",
            "       0.91062854, 0.91066864, 0.91070909, 0.91074885, 0.9107867 ,\n",
            "       0.91082114, 0.91085039, 0.91087231, 0.91088442, 0.91088375,\n",
            "       0.91086705, 0.91083044, 0.91076956, 0.9106794 , 0.91055418]), 'i_best': 43, 'alpha_best': 4291.934260128778, 'r2_test': 0.90894833430173, 'mse_test': 0.093103714}\n"
          ]
        }
      ]
    },
    {
      "cell_type": "code",
      "source": [
        "# Degree 2 with alpha = 0\n",
        "results_20_second_PCA_1 = poly_ridge(degree=2, X=X_20_PCA, y=y_normalized, alpha_values= np.zeros(1), n_splits_cv=5, test_size=0.25)\n",
        "print(results_20_second_PCA_1)"
      ],
      "metadata": {
        "id": "CvAxCoaMfhTJ",
        "outputId": "643ab8ae-5462-4562-c888-0f2321722807",
        "colab": {
          "base_uri": "https://localhost:8080/"
        }
      },
      "id": "CvAxCoaMfhTJ",
      "execution_count": null,
      "outputs": [
        {
          "output_type": "stream",
          "name": "stdout",
          "text": [
            "{'r2_validation': array([0.91018924]), 'i_best': 0, 'alpha_best': 0.0, 'r2_test': 0.9089032686935856}\n"
          ]
        }
      ]
    },
    {
      "cell_type": "code",
      "source": [
        "# Degree 3\n",
        "results_20_third_PCA = poly_ridge(degree=3, X=X_20_PCA, y=y_normalized, alpha_values=alpha_values_20_PCA, n_splits_cv=5, test_size=0.25)"
      ],
      "metadata": {
        "id": "7GRZVCcFVz-4"
      },
      "id": "7GRZVCcFVz-4",
      "execution_count": null,
      "outputs": []
    },
    {
      "cell_type": "code",
      "source": [
        "print(results_20_third_PCA)"
      ],
      "metadata": {
        "colab": {
          "base_uri": "https://localhost:8080/"
        },
        "id": "rhpO-AiaJ2j7",
        "outputId": "42a9e418-491a-48e2-e7d5-c3ac72796e79"
      },
      "id": "rhpO-AiaJ2j7",
      "execution_count": null,
      "outputs": [
        {
          "output_type": "stream",
          "name": "stdout",
          "text": [
            "{'r2_validation': array([0.90664676, 0.90665788, 0.90666948, 0.90668063, 0.90669967,\n",
            "       0.90671535, 0.90673482, 0.90675841, 0.9067867 , 0.90681394,\n",
            "       0.90684595, 0.90687939, 0.90692443, 0.90697194, 0.90702138,\n",
            "       0.90707673, 0.90714169, 0.90720867, 0.90728651, 0.9073699 ,\n",
            "       0.90746362, 0.90756482, 0.90767546, 0.907793  , 0.90792129,\n",
            "       0.90805966, 0.90820534, 0.90836045, 0.90852272, 0.9086924 ,\n",
            "       0.90886648, 0.90904594, 0.90922782, 0.90940912, 0.90958778,\n",
            "       0.90976282, 0.9099293 , 0.91008542, 0.91022683, 0.91035004,\n",
            "       0.91045166, 0.91052563, 0.91056838, 0.91057623, 0.9105409 ,\n",
            "       0.91045822, 0.91032288, 0.91012808, 0.90986719, 0.90953544]), 'i_best': 43, 'alpha_best': 4291.934260128778, 'r2_test': 0.9156497922992703}\n"
          ]
        }
      ]
    },
    {
      "cell_type": "code",
      "source": [
        "# Degree 3 with alpha = 0\n",
        "results_20_third_PCA_1 = poly_ridge(degree=3, X=X_20_PCA, y=y_normalized, alpha_values=np.zeros(1), n_splits_cv=5, test_size=0.25)\n",
        "print(results_20_third_PCA_1)"
      ],
      "metadata": {
        "id": "tmCNkyM3fnXa",
        "outputId": "01bb7edb-1ce2-4b8a-8a15-7bcea3c83c33",
        "colab": {
          "base_uri": "https://localhost:8080/"
        }
      },
      "id": "tmCNkyM3fnXa",
      "execution_count": null,
      "outputs": [
        {
          "output_type": "stream",
          "name": "stderr",
          "text": [
            "/usr/local/lib/python3.10/dist-packages/sklearn/linear_model/_ridge.py:216: LinAlgWarning: Ill-conditioned matrix (rcond=4.19643e-09): result may not be accurate.\n",
            "  return linalg.solve(A, Xy, assume_a=\"pos\", overwrite_a=True).T\n",
            "/usr/local/lib/python3.10/dist-packages/sklearn/linear_model/_ridge.py:216: LinAlgWarning: Ill-conditioned matrix (rcond=2.71845e-09): result may not be accurate.\n",
            "  return linalg.solve(A, Xy, assume_a=\"pos\", overwrite_a=True).T\n",
            "/usr/local/lib/python3.10/dist-packages/sklearn/linear_model/_ridge.py:216: LinAlgWarning: Ill-conditioned matrix (rcond=3.55918e-09): result may not be accurate.\n",
            "  return linalg.solve(A, Xy, assume_a=\"pos\", overwrite_a=True).T\n",
            "/usr/local/lib/python3.10/dist-packages/sklearn/linear_model/_ridge.py:216: LinAlgWarning: Ill-conditioned matrix (rcond=3.16992e-09): result may not be accurate.\n",
            "  return linalg.solve(A, Xy, assume_a=\"pos\", overwrite_a=True).T\n",
            "/usr/local/lib/python3.10/dist-packages/sklearn/linear_model/_ridge.py:216: LinAlgWarning: Ill-conditioned matrix (rcond=6.96767e-09): result may not be accurate.\n",
            "  return linalg.solve(A, Xy, assume_a=\"pos\", overwrite_a=True).T\n",
            "/usr/local/lib/python3.10/dist-packages/sklearn/linear_model/_ridge.py:216: LinAlgWarning: Ill-conditioned matrix (rcond=7.3319e-09): result may not be accurate.\n",
            "  return linalg.solve(A, Xy, assume_a=\"pos\", overwrite_a=True).T\n"
          ]
        },
        {
          "output_type": "stream",
          "name": "stdout",
          "text": [
            "{'r2_validation': array([0.90657252]), 'i_best': 0, 'alpha_best': 0.0, 'r2_test': 0.9157426188659299}\n"
          ]
        }
      ]
    },
    {
      "cell_type": "markdown",
      "source": [
        "### **Getting the results for 20 features (Lasso)**"
      ],
      "metadata": {
        "id": "LbMFHrQtZ8eS"
      },
      "id": "LbMFHrQtZ8eS"
    },
    {
      "cell_type": "code",
      "source": [
        "X_20_Lasso, feature_coef = apply_lasso(X_normalized, y_normalized, 20)\n",
        "alpha_values_20_Lasso =np.logspace(1, 4, 50)"
      ],
      "metadata": {
        "id": "lxGitrO-ge60"
      },
      "id": "lxGitrO-ge60",
      "execution_count": null,
      "outputs": []
    },
    {
      "cell_type": "code",
      "source": [
        "# Degree 1\n",
        "results_20_linear_Lasso = poly_ridge(degree=1, X=X_20_Lasso, y=y_normalized, alpha_values=alpha_values_20_PCA, n_splits_cv=5, test_size=0.25)\n",
        "print(results_20_linear_Lasso)"
      ],
      "metadata": {
        "id": "ckIuFlpxgke-",
        "outputId": "369ac9db-13c1-4586-bc22-c2c8b2aa186c",
        "colab": {
          "base_uri": "https://localhost:8080/"
        }
      },
      "id": "ckIuFlpxgke-",
      "execution_count": null,
      "outputs": [
        {
          "output_type": "stream",
          "name": "stdout",
          "text": [
            "{'r2_validation': array([0.91860329, 0.91860407, 0.91860496, 0.91860597, 0.9186071 ,\n",
            "       0.91860837, 0.91860977, 0.91861136, 0.91861304, 0.91861491,\n",
            "       0.91861693, 0.91861907, 0.91862133, 0.91862361, 0.91862585,\n",
            "       0.91862798, 0.91862978, 0.91863115, 0.91863176, 0.91863128,\n",
            "       0.91862924, 0.91862515, 0.91861827, 0.91860777, 0.91859263,\n",
            "       0.91857163, 0.91854334, 0.91850607, 0.9184579 , 0.91839666,\n",
            "       0.91831992, 0.91822499, 0.91810887, 0.91796842, 0.91780025,\n",
            "       0.91760083, 0.91736649, 0.91709357, 0.91677841, 0.91641753,\n",
            "       0.91600765, 0.91554583, 0.91502957, 0.91445687, 0.91382618,\n",
            "       0.91313649, 0.91238724, 0.91157813, 0.91070903, 0.90977962]), 'i_best': 18, 'alpha_best': 126.48552168552958, 'r2_test': 0.9145524410167245}\n"
          ]
        }
      ]
    },
    {
      "cell_type": "code",
      "source": [
        "# Degree 2\n",
        "results_20_second_Lasso = poly_ridge(degree=2, X=X_20_Lasso, y=y_normalized, alpha_values=alpha_values_20_Lasso, n_splits_cv=5, test_size=0.25)\n",
        "print(results_20_second_Lasso)"
      ],
      "metadata": {
        "id": "UkkfVVihgp6F",
        "outputId": "285ed14c-c0e4-4280-fe1e-7f85585c3465",
        "colab": {
          "base_uri": "https://localhost:8080/"
        }
      },
      "id": "UkkfVVihgp6F",
      "execution_count": null,
      "outputs": [
        {
          "output_type": "stream",
          "name": "stdout",
          "text": [
            "{'r2_validation': array([0.93223144, 0.93224382, 0.93225816, 0.9322729 , 0.93228927,\n",
            "       0.93230659, 0.93232473, 0.93234408, 0.9323645 , 0.9323866 ,\n",
            "       0.93240909, 0.93243305, 0.93245783, 0.93248364, 0.93250996,\n",
            "       0.93253688, 0.93256407, 0.9325911 , 0.93261798, 0.93264341,\n",
            "       0.9326672 , 0.93268864, 0.93270656, 0.93271981, 0.93272709,\n",
            "       0.93272679, 0.93271701, 0.93269591, 0.93266103, 0.93260996,\n",
            "       0.93254004, 0.93244841, 0.93233177, 0.9321873 , 0.93201187,\n",
            "       0.93180241, 0.9315561 , 0.93127026, 0.93094266, 0.9305715 ,\n",
            "       0.93015519, 0.92969284, 0.92918387, 0.92862806, 0.92802537,\n",
            "       0.92737589, 0.92667953, 0.92593582, 0.92514361, 0.92430085]), 'i_best': 24, 'alpha_best': 294.705170255181, 'r2_test': 0.931259888433686}\n"
          ]
        }
      ]
    },
    {
      "cell_type": "code",
      "source": [
        "# Degree 3\n",
        "results_20_third_Lasso = poly_ridge(degree=3, X=X_20_Lasso, y=y_normalized, alpha_values=alpha_values_20_Lasso, n_splits_cv=5, test_size=0.25)"
      ],
      "metadata": {
        "id": "pTE-K5eZhZyq"
      },
      "id": "pTE-K5eZhZyq",
      "execution_count": null,
      "outputs": []
    },
    {
      "cell_type": "code",
      "source": [
        "print(results_20_third_Lasso)"
      ],
      "metadata": {
        "colab": {
          "base_uri": "https://localhost:8080/"
        },
        "id": "ljLY8vNNLTDC",
        "outputId": "20fc36b4-4636-4ece-ff2a-025670bcfe2c"
      },
      "id": "ljLY8vNNLTDC",
      "execution_count": null,
      "outputs": [
        {
          "output_type": "stream",
          "name": "stdout",
          "text": [
            "{'r2_validation': array([0.92769869, 0.927797  , 0.92794962, 0.92808289, 0.92820061,\n",
            "       0.92837522, 0.92853978, 0.92870233, 0.92893063, 0.92912143,\n",
            "       0.92935058, 0.92954399, 0.92978529, 0.93003899, 0.93029245,\n",
            "       0.93053596, 0.93078587, 0.93103646, 0.93130015, 0.93156748,\n",
            "       0.9318173 , 0.93206561, 0.93231418, 0.93254862, 0.93277666,\n",
            "       0.93299327, 0.93319922, 0.93339095, 0.93357069, 0.9337352 ,\n",
            "       0.93388622, 0.93401745, 0.93413363, 0.93423072, 0.93430757,\n",
            "       0.93436338, 0.93439388, 0.93439835, 0.93437275, 0.93431348,\n",
            "       0.93421582, 0.93407474, 0.9338843 , 0.9336374 , 0.93332712,\n",
            "       0.93294544, 0.93248367, 0.93193257, 0.93128258, 0.93052423]), 'i_best': 37, 'alpha_best': 1842.0699693267163, 'r2_test': 0.9361853192041228}\n"
          ]
        }
      ]
    },
    {
      "cell_type": "markdown",
      "source": [
        "## **Figures Plotting**"
      ],
      "metadata": {
        "id": "0mSPZOGWWAx8"
      },
      "id": "0mSPZOGWWAx8"
    },
    {
      "cell_type": "markdown",
      "source": [
        "### **Plot_2d function**"
      ],
      "metadata": {
        "id": "LO2UTuX2X_jL"
      },
      "id": "LO2UTuX2X_jL"
    },
    {
      "cell_type": "code",
      "source": [
        "import matplotlib.pyplot as plt\n",
        "import numpy as np\n",
        "\n",
        "def plot_3d(models, alpha_values, r2_validation_arrays):\n",
        "    \"\"\"\n",
        "    Plots a 3D of ridge curves of different models .\n",
        "\n",
        "    Parameters:\n",
        "    models (list): A list of models for the X-axis.\n",
        "    alpha_values (array): An array of alpha values for the Y-axis.\n",
        "    r2_validation_arrays (list of arrays): A list of r2_validation for the Z-axis, each corresponding to a model.\n",
        "    \"\"\"\n",
        "    X, Y = np.meshgrid(range(1, len(models) + 1), alpha_values)\n",
        "\n",
        "    fig = plt.figure()\n",
        "    ax = fig.add_subplot(111, projection='3d')\n",
        "\n",
        "    # Set the positions for the labels to be closer\n",
        "    label_positions = np.linspace(1, 1.2, len(labels))\n",
        "    for i, (label, z) in enumerate(zip(models, r2_validation_arrays)):\n",
        "        X = np.full_like(z, label_positions[i])  # Adjusting label positions\n",
        "        Y = alpha_values\n",
        "        ax.scatter(X, np.log10(Y), z, label=models)  # Apply log scale transformation\n",
        "\n",
        "    ax.set_xlabel('Models')\n",
        "    ax.set_ylabel('Alpha Values')\n",
        "    ax.set_zlabel('R2 validation')\n",
        "    ax.set_title('Ridge regression with several models')\n",
        "    ax.set_xticks(label_positions)\n",
        "    ax.set_xticklabels(models)\n",
        "    # Set the y ticks to represent the log scale\n",
        "    y_ticks = np.logspace(np.log10(alpha_values.min()), np.log10(alpha_values.max()), num=5)\n",
        "    ax.set_yticks(np.log10(y_ticks))\n",
        "    ax.set_yticklabels(y_ticks)\n",
        "    plt.show()\n"
      ],
      "metadata": {
        "id": "QFuFVVxvWHNe"
      },
      "id": "QFuFVVxvWHNe",
      "execution_count": null,
      "outputs": []
    },
    {
      "cell_type": "code",
      "source": [
        "import matplotlib.pyplot as plt\n",
        "import numpy as np\n",
        "\n",
        "def plot_2d(models, alpha_values, r2_validation_arrays):\n",
        "    \"\"\"\n",
        "    Plots a 2D of ridge curves of different models .\n",
        "\n",
        "    Parameters:\n",
        "    models (list): A list of models for the X-axis.\n",
        "    alpha_values (array): An array of alpha values for the Y-axis.\n",
        "    r2_validation_arrays (list of arrays): A list of r2_validation for the Z-axis, each corresponding to a model.\n",
        "    \"\"\"\n",
        "    # Set up the plot\n",
        "    fig, ax = plt.subplots()\n",
        "\n",
        "    # Plot each set of data\n",
        "    for i,z in enumerate(r2_validation_arrays):\n",
        "        ax.plot(alpha_values, z, label=f\"{models[i]}\")\n",
        "\n",
        "    ax.set_xscale('log')\n",
        "    ax.set_xlabel('Alpha values')\n",
        "    ax.set_ylabel('R2 validation')\n",
        "    ax.set_title('Ridge regression with several models')\n",
        "    ax.legend(loc='center left', bbox_to_anchor=(1, 0.5), shadow=True, ncol=2)\n",
        "\n",
        "    plt.show()"
      ],
      "metadata": {
        "id": "J7pkhQ2QazTw"
      },
      "id": "J7pkhQ2QazTw",
      "execution_count": null,
      "outputs": []
    },
    {
      "cell_type": "markdown",
      "source": [
        "### **40 features figures**"
      ],
      "metadata": {
        "id": "bVOiwiHfVSdb"
      },
      "id": "bVOiwiHfVSdb"
    },
    {
      "cell_type": "code",
      "source": [
        "# 2D plot\n",
        "models = ['1st', '2nd']\n",
        "alpha_values = alpha_values_40\n",
        "z_1st = results_40_linear['r2_validation']\n",
        "z_2nd = results_40_second['r2_validation']\n",
        "plot_2d(models, alpha_values, [z_1st, z_2nd])"
      ],
      "metadata": {
        "colab": {
          "base_uri": "https://localhost:8080/",
          "height": 476
        },
        "id": "KELaZNcHUWIN",
        "outputId": "9420c74a-31e0-4c1c-c135-282e7a60d6df"
      },
      "id": "KELaZNcHUWIN",
      "execution_count": null,
      "outputs": [
        {
          "output_type": "display_data",
          "data": {
            "text/plain": [
              "<Figure size 640x480 with 1 Axes>"
            ],
            "image/png": "[encoded data removed]"
          },
          "metadata": {}
        }
      ]
    },
    {
      "cell_type": "markdown",
      "source": [
        "### **20 features figures**: Dimensionality Reduction Impact (PCA and Lasso)"
      ],
      "metadata": {
        "id": "MNEnrQm7c_cb"
      },
      "id": "MNEnrQm7c_cb"
    },
    {
      "cell_type": "code",
      "source": [
        "# 2D plot for 20 features using PCA\n",
        "models = ['PCA_1st', 'PCA_2nd','PCA_3rd', 'Lasso_1st', 'Lasso_2nd','Lasso_3rd']\n",
        "alpha_values = alpha_values_20_PCA\n",
        "z_1st_PCA = results_20_linear_PCA['r2_validation']\n",
        "z_2nd_PCA = results_20_second_PCA['r2_validation']\n",
        "z_3rd_PCA = results_20_third_PCA['r2_validation']\n",
        "z_1st_Lasso = results_20_linear_Lasso['r2_validation']\n",
        "z_2nd_Lasso = results_20_second_Lasso['r2_validation']\n",
        "z_3rd_Lasso = results_20_third_Lasso['r2_validation']\n",
        "plot_2d(models, alpha_values, [z_1st_PCA, z_2nd_PCA, z_3rd_PCA, z_1st_Lasso, z_2nd_Lasso, z_3rd_Lasso])"
      ],
      "metadata": {
        "colab": {
          "base_uri": "https://localhost:8080/",
          "height": 476
        },
        "id": "E-2bj7o8dG24",
        "outputId": "2a1f154a-4727-41db-9ba5-41a6c104d3d0"
      },
      "id": "E-2bj7o8dG24",
      "execution_count": null,
      "outputs": [
        {
          "output_type": "display_data",
          "data": {
            "text/plain": [
              "<Figure size 640x480 with 1 Axes>"
            ],
            "image/png": "[encoded data removed]"
          },
          "metadata": {}
        }
      ]
    },
    {
      "cell_type": "markdown",
      "source": [
        "### **Heat Map**\n"
      ],
      "metadata": {
        "id": "84W_HMd5aCNR"
      },
      "id": "84W_HMd5aCNR"
    },
    {
      "cell_type": "code",
      "source": [
        "import seaborn as sns\n",
        "# Let's assume we have 3 polynomial degrees and 2 methods (40 dimensions and 20 dimensions PCA)\n",
        "poly_degrees = [1, 2, 3]\n",
        "methods = ['40_dims', '20_dims_PCA']\n",
        "models = ['Model_A', 'Model_B', 'Model_C']\n",
        "\n",
        "# Generating some random R² scores for illustration purposes\n",
        "data = np.random.rand(len(poly_degrees), len(methods), len(models))\n",
        "\n",
        "# Creating a DataFrame for the heatmap\n",
        "df = pd.DataFrame(data.reshape((len(poly_degrees)*len(methods), len(models))),\n",
        "                  index=pd.MultiIndex.from_product([poly_degrees, methods], names=['Degree', 'Method']),\n",
        "                  columns=models)\n",
        "\n",
        "# Plotting the heatmap\n",
        "plt.figure(figsize=(10, 6))\n",
        "sns.heatmap(df, annot=True, cmap='coolwarm')\n",
        "plt.title('R² Scores of Models by Polynomial Degree and Method')\n",
        "plt.ylabel('Poly Degree, Dimension Reduction Method')\n",
        "plt.show()"
      ],
      "metadata": {
        "id": "NElmVh-taBj8"
      },
      "id": "NElmVh-taBj8",
      "execution_count": null,
      "outputs": []
    },
    {
      "cell_type": "markdown",
      "source": [
        "### **Plot R2 test of all the models**"
      ],
      "metadata": {
        "id": "ZTugp4EffzvY"
      },
      "id": "ZTugp4EffzvY"
    },
    {
      "cell_type": "code",
      "source": [
        "# Set up the plot\n",
        "models = ['4O_1st', '40_2nd', 'PCA_1st', 'PCA_2nd','PCA_3rd', 'Lasso_1st', 'Lasso_2nd','Lasso_3rd']\n",
        "r2_tests = [\n",
        "    results_40_linear['r2_test'], results_40_second['r2_test'],\n",
        "    results_20_linear_PCA['r2_test'], results_20_second_PCA['r2_test'],\n",
        "    results_20_third_PCA['r2_test'], results_20_linear_Lasso['r2_test'],\n",
        "    results_20_second_Lasso['r2_test'], results_20_third_Lasso['r2_test']\n",
        "]\n",
        "fig, ax = plt.subplots(figsize = (10,4))\n",
        "ax.scatter(models, r2_tests)\n",
        "ax.set_xlabel('Alpha values')\n",
        "ax.set_ylabel('R2 validation')\n",
        "ax.set_title('Ridge regression with several models')"
      ],
      "metadata": {
        "colab": {
          "base_uri": "https://localhost:8080/",
          "height": 427
        },
        "id": "6U52HfuXf5oi",
        "outputId": "a8217fa2-4efe-4d60-ea6d-1f4badab5afc"
      },
      "id": "6U52HfuXf5oi",
      "execution_count": null,
      "outputs": [
        {
          "output_type": "execute_result",
          "data": {
            "text/plain": [
              "Text(0.5, 1.0, 'Ridge regression with several models')"
            ]
          },
          "metadata": {},
          "execution_count": 125
        },
        {
          "output_type": "display_data",
          "data": {
            "text/plain": [
              "<Figure size 1000x400 with 1 Axes>"
            ],
            "image/png": "[encoded data removed]"
          },
          "metadata": {}
        }
      ]
    },
    {
      "cell_type": "markdown",
      "source": [
        "### **The determination of the range of alpha**\n",
        "We tested several ranges of alpha_values and np.logspace(1, 3, 50) is the best choice where the best values of all models of 40 features and 20 features rely on this range"
      ],
      "metadata": {
        "id": "RuHUnfxNtmw7"
      },
      "id": "RuHUnfxNtmw7"
    },
    {
      "cell_type": "markdown",
      "source": [
        "## **Discussion and Conclusion**"
      ],
      "metadata": {
        "id": "CDBwnSFoXPln"
      },
      "id": "CDBwnSFoXPln"
    },
    {
      "cell_type": "markdown",
      "id": "ad79471d",
      "metadata": {
        "id": "ad79471d"
      },
      "source": [
        "***\n",
        "## Credit\n",
        "\n",
        "[//]: # \"This notebook is part of [E4C Interdisciplinary Center - Education](https://gitlab.in2p3.fr/energy4climate/public/education).\"\n",
        "Contributors include Bruno Deremble and Alexis Tantet.\n",
        "Several slides and images are taken from the very good [Scikit-learn course](https://inria.github.io/scikit-learn-mooc/).\n",
        "\n",
        "<br>\n",
        "\n",
        "<div style=\"display: flex; height: 70px\">\n",
        "    \n",
        "<img alt=\"Logo LMD\" src=\"https://github.com/VTNay/MEC557-Project/blob/main/images/logos/logo_lmd.jpg?raw=1\" style=\"display: inline-block\"/>\n",
        "\n",
        "<img alt=\"Logo IPSL\" src=\"https://github.com/VTNay/MEC557-Project/blob/main/images/logos/logo_ipsl.png?raw=1\" style=\"display: inline-block\"/>\n",
        "\n",
        "<img alt=\"Logo E4C\" src=\"https://github.com/VTNay/MEC557-Project/blob/main/images/logos/logo_e4c_final.png?raw=1\" style=\"display: inline-block\"/>\n",
        "\n",
        "<img alt=\"Logo EP\" src=\"https://github.com/VTNay/MEC557-Project/blob/main/images/logos/logo_ep.png?raw=1\" style=\"display: inline-block\"/>\n",
        "\n",
        "<img alt=\"Logo SU\" src=\"https://github.com/VTNay/MEC557-Project/blob/main/images/logos/logo_su.png?raw=1\" style=\"display: inline-block\"/>\n",
        "\n",
        "<img alt=\"Logo ENS\" src=\"https://github.com/VTNay/MEC557-Project/blob/main/images/logos/logo_ens.jpg?raw=1\" style=\"display: inline-block\"/>\n",
        "\n",
        "<img alt=\"Logo CNRS\" src=\"https://github.com/VTNay/MEC557-Project/blob/main/images/logos/logo_cnrs.png?raw=1\" style=\"display: inline-block\"/>\n",
        "    \n",
        "</div>\n",
        "\n",
        "<hr>\n",
        "\n",
        "<div style=\"display: flex\">\n",
        "    <a rel=\"license\" href=\"http://creativecommons.org/licenses/by-sa/4.0/\"><img alt=\"Creative Commons License\" style=\"border-width:0; margin-right: 10px\" src=\"https://i.creativecommons.org/l/by-sa/4.0/88x31.png\" /></a>\n",
        "    <br>This work is licensed under a &nbsp; <a rel=\"license\" href=\"http://creativecommons.org/licenses/by-sa/4.0/\">Creative Commons Attribution-ShareAlike 4.0 International License</a>.\n",
        "</div>"
      ]
    }
  ],
  "metadata": {
    "kernelspec": {
      "display_name": "Python 3",
      "language": "python",
      "name": "python3"
    },
    "language_info": {
      "codemirror_mode": {
        "name": "ipython",
        "version": 3
      },
      "file_extension": ".py",
      "mimetype": "text/x-python",
      "name": "python",
      "nbconvert_exporter": "python",
      "pygments_lexer": "ipython3",
      "version": "3.9.12"
    },
    "latex_envs": {
      "LaTeX_envs_menu_present": true,
      "autoclose": true,
      "autocomplete": false,
      "bibliofile": "biblio.bib",
      "cite_by": "apalike",
      "current_citInitial": 1,
      "eqLabelWithNumbers": true,
      "eqNumInitial": 1,
      "hotkeys": {
        "equation": "Ctrl-E",
        "itemize": "Ctrl-I"
      },
      "labels_anchors": false,
      "latex_user_defs": false,
      "report_style_numbering": false,
      "user_envs_cfg": false
    },
    "toc": {
      "base_numbering": 1,
      "nav_menu": {},
      "number_sections": true,
      "sideBar": true,
      "skip_h1_title": false,
      "title_cell": "Table of Contents",
      "title_sidebar": "Contents",
      "toc_cell": false,
      "toc_position": {},
      "toc_section_display": true,
      "toc_window_display": false
    },
    "varInspector": {
      "cols": {
        "lenName": 16,
        "lenType": 16,
        "lenVar": 40
      },
      "kernels_config": {
        "python": {
          "delete_cmd_postfix": "",
          "delete_cmd_prefix": "del ",
          "library": "var_list.py",
          "varRefreshCmd": "print(var_dic_list())"
        },
        "r": {
          "delete_cmd_postfix": ") ",
          "delete_cmd_prefix": "rm(",
          "library": "var_list.r",
          "varRefreshCmd": "cat(var_dic_list()) "
        }
      },
      "types_to_exclude": [
        "module",
        "function",
        "builtin_function_or_method",
        "instance",
        "_Feature"
      ],
      "window_display": false
    },
    "colab": {
      "provenance": [],
      "machine_shape": "hm",
      "include_colab_link": true
    }
  },
  "nbformat": 4,
  "nbformat_minor": 5
}