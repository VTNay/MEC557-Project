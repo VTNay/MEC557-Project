{
  "cells": [
    {
      "cell_type": "markdown",
      "metadata": {
        "id": "view-in-github",
        "colab_type": "text"
      },
      "source": [
        "<a href=\"https://colab.research.google.com/github/VTNay/MEC557-Project/blob/Zhichuan-MA/MEC557_Weather.ipynb\" target=\"_parent\"><img src=\"https://colab.research.google.com/assets/colab-badge.svg\" alt=\"Open In Colab\"/></a>"
      ]
    },
    {
      "cell_type": "markdown",
      "id": "f1ae401f",
      "metadata": {
        "id": "f1ae401f"
      },
      "source": [
        "# Projects\n",
        "\n",
        "[![Binder](https://mybinder.org/badge_logo.svg)](https://mybinder.org/v2/git/https%3A%2F%2Fgitlab.in2p3.fr%2Fenergy4climate%2Fpublic%2Feducation%2Fmachine_learning_for_climate_and_energy/master?filepath=book%2Fnotebooks%2Fprojects.ipynb)"
      ]
    },
    {
      "cell_type": "code",
      "source": [
        "from google.colab import drive\n",
        "drive.mount('/content/drive')"
      ],
      "metadata": {
        "colab": {
          "base_uri": "https://localhost:8080/"
        },
        "id": "EfvEaXMCKKvc",
        "outputId": "984f10c2-4b81-478a-f77c-a0c7ca354b66"
      },
      "id": "EfvEaXMCKKvc",
      "execution_count": 5,
      "outputs": [
        {
          "output_type": "stream",
          "name": "stdout",
          "text": [
            "Drive already mounted at /content/drive; to attempt to forcibly remount, call drive.mount(\"/content/drive\", force_remount=True).\n"
          ]
        }
      ]
    },
    {
      "cell_type": "markdown",
      "id": "03d41164",
      "metadata": {
        "id": "03d41164"
      },
      "source": [
        "<div class=\"alert alert-block alert-warning\">\n",
        "    <b>Schedule</b>\n",
        "    \n",
        "- Ask your supervisors for the data if not already provided (it is not included in this repository).\n",
        "- Quick presentation.\n",
        "- Final project presentation.\n",
        "    \n",
        "</div>"
      ]
    },
    {
      "cell_type": "markdown",
      "id": "01b8a8b3",
      "metadata": {
        "id": "01b8a8b3"
      },
      "source": [
        "<div class=\"alert alert-block alert-info\">\n",
        "    <b>One problematic, One dataset, One (or more) method(s)</b>\n",
        "    \n",
        "- Quality of the dataset is key.\n",
        "- Results on a clean notebook.\n",
        "- Explain which method(s) you used and why.\n",
        "- If a method fails, explain why.\n",
        "\n",
        "</div>"
      ]
    },
    {
      "cell_type": "markdown",
      "id": "b309f16e",
      "metadata": {
        "id": "b309f16e"
      },
      "source": [
        "## Project: Weather station"
      ]
    },
    {
      "cell_type": "markdown",
      "id": "912d896e",
      "metadata": {
        "id": "912d896e"
      },
      "source": [
        "<img alt=\"weather\" src=\"https://github.com/VTNay/MEC557-Project/blob/main/images/map.png?raw=1\" width=400>"
      ]
    },
    {
      "cell_type": "markdown",
      "id": "2372e364",
      "metadata": {
        "id": "2372e364"
      },
      "source": [
        "- Suppose there are 5 weather stations that monitor the weather: Paris, Brest, London, Marseille and Berlin.\n",
        "- The weather station in Paris breaks down\n",
        "- Can we use the other stations to infer the weather in Paris"
      ]
    },
    {
      "cell_type": "markdown",
      "id": "66ae5a0d",
      "metadata": {
        "id": "66ae5a0d"
      },
      "source": [
        "### Data set\n",
        "\n",
        "<img alt=\"weather\" src=\"https://github.com/VTNay/MEC557-Project/blob/main/images/annual_temperature.png?raw=1\" width=400>\n",
        "\n",
        "- Surface variables: skt, u10, v10, t2m, d2m, tcc, sp, tp, ssrd, blh\n",
        "- Temporal resolution: hourly\n",
        "- Spatial resolution: N/A"
      ]
    },
    {
      "cell_type": "markdown",
      "id": "73ad9743",
      "metadata": {
        "id": "73ad9743"
      },
      "source": [
        "### First steps\n",
        "\n",
        "- Look at the correlations between variables.\n",
        "- What variable do I want to predict\n",
        "- What time scale am interested in?\n",
        "- Start with the easy predictions and move on to harder ones\n",
        "- Are there events that are more predictable than others?"
      ]
    },
    {
      "cell_type": "code",
      "execution_count": 3,
      "id": "da094902",
      "metadata": {
        "id": "da094902"
      },
      "outputs": [],
      "source": [
        "from pathlib import Path\n",
        "import numpy as np\n",
        "import pandas as pd\n",
        "import xarray as xr\n",
        "from functools import reduce\n",
        "from matplotlib import pyplot as plt\n",
        "from sklearn import preprocessing\n",
        "\n",
        "paris_path = Path('/content/drive/My Drive/PHY557_Project/weather/paris')\n",
        "brest_path = Path('/content/drive/My Drive/PHY557_Project/weather/brest')\n",
        "london_path = Path('/content/drive/My Drive/PHY557_Project/weather/london')\n",
        "marseille_path = Path('/content/drive/My Drive/PHY557_Project/weather/marseille')\n",
        "berlin_path = Path('/content/drive/My Drive/PHY557_Project/weather/berlin')\n",
        "\n",
        "file_path = {'t2m': 't2m.nc', 'blh': 'blh.nc', 'd2m': 'd2m.nc', 'skt': 'skt.nc', 'sp': 'sp.nc', 'ssrd': 'ssrd.nc', 'tcc': 'tcc.nc', 'tp': 'tp.nc', 'u10': 'u10.nc', 'v10': 'v10.nc'}\n",
        "City_path = {'Paris': paris_path, 'Brest': brest_path, 'London': london_path, 'Marseille': marseille_path, 'Berlin': berlin_path}\n",
        "\n",
        "Weather_stations = {'Paris': [], 'Brest': [], 'London': [], 'Marseille': [], 'Berlin': []}\n",
        "for i in Weather_stations:\n",
        "  Weather_stations[i] = {'t2m': [], 'blh': [], 'd2m': [], 'skt': [], 'sp': [], 'ssrd': [], 'tcc': [], 'tp': [], 'u10': [], 'v10': []}\n",
        "\n",
        "for city in Weather_stations:\n",
        "  for i in Weather_stations[city]:\n",
        "    temp = xr.open_dataset(Path(City_path[city], file_path[i]))\n",
        "    temp = temp.to_dataframe()\n",
        "    if i == 'd2m' or i == 'blh':\n",
        "      temp = temp.droplevel([1,2])\n",
        "    else:\n",
        "      temp = temp.droplevel([0,1])\n",
        "    Weather_stations[city][i] = temp\n",
        "  #merge them into 1 dataframe\n",
        "  Weather_stations[city] = reduce(lambda left, right: pd.merge(left, right, left_index=True, right_index=True, how='outer'), Weather_stations[city].values())"
      ]
    },
    {
      "cell_type": "code",
      "source": [
        "Berlin = Weather_stations['Berlin']\n",
        "Brest =  Weather_stations['Brest']\n",
        "London = Weather_stations['London']\n",
        "Paris = Weather_stations['Paris']\n",
        "Marseille = Weather_stations['Marseille']\n",
        "Paris = Paris[Paris.index < '2020-01-01 07:00:00'] #All dataframe has the same number of rows"
      ],
      "metadata": {
        "id": "u-fkGxxJw0WX"
      },
      "id": "u-fkGxxJw0WX",
      "execution_count": 4,
      "outputs": []
    },
    {
      "cell_type": "code",
      "source": [
        "# Function to rename columns\n",
        "def rename_columns(df, prefix):\n",
        "    return df.rename(columns={col: f\"{prefix}_{col}\" for col in df.columns})\n",
        "# Rename columns of each DataFrame so that the feature in X will be 'Berlin_t2m', 'Berlin_u10', 'London_t2m',...\n",
        "Berlin = rename_columns(Berlin, 'Berlin')\n",
        "Brest = rename_columns(Brest, 'Brest')\n",
        "London = rename_columns(London, 'London')\n",
        "Marseille = rename_columns(Marseille, 'Marseille')"
      ],
      "metadata": {
        "id": "KG4hH1ZCztTf"
      },
      "id": "KG4hH1ZCztTf",
      "execution_count": 5,
      "outputs": []
    },
    {
      "cell_type": "code",
      "source": [
        "#Data cleaning\n",
        "# Concatenate X = Berlin, Brest, London, Marseille and y = Paris\n",
        "combined = pd.concat([Berlin, Brest, London, Marseille, Paris], axis=1)\n",
        "# Drop NA values\n",
        "combined = combined.dropna()\n",
        "# Split them back into X and y\n",
        "X = combined.iloc[:, :-10]  # X has 40 features\n",
        "y = combined.loc[:,'t2m']  # y is the temperature in Paris\n",
        "# Normalize X and y\n",
        "X = (X - X.mean())/ X.std()\n",
        "y = (y - y.mean())/y.std()\n",
        "# Number of years\n",
        "n_years = y.index.year.max() - y.index.year.min() + 1\n",
        "n_years"
      ],
      "metadata": {
        "id": "3mheGo1gm0T3",
        "colab": {
          "base_uri": "https://localhost:8080/"
        },
        "outputId": "ba18b68d-2644-46f8-d6e7-c0ca132f4a78"
      },
      "id": "3mheGo1gm0T3",
      "execution_count": 6,
      "outputs": [
        {
          "output_type": "execute_result",
          "data": {
            "text/plain": [
              "40"
            ]
          },
          "metadata": {},
          "execution_count": 6
        }
      ]
    },
    {
      "cell_type": "markdown",
      "source": [
        "**Linear Regression**"
      ],
      "metadata": {
        "id": "AIvkLpQTPrpg"
      },
      "id": "AIvkLpQTPrpg"
    },
    {
      "cell_type": "code",
      "source": [
        "#Linear Regression for Paris_t2m with 40 features - the most naive approach\n",
        "# Import scikit-learn cross-validation function\n",
        "from sklearn.model_selection import KFold\n",
        "from sklearn.linear_model import LinearRegression\n",
        "\n",
        "# Call the Linear regressor\n",
        "lin = LinearRegression(fit_intercept= True)\n",
        "\n",
        "# Set number of splits for cross-validation - two years for each fold\n",
        "n_splits =  5 # We have 40 years in total\n",
        "\n",
        "# Initialize KFold\n",
        "kf = KFold(n_splits=n_splits)\n",
        "\n",
        "# Arrays to store scores\n",
        "train_scores = []\n",
        "test_scores = []\n",
        "\n",
        "for train_index, test_index in kf.split(X):\n",
        "    # Split data\n",
        "    X_train, X_test = X.iloc[train_index], X.iloc[test_index]\n",
        "    y_train, y_test = y.iloc[train_index], y.iloc[test_index]\n",
        "    # Fit model\n",
        "    lin.fit(X_train, y_train)\n",
        "\n",
        "    # Calculate R2 scores\n",
        "    train_score = lin.score(X_train,y_train)\n",
        "    test_score = lin.score(X_test, y_test)\n",
        "\n",
        "    # Append scores\n",
        "    train_scores.append(train_score)\n",
        "    test_scores.append(test_score)\n",
        "\n",
        "# Average R2 scores\n",
        "avg_train_score = np.mean(train_scores)\n",
        "avg_test_score = np.mean(test_scores)\n",
        "\n",
        "print(f\"Average R2 Score on Training Data: {avg_train_score}\")\n",
        "print(f\"Average R2 Score on Test Data: {avg_test_score}\")"
      ],
      "metadata": {
        "colab": {
          "base_uri": "https://localhost:8080/"
        },
        "id": "eyZlJNIUn5kO",
        "outputId": "d6375de3-03b0-4bbd-82c6-cb5dfd51a2f2"
      },
      "id": "eyZlJNIUn5kO",
      "execution_count": 11,
      "outputs": [
        {
          "output_type": "stream",
          "name": "stdout",
          "text": [
            "Average R2 Score on Training Data: 0.9200513350325068\n",
            "Average R2 Score on Test Data: 0.9186634741470734\n"
          ]
        }
      ]
    },
    {
      "cell_type": "code",
      "source": [
        "print(train_scores)\n",
        "print(test_scores)"
      ],
      "metadata": {
        "colab": {
          "base_uri": "https://localhost:8080/"
        },
        "id": "XCSSQ_aP4hfl",
        "outputId": "1b6e39dd-c1d3-40ac-f9f6-0c41caf2485b"
      },
      "id": "XCSSQ_aP4hfl",
      "execution_count": 14,
      "outputs": [
        {
          "output_type": "stream",
          "name": "stdout",
          "text": [
            "[0.9198486876493486, 0.9188214761896142, 0.9178602077092777, 0.9176493506876868, 0.918499463790419, 0.9179180488439371, 0.919080390182121, 0.9189726057188424, 0.9180340834826594, 0.9194526811863191, 0.9184622738809267, 0.9185124400394105, 0.9179038864820389, 0.9192813686602402, 0.9198251418179941, 0.9180635631600276, 0.9182464896549094, 0.9202058915808532, 0.9187081926612906, 0.9181233474367902]\n",
            "[0.9175151788817428, 0.9234829408018151, 0.9200951467737861, 0.9255727899882688, 0.9094859222255984, 0.9213207757623217, 0.9019652176702051, 0.9224818114204798, 0.9223600195563009, 0.9191451558988425, 0.9179946581120765, 0.9157546998951059, 0.9254638215228671, 0.9177952723482219, 0.9199182745272847, 0.9168322757214983, 0.915795333064074, 0.8962361352973999, 0.9115256899498636, 0.9195623356667784]\n"
          ]
        }
      ]
    },
    {
      "cell_type": "markdown",
      "source": [
        "**2nd Degree Polynomial Regression**"
      ],
      "metadata": {
        "id": "7fnVe_oZ5Y9u"
      },
      "id": "7fnVe_oZ5Y9u"
    },
    {
      "cell_type": "code",
      "source": [
        "from inspect import modulesbyfile\n",
        "#Linear Regression for Paris_t2m with 40 features - the most naive approach\n",
        "from sklearn.preprocessing import PolynomialFeatures\n",
        "from sklearn.pipeline import make_pipeline\n",
        "\n",
        "# Transform data to include polynomial features\n",
        "degree = 2\n",
        "polynomial_features = PolynomialFeatures(degree=degree, include_bias=True)\n",
        "linear_regression = LinearRegression()\n",
        "\n",
        "# Create a pipeline that includes both polynomial expansion and linear regression\n",
        "model = make_pipeline(polynomial_features, linear_regression)"
      ],
      "metadata": {
        "id": "2fVEpl6s5hDM"
      },
      "id": "2fVEpl6s5hDM",
      "execution_count": 36,
      "outputs": []
    },
    {
      "cell_type": "code",
      "source": [
        "# Set number of splits for cross-validation - two years for each fold\n",
        "n_splits = 5 # We have 40 years in total\n",
        "\n",
        "# Initialize KFold\n",
        "kf = KFold(n_splits=n_splits)\n",
        "\n",
        "# Arrays to store scores\n",
        "train_scores = []\n",
        "test_scores = []\n",
        "\n",
        "for train_index, test_index in kf.split(X):\n",
        "    # Split data\n",
        "    X_train, X_test = X.iloc[train_index], X.iloc[test_index]\n",
        "    y_train, y_test = y.iloc[train_index], y.iloc[test_index]\n",
        "    # Fit model\n",
        "    model.fit(X_train, y_train)\n",
        "\n",
        "    # Calculate R2 scores\n",
        "    train_score = model.score(X_train,y_train)\n",
        "    test_score = model.score(X_test, y_test)\n",
        "\n",
        "    # Append scores\n",
        "    train_scores.append(train_score)\n",
        "    test_scores.append(test_score)\n",
        "\n",
        "# Average R2 scores\n",
        "avg_train_score = np.mean(train_scores)\n",
        "avg_test_score = np.mean(test_scores)\n",
        "\n",
        "print(f\"Average R2 Score on Training Data: {avg_train_score}\")\n",
        "print(f\"Average R2 Score on Test Data: {avg_test_score}\")"
      ],
      "metadata": {
        "colab": {
          "base_uri": "https://localhost:8080/"
        },
        "id": "PRQwR-d4QW4S",
        "outputId": "2093ff79-5efb-48f2-c923-9850fe00da50"
      },
      "id": "PRQwR-d4QW4S",
      "execution_count": 37,
      "outputs": [
        {
          "output_type": "stream",
          "name": "stdout",
          "text": [
            "Average R2 Score on Training Data: 0.9423932473438846\n",
            "Average R2 Score on Test Data: 0.9381149534736277\n"
          ]
        }
      ]
    },
    {
      "cell_type": "markdown",
      "source": [
        "**3nd Degree Polynomial Regression**"
      ],
      "metadata": {
        "id": "HLVZpBNYXoxW"
      },
      "id": "HLVZpBNYXoxW"
    },
    {
      "cell_type": "code",
      "source": [
        "from inspect import modulesbyfile\n",
        "from sklearn.model_selection import KFold\n",
        "from sklearn.linear_model import LinearRegression\n",
        "\n",
        "#Linear Regression for Paris_t2m with 40 features - the most naive approach\n",
        "from sklearn.preprocessing import PolynomialFeatures\n",
        "from sklearn.pipeline import make_pipeline\n",
        "\n",
        "# Transform data to include polynomial features\n",
        "degree = 3\n",
        "polynomial_features = PolynomialFeatures(degree=degree, include_bias=True)\n",
        "linear_regression = LinearRegression()\n",
        "\n",
        "# Create a pipeline that includes both polynomial expansion and linear regression\n",
        "model = make_pipeline(polynomial_features, linear_regression)"
      ],
      "metadata": {
        "id": "w9kDNr96XtmW"
      },
      "id": "w9kDNr96XtmW",
      "execution_count": 7,
      "outputs": []
    },
    {
      "cell_type": "code",
      "source": [
        "from sklearn.model_selection import train_test_split\n",
        "X_train, X_test, y_train, y_test = train_test_split(X, y, test_size=.3, random_state=0)\n",
        "model.fit(X_train, y_train)\n",
        "train_score = model.score(X_train,y_train)\n",
        "test_score = model.score(X_test, y_test)\n",
        "print(f\"Average R2 Score on Training Data: {train_score}\")\n",
        "print(f\"Average R2 Score on Test Data: {test_score}\")"
      ],
      "metadata": {
        "id": "8aIHiLu_gPft"
      },
      "id": "8aIHiLu_gPft",
      "execution_count": null,
      "outputs": []
    },
    {
      "cell_type": "code",
      "source": [
        "# Set number of splits for cross-validation - two years for each fold\n",
        "from sklearn.model_selection import train_test_split\n",
        "\n",
        "n_splits = 2 # We have 40 years in total\n",
        "\n",
        "# Initialize KFold\n",
        "kf = KFold(n_splits=n_splits)\n",
        "\n",
        "# Arrays to store scores\n",
        "train_scores = []\n",
        "test_scores = []\n",
        "\n",
        "for train_index, test_index in kf.split(X):\n",
        "    # Split data\n",
        "    X_train, X_test = X.iloc[train_index], X.iloc[test_index]\n",
        "    y_train, y_test = y.iloc[train_index], y.iloc[test_index]\n",
        "    # Fit model\n",
        "    model.fit(X_train, y_train)\n",
        "\n",
        "    # Calculate R2 scores\n",
        "    train_score = model.score(X_train,y_train)\n",
        "    test_score = model.score(X_test, y_test)\n",
        "\n",
        "    # Append scores\n",
        "    train_scores.append(train_score)\n",
        "    test_scores.append(test_score)\n",
        "\n",
        "# Average R2 scores\n",
        "avg_train_score = np.mean(train_scores)\n",
        "avg_test_score = np.mean(test_scores)\n",
        "\n",
        "print(f\"Average R2 Score on Training Data: {avg_train_score}\")\n",
        "print(f\"Average R2 Score on Test Data: {avg_test_score}\")"
      ],
      "metadata": {
        "colab": {
          "base_uri": "https://localhost:8080/",
          "height": 425
        },
        "id": "EUglJMuGXvaM",
        "outputId": "a73b2468-a8a8-4104-a6bf-1dfc90a81e6a"
      },
      "id": "EUglJMuGXvaM",
      "execution_count": 13,
      "outputs": [
        {
          "output_type": "error",
          "ename": "ValueError",
          "evalue": "ignored",
          "traceback": [
            "\u001b[0;31m---------------------------------------------------------------------------\u001b[0m",
            "\u001b[0;31mValueError\u001b[0m                                Traceback (most recent call last)",
            "\u001b[0;32m<ipython-input-13-5f2dd5526a54>\u001b[0m in \u001b[0;36m<cell line: 5>\u001b[0;34m()\u001b[0m\n\u001b[1;32m      3\u001b[0m \u001b[0;34m\u001b[0m\u001b[0m\n\u001b[1;32m      4\u001b[0m \u001b[0;31m# Initialize KFold\u001b[0m\u001b[0;34m\u001b[0m\u001b[0;34m\u001b[0m\u001b[0m\n\u001b[0;32m----> 5\u001b[0;31m \u001b[0mkf\u001b[0m \u001b[0;34m=\u001b[0m \u001b[0mKFold\u001b[0m\u001b[0;34m(\u001b[0m\u001b[0mn_splits\u001b[0m\u001b[0;34m=\u001b[0m\u001b[0mn_splits\u001b[0m\u001b[0;34m)\u001b[0m\u001b[0;34m\u001b[0m\u001b[0;34m\u001b[0m\u001b[0m\n\u001b[0m\u001b[1;32m      6\u001b[0m \u001b[0;34m\u001b[0m\u001b[0m\n\u001b[1;32m      7\u001b[0m \u001b[0;31m# Arrays to store scores\u001b[0m\u001b[0;34m\u001b[0m\u001b[0;34m\u001b[0m\u001b[0m\n",
            "\u001b[0;32m/usr/local/lib/python3.10/dist-packages/sklearn/model_selection/_split.py\u001b[0m in \u001b[0;36m__init__\u001b[0;34m(self, n_splits, shuffle, random_state)\u001b[0m\n\u001b[1;32m    449\u001b[0m \u001b[0;34m\u001b[0m\u001b[0m\n\u001b[1;32m    450\u001b[0m     \u001b[0;32mdef\u001b[0m \u001b[0m__init__\u001b[0m\u001b[0;34m(\u001b[0m\u001b[0mself\u001b[0m\u001b[0;34m,\u001b[0m \u001b[0mn_splits\u001b[0m\u001b[0;34m=\u001b[0m\u001b[0;36m5\u001b[0m\u001b[0;34m,\u001b[0m \u001b[0;34m*\u001b[0m\u001b[0;34m,\u001b[0m \u001b[0mshuffle\u001b[0m\u001b[0;34m=\u001b[0m\u001b[0;32mFalse\u001b[0m\u001b[0;34m,\u001b[0m \u001b[0mrandom_state\u001b[0m\u001b[0;34m=\u001b[0m\u001b[0;32mNone\u001b[0m\u001b[0;34m)\u001b[0m\u001b[0;34m:\u001b[0m\u001b[0;34m\u001b[0m\u001b[0;34m\u001b[0m\u001b[0m\n\u001b[0;32m--> 451\u001b[0;31m         \u001b[0msuper\u001b[0m\u001b[0;34m(\u001b[0m\u001b[0;34m)\u001b[0m\u001b[0;34m.\u001b[0m\u001b[0m__init__\u001b[0m\u001b[0;34m(\u001b[0m\u001b[0mn_splits\u001b[0m\u001b[0;34m=\u001b[0m\u001b[0mn_splits\u001b[0m\u001b[0;34m,\u001b[0m \u001b[0mshuffle\u001b[0m\u001b[0;34m=\u001b[0m\u001b[0mshuffle\u001b[0m\u001b[0;34m,\u001b[0m \u001b[0mrandom_state\u001b[0m\u001b[0;34m=\u001b[0m\u001b[0mrandom_state\u001b[0m\u001b[0;34m)\u001b[0m\u001b[0;34m\u001b[0m\u001b[0;34m\u001b[0m\u001b[0m\n\u001b[0m\u001b[1;32m    452\u001b[0m \u001b[0;34m\u001b[0m\u001b[0m\n\u001b[1;32m    453\u001b[0m     \u001b[0;32mdef\u001b[0m \u001b[0m_iter_test_indices\u001b[0m\u001b[0;34m(\u001b[0m\u001b[0mself\u001b[0m\u001b[0;34m,\u001b[0m \u001b[0mX\u001b[0m\u001b[0;34m,\u001b[0m \u001b[0my\u001b[0m\u001b[0;34m=\u001b[0m\u001b[0;32mNone\u001b[0m\u001b[0;34m,\u001b[0m \u001b[0mgroups\u001b[0m\u001b[0;34m=\u001b[0m\u001b[0;32mNone\u001b[0m\u001b[0;34m)\u001b[0m\u001b[0;34m:\u001b[0m\u001b[0;34m\u001b[0m\u001b[0;34m\u001b[0m\u001b[0m\n",
            "\u001b[0;32m/usr/local/lib/python3.10/dist-packages/sklearn/model_selection/_split.py\u001b[0m in \u001b[0;36m__init__\u001b[0;34m(self, n_splits, shuffle, random_state)\u001b[0m\n\u001b[1;32m    296\u001b[0m \u001b[0;34m\u001b[0m\u001b[0m\n\u001b[1;32m    297\u001b[0m         \u001b[0;32mif\u001b[0m \u001b[0mn_splits\u001b[0m \u001b[0;34m<=\u001b[0m \u001b[0;36m1\u001b[0m\u001b[0;34m:\u001b[0m\u001b[0;34m\u001b[0m\u001b[0;34m\u001b[0m\u001b[0m\n\u001b[0;32m--> 298\u001b[0;31m             raise ValueError(\n\u001b[0m\u001b[1;32m    299\u001b[0m                 \u001b[0;34m\"k-fold cross-validation requires at least one\"\u001b[0m\u001b[0;34m\u001b[0m\u001b[0;34m\u001b[0m\u001b[0m\n\u001b[1;32m    300\u001b[0m                 \u001b[0;34m\" train/test split by setting n_splits=2 or more,\"\u001b[0m\u001b[0;34m\u001b[0m\u001b[0;34m\u001b[0m\u001b[0m\n",
            "\u001b[0;31mValueError\u001b[0m: k-fold cross-validation requires at least one train/test split by setting n_splits=2 or more, got n_splits=1."
          ]
        }
      ]
    },
    {
      "cell_type": "markdown",
      "source": [
        "**Ridge Regression**"
      ],
      "metadata": {
        "id": "TZ0DRq1tPjWD"
      },
      "id": "TZ0DRq1tPjWD"
    },
    {
      "cell_type": "code",
      "source": [
        "#Ridge regression\n",
        "# Import Ridge\n",
        "from sklearn.linear_model import Ridge\n",
        "from sklearn.model_selection import cross_val_score\n",
        "# Call the Ridge regressor\n",
        "reg_class = Ridge\n",
        "\n",
        "# Number of test years\n",
        "N_TEST_YEARS = 8\n",
        "# Number of test days = number of test columns\n",
        "n_test = 365 * N_TEST_YEARS # 365 days per year\n",
        "\n",
        "# Define array of regularization-parameter values\n",
        "complexity_rng = np.linspace(0, 80, 80)\n",
        "\n",
        "# Select cross validation data\n",
        "X_cv = X[:-n_test]\n",
        "y_cv = y[:-n_test]\n",
        "\n",
        "# Select test set for later\n",
        "X_test = X[-n_test:]\n",
        "y_test = y[-n_test:]\n",
        "\n",
        "# Set number of splits for cross-validation - two years for each fold\n",
        "n_splits_cv = (n_years - N_TEST_YEARS)//2\n",
        "\n",
        "# Declare empty arrays in which to store r2 scores and coefficients\n",
        "r2_validation = np.empty(complexity_rng.shape)\n",
        "coefs = np.empty((len(complexity_rng), X.shape[1]))\n",
        "r2_test = np.empty(complexity_rng.shape)\n",
        "\n",
        "\n",
        "# Loop over regularization-parameter values\n",
        "for k, complexity in enumerate(complexity_rng):\n",
        "    # Define the Ridge estimator for particular regularization-parameter value\n",
        "    reg = reg_class(alpha=complexity)\n",
        "\n",
        "    # Get r2 test scores from k-fold cross-validation\n",
        "    r2_validation_arr = cross_val_score(reg, X_cv, y_cv, cv=n_splits_cv)\n",
        "\n",
        "    # Get r2 expected prediction score by averaging over test scores\n",
        "    r2_validation[k] = r2_validation_arr.mean()\n",
        "\n",
        "    # Save coefficients\n",
        "    reg.fit(X_cv, y_cv)\n",
        "    coefs[k] = reg.coef_\n",
        "\n",
        "    # Get r2 test error\n",
        "    r2_test[k] = reg.score(X_test, y_test)\n",
        "\n",
        "\n",
        "# Get the best values of the regularization parameter, prediction R2 and coefficients\n",
        "i_best = np.argmax(r2_validation)\n",
        "complexity_best = complexity_rng[i_best]\n",
        "r2_validation_best = r2_validation[i_best]\n",
        "coefs_best = coefs[i_best]\n",
        "r2_test_best = r2_test[i_best]"
      ],
      "metadata": {
        "id": "c0pmD7-JYeii"
      },
      "id": "c0pmD7-JYeii",
      "execution_count": 12,
      "outputs": []
    },
    {
      "cell_type": "code",
      "source": [
        "print(r2_validation)"
      ],
      "metadata": {
        "id": "acleenFpSoLK",
        "outputId": "b0d7d356-36bb-4a3a-bb5d-0fdaa60bf7d5",
        "colab": {
          "base_uri": "https://localhost:8080/"
        }
      },
      "id": "acleenFpSoLK",
      "execution_count": 13,
      "outputs": [
        {
          "metadata": {
            "tags": null
          },
          "name": "stdout",
          "output_type": "stream",
          "text": [
            "[0.91749483 0.91749484 0.91749486 0.91749488 0.91749488 0.9174949\n",
            " 0.9174949  0.91749492 0.91749493 0.91749492 0.91749494 0.91749495\n",
            " 0.91749496 0.91749497 0.91749497 0.91749499 0.91749497 0.91749498\n",
            " 0.91749499 0.91749501 0.91749502 0.91749501 0.91749501 0.91749501\n",
            " 0.91749502 0.91749502 0.91749503 0.91749503 0.91749503 0.91749502\n",
            " 0.91749502 0.91749503 0.91749502 0.91749502 0.91749502 0.91749502\n",
            " 0.91749501 0.91749501 0.91749501 0.917495   0.91749501 0.91749499\n",
            " 0.91749499 0.91749498 0.91749498 0.91749498 0.91749496 0.91749496\n",
            " 0.91749495 0.91749493 0.91749494 0.91749491 0.91749491 0.91749491\n",
            " 0.9174949  0.91749489 0.91749487 0.91749486 0.91749484 0.91749482\n",
            " 0.91749482 0.91749481 0.91749479 0.91749478 0.91749476 0.91749475\n",
            " 0.91749473 0.91749472 0.91749471 0.91749469 0.91749466 0.91749464\n",
            " 0.91749462 0.91749461 0.91749458 0.91749456 0.91749456 0.91749452\n",
            " 0.9174945  0.91749449]\n"
          ]
        }
      ]
    },
    {
      "cell_type": "code",
      "source": [
        "# Plot validation curve\n",
        "complexity_label = r'$\\alpha$'\n",
        "plt.figure()\n",
        "plt.plot(complexity_rng, r2_validation, label = 'Train R2')\n",
        "plt.legend()\n",
        "plt.xlabel(complexity_label)\n",
        "plt.ylabel(r'$R^2$')\n",
        "\n",
        "plt.figure()\n",
        "plt.plot(complexity_rng, r2_test, label = 'Test R2')\n",
        "plt.xlabel(complexity_label)\n",
        "plt.ylabel(r'$R^2$')\n",
        "plt.legend()\n",
        "_ = plt.title(r'Best $R^2 train$: {:.3} for $\\alpha$ = {:.1e} and $R^2 test$ : {:.3}'.format(\n",
        "    r2_validation_best, complexity_best, r2_test_best))\n",
        "_ = plt.xlim(complexity_rng[[0, -1]])\n"
      ],
      "metadata": {
        "id": "DeN1ZSKLrT7_",
        "outputId": "70645d5d-ec08-4ced-a46f-f4509a785a4e",
        "colab": {
          "base_uri": "https://localhost:8080/",
          "height": 937
        }
      },
      "id": "DeN1ZSKLrT7_",
      "execution_count": 14,
      "outputs": [
        {
          "output_type": "display_data",
          "data": {
            "text/plain": [
              "<Figure size 640x480 with 1 Axes>"
            ],
            "image/png": "[encoded data removed]"
          },
          "metadata": {}
        },
        {
          "output_type": "display_data",
          "data": {
            "text/plain": [
              "<Figure size 640x480 with 1 Axes>"
            ],
            "image/png": "[encoded data removed]"
          },
          "metadata": {}
        }
      ]
    },
    {
      "cell_type": "code",
      "source": [
        "# Define the Ridge estimator for best regularization parameter value\n",
        "reg = reg_class(alpha=complexity_best)\n",
        "\n",
        "# Fit on train data\n",
        "reg.fit(X_cv, y_cv)\n",
        "\n",
        "# Test on test data\n",
        "r2_test = reg.score(X_test, y_test)\n",
        "\n",
        "print('Test R2: {:.3f}'.format(r2_test))"
      ],
      "metadata": {
        "id": "m00xD4fuRw3l",
        "outputId": "5e19a0d1-4ea3-482d-dce6-db32eccd7bd3",
        "colab": {
          "base_uri": "https://localhost:8080/"
        }
      },
      "id": "m00xD4fuRw3l",
      "execution_count": 15,
      "outputs": [
        {
          "output_type": "stream",
          "name": "stdout",
          "text": [
            "Test R2: 0.855\n"
          ]
        }
      ]
    },
    {
      "cell_type": "markdown",
      "id": "ad79471d",
      "metadata": {
        "id": "ad79471d"
      },
      "source": [
        "***\n",
        "## Credit\n",
        "\n",
        "[//]: # \"This notebook is part of [E4C Interdisciplinary Center - Education](https://gitlab.in2p3.fr/energy4climate/public/education).\"\n",
        "Contributors include Bruno Deremble and Alexis Tantet.\n",
        "Several slides and images are taken from the very good [Scikit-learn course](https://inria.github.io/scikit-learn-mooc/).\n",
        "\n",
        "<br>\n",
        "\n",
        "<div style=\"display: flex; height: 70px\">\n",
        "    \n",
        "<img alt=\"Logo LMD\" src=\"https://github.com/VTNay/MEC557-Project/blob/main/images/logos/logo_lmd.jpg?raw=1\" style=\"display: inline-block\"/>\n",
        "\n",
        "<img alt=\"Logo IPSL\" src=\"https://github.com/VTNay/MEC557-Project/blob/main/images/logos/logo_ipsl.png?raw=1\" style=\"display: inline-block\"/>\n",
        "\n",
        "<img alt=\"Logo E4C\" src=\"https://github.com/VTNay/MEC557-Project/blob/main/images/logos/logo_e4c_final.png?raw=1\" style=\"display: inline-block\"/>\n",
        "\n",
        "<img alt=\"Logo EP\" src=\"https://github.com/VTNay/MEC557-Project/blob/main/images/logos/logo_ep.png?raw=1\" style=\"display: inline-block\"/>\n",
        "\n",
        "<img alt=\"Logo SU\" src=\"https://github.com/VTNay/MEC557-Project/blob/main/images/logos/logo_su.png?raw=1\" style=\"display: inline-block\"/>\n",
        "\n",
        "<img alt=\"Logo ENS\" src=\"https://github.com/VTNay/MEC557-Project/blob/main/images/logos/logo_ens.jpg?raw=1\" style=\"display: inline-block\"/>\n",
        "\n",
        "<img alt=\"Logo CNRS\" src=\"https://github.com/VTNay/MEC557-Project/blob/main/images/logos/logo_cnrs.png?raw=1\" style=\"display: inline-block\"/>\n",
        "    \n",
        "</div>\n",
        "\n",
        "<hr>\n",
        "\n",
        "<div style=\"display: flex\">\n",
        "    <a rel=\"license\" href=\"http://creativecommons.org/licenses/by-sa/4.0/\"><img alt=\"Creative Commons License\" style=\"border-width:0; margin-right: 10px\" src=\"https://i.creativecommons.org/l/by-sa/4.0/88x31.png\" /></a>\n",
        "    <br>This work is licensed under a &nbsp; <a rel=\"license\" href=\"http://creativecommons.org/licenses/by-sa/4.0/\">Creative Commons Attribution-ShareAlike 4.0 International License</a>.\n",
        "</div>"
      ]
    }
  ],
  "metadata": {
    "kernelspec": {
      "display_name": "Python 3",
      "language": "python",
      "name": "python3"
    },
    "language_info": {
      "codemirror_mode": {
        "name": "ipython",
        "version": 3
      },
      "file_extension": ".py",
      "mimetype": "text/x-python",
      "name": "python",
      "nbconvert_exporter": "python",
      "pygments_lexer": "ipython3",
      "version": "3.9.12"
    },
    "latex_envs": {
      "LaTeX_envs_menu_present": true,
      "autoclose": true,
      "autocomplete": false,
      "bibliofile": "biblio.bib",
      "cite_by": "apalike",
      "current_citInitial": 1,
      "eqLabelWithNumbers": true,
      "eqNumInitial": 1,
      "hotkeys": {
        "equation": "Ctrl-E",
        "itemize": "Ctrl-I"
      },
      "labels_anchors": false,
      "latex_user_defs": false,
      "report_style_numbering": false,
      "user_envs_cfg": false
    },
    "toc": {
      "base_numbering": 1,
      "nav_menu": {},
      "number_sections": true,
      "sideBar": true,
      "skip_h1_title": false,
      "title_cell": "Table of Contents",
      "title_sidebar": "Contents",
      "toc_cell": false,
      "toc_position": {},
      "toc_section_display": true,
      "toc_window_display": false
    },
    "varInspector": {
      "cols": {
        "lenName": 16,
        "lenType": 16,
        "lenVar": 40
      },
      "kernels_config": {
        "python": {
          "delete_cmd_postfix": "",
          "delete_cmd_prefix": "del ",
          "library": "var_list.py",
          "varRefreshCmd": "print(var_dic_list())"
        },
        "r": {
          "delete_cmd_postfix": ") ",
          "delete_cmd_prefix": "rm(",
          "library": "var_list.r",
          "varRefreshCmd": "cat(var_dic_list()) "
        }
      },
      "types_to_exclude": [
        "module",
        "function",
        "builtin_function_or_method",
        "instance",
        "_Feature"
      ],
      "window_display": false
    },
    "colab": {
      "provenance": [],
      "include_colab_link": true
    }
  },
  "nbformat": 4,
  "nbformat_minor": 5
}
