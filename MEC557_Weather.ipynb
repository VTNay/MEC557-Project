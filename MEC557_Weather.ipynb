{
  "cells": [
    {
      "cell_type": "markdown",
      "metadata": {
        "id": "view-in-github",
        "colab_type": "text"
      },
      "source": [
        "<a href=\"https://colab.research.google.com/github/VTNay/MEC557-Project/blob/Nay/MEC557_Weather.ipynb\" target=\"_parent\"><img src=\"https://colab.research.google.com/assets/colab-badge.svg\" alt=\"Open In Colab\"/></a>"
      ]
    },
    {
      "cell_type": "markdown",
      "id": "f1ae401f",
      "metadata": {
        "id": "f1ae401f"
      },
      "source": [
        "# MEC 557 - Apprentissage Automatique pour le climat et l\"énérgie (2023-2024)\n",
        "- **Vo Thoi Nay**, nay.vo-thoi@polytechnique.edu\n",
        "- **Zhichuan Ma**, zhichuan.ma@polytechnique.edu\n",
        "\n",
        "[![Binder](https://mybinder.org/badge_logo.svg)](https://mybinder.org/v2/git/https%3A%2F%2Fgitlab.in2p3.fr%2Fenergy4climate%2Fpublic%2Feducation%2Fmachine_learning_for_climate_and_energy/master?filepath=book%2Fnotebooks%2Fprojects.ipynb)"
      ]
    },
    {
      "cell_type": "markdown",
      "source": [
        "## **Introduction**\n",
        "\n",
        "This project explores the application of machine learning in addressing practical challenges in meteorology, with a focus on a network of five weather stations located in Paris, Brest, London, Marseille, and Berlin. These stations monitor a variety of surface weather variables, including:\n",
        "\n",
        "<center>\n",
        "\n",
        "| Variable | Description                                      |\n",
        "|----------|--------------------------------------------------|\n",
        "| skt      | Skin Temperature                                 |\n",
        "| u10      | 10-meter U Wind Component (wind speed east-west) |\n",
        "| v10      | 10-meter V Wind Component (wind speed north-south)|\n",
        "| t2m      | 2-meter Temperature                              |\n",
        "| d2m      | 2-meter Dew Point Temperature                    |\n",
        "| tcc      | Total Cloud Cover                                |\n",
        "| sp       | Surface Pressure                                 |\n",
        "| tp       | Total Precipitation                              |\n",
        "| ssrd     | Surface Solar Radiation Downwards                |\n",
        "| blh      | Boundary Layer Height                            |\n",
        "\n",
        "</center>\n",
        "\n",
        "The central challenge addressed in this project arises from a malfunction at the Paris weather station, leading to a gap in its data stream. The objective is to investigate the feasibility of using machine learning techniques to infer the weather conditions in Paris based on the data from the remaining stations in Brest, London, Marseille, and Berlin. This approach holds significant value, as it offers a potential solution for maintaining continuous weather monitoring in the event of individual station outages.\n",
        "\n",
        "The project will likely involve analyzing correlations and patterns between the weather conditions reported by these stations and developing a predictive model to estimate the missing data for Paris. The key challenge is to accurately model the complex meteorological phenomena, providing reliable predictions in the absence of direct data from the Paris station."
      ],
      "metadata": {
        "id": "ktfCul1EBJIT"
      },
      "id": "ktfCul1EBJIT"
    },
    {
      "cell_type": "markdown",
      "source": [
        "### **Essential Preparation Guidelines (must read)**\n",
        "Our project embraces collaboration through the use of Git and Google Colab, two powerful tools that enhance our team's efficiency and workflow. We have chosen to store our project data on Google Drive for easy access and sharing among team members.\n",
        "\n",
        "To seamlessly integrate with our project setup, we recommend the following steps:\n",
        "\n",
        "1.   **Download the Dataset**: First, obtain the dataset from our Moodle course page. This dataset forms the foundation of our analyses and experiments.\n",
        "2.   **Create a Dedicated Project Folder**: In your Google Drive, establish a folder named **\"PHY557_Project\"**. This dedicated space will help you organize and manage project files effectively.\n",
        "3.   **Upload the Dataset to the Folder**: Place the downloaded dataset into the \"PHY557_Project\" folder. This step ensures that all project-related data is centralized and accessible within your Google Drive.\n",
        "\n",
        "Here is an example relevant path: \"/content/drive/My Drive/PHY557_Project/weather/paris\"\n",
        "\n",
        "\n",
        "\n",
        "\n",
        "\n",
        "\n"
      ],
      "metadata": {
        "id": "uQkcTUJfdtVI"
      },
      "id": "uQkcTUJfdtVI"
    },
    {
      "cell_type": "code",
      "source": [
        "from google.colab import drive\n",
        "drive.mount('/content/drive')"
      ],
      "metadata": {
        "colab": {
          "base_uri": "https://localhost:8080/"
        },
        "id": "EfvEaXMCKKvc",
        "outputId": "433ddfb4-e2be-4af4-b84f-5ad311b972ee"
      },
      "id": "EfvEaXMCKKvc",
      "execution_count": 1,
      "outputs": [
        {
          "output_type": "stream",
          "name": "stdout",
          "text": [
            "Drive already mounted at /content/drive; to attempt to forcibly remount, call drive.mount(\"/content/drive\", force_remount=True).\n"
          ]
        }
      ]
    },
    {
      "cell_type": "markdown",
      "id": "b309f16e",
      "metadata": {
        "id": "b309f16e"
      },
      "source": [
        "### **Weather Station**"
      ]
    },
    {
      "cell_type": "markdown",
      "id": "912d896e",
      "metadata": {
        "id": "912d896e"
      },
      "source": [
        "<img alt=\"weather\" src=\"https://github.com/VTNay/MEC557-Project/blob/main/images/map.png?raw=1\" width=400>"
      ]
    },
    {
      "cell_type": "markdown",
      "id": "2372e364",
      "metadata": {
        "id": "2372e364"
      },
      "source": [
        "- Suppose there are 5 weather stations that monitor the weather: Paris, Brest, London, Marseille and Berlin.\n",
        "- The weather station in Paris breaks down\n",
        "- Can we use the other stations to infer the weather in Paris"
      ]
    },
    {
      "cell_type": "markdown",
      "id": "66ae5a0d",
      "metadata": {
        "id": "66ae5a0d"
      },
      "source": [
        "### **Glimpse on the dataset**\n",
        "\n",
        "<img alt=\"weather\" src=\"https://github.com/VTNay/MEC557-Project/blob/main/images/annual_temperature.png?raw=1\" width=400>\n",
        "\n",
        "- Surface variables: skt, u10, v10, t2m, d2m, tcc, sp, tp, ssrd, blh\n",
        "- Temporal resolution: hourly\n",
        "- Spatial resolution: N/A"
      ]
    },
    {
      "cell_type": "markdown",
      "source": [
        "## **Methodology**\n",
        "\n",
        "<img alt=\"weather\" src=\"https://github.com/VTNay/MEC557-Project/blob/main/images/methodology.png?raw=1\" width=1000>\n",
        "\n",
        "In our project, which involves a comprehensive dataset with 40 distinct features, our primary goal is to develop and refine models capable of predicting weather statistics for Paris. To achieve this, we have devised a structured approach for our data and model management:\n",
        "\n",
        "1. **Dataset Division**: We start by splitting our dataset into two distinct parts. The first part is dedicated to model training, where we employ various strategies, including cross-validation, to identify the most effective model. Cross-validation helps in assessing the model's performance more reliably by using different subsets of the training data.\n",
        "\n",
        "2. **Model Training and Selection**: During the training phase, several models are trained and evaluated. We utilize cross-validation to determine the best model based on its performance across different segments of our training data. This process ensures that the best hyperparameter is determined.\n",
        "\n",
        "3. **Performance Testing**: The second part of the dataset is reserved for testing. This phase is crucial as it provides an unbiased evaluation of the model's performance. By applying the model to unseen data, we can gauge its effectiveness in real-world scenarios.\n",
        "\n",
        "4. **Comparative Analysis**: Finally, we conduct a comprehensive comparison of the models' performances. This involves analyzing various metrics and aspects of each model to understand their strengths and weaknesses in predicting Paris weather statistics. The outcome of this comparison will guide us in selecting the most suitable model for our objective."
      ],
      "metadata": {
        "id": "oGtaEIkDApFH"
      },
      "id": "oGtaEIkDApFH"
    },
    {
      "cell_type": "markdown",
      "source": [
        "## **Data Processing and Cleaning**\n",
        "\n",
        "This section focuses on the initial steps of handling our dataset: reading and storing the data followed by thorough cleaning. We place a special emphasis on identifying and addressing two primary issues - the presence of NaN (Not a Number) values and inconsistencies in dataset lengths across different cities. These steps are crucial to ensure the integrity and reliability of our analysis."
      ],
      "metadata": {
        "id": "uc5X9c9COuey"
      },
      "id": "uc5X9c9COuey"
    },
    {
      "cell_type": "code",
      "source": [
        "from pathlib import Path\n",
        "import numpy as np\n",
        "import pandas as pd\n",
        "import xarray as xr\n",
        "from functools import reduce\n",
        "from matplotlib import pyplot as plt\n",
        "from sklearn import preprocessing\n",
        "\n",
        "# Define file paths for weather data of different cities\n",
        "weather_paths = {\n",
        "    'Paris': Path('/content/drive/My Drive/PHY557_Project/weather/paris'),\n",
        "    'Brest': Path('/content/drive/My Drive/PHY557_Project/weather/brest'),\n",
        "    'London': Path('/content/drive/My Drive/PHY557_Project/weather/london'),\n",
        "    'Marseille': Path('/content/drive/My Drive/PHY557_Project/weather/marseille'),\n",
        "    'Berlin': Path('/content/drive/My Drive/PHY557_Project/weather/berlin')\n",
        "}\n",
        "\n",
        "# Define the names of the files for each weather parameter\n",
        "file_names = {\n",
        "    't2m': 't2m.nc', 'blh': 'blh.nc', 'd2m': 'd2m.nc', 'skt': 'skt.nc',\n",
        "    'sp': 'sp.nc', 'ssrd': 'ssrd.nc', 'tcc': 'tcc.nc', 'tp': 'tp.nc',\n",
        "    'u10': 'u10.nc', 'v10': 'v10.nc'\n",
        "}\n",
        "\n",
        "# Initialize a dictionary to store weather data for each city\n",
        "weather_data = {city: {} for city in weather_paths}\n",
        "\n",
        "# Load and preprocess the data for each city\n",
        "for city, path in weather_paths.items():\n",
        "    for param, file_name in file_names.items():\n",
        "        # Load the dataset\n",
        "        dataset = xr.open_dataset(Path(path, file_name)).to_dataframe()\n",
        "        # Drop unnecessary levels based on the parameter\n",
        "        if param in ['d2m', 'blh']:\n",
        "            dataset = dataset.droplevel([1, 2])\n",
        "        else:\n",
        "            dataset = dataset.droplevel([0, 1])\n",
        "        # Store the processed data\n",
        "        weather_data[city][param] = dataset\n",
        "    # Merge data from different parameters into a single dataframe\n",
        "    weather_data[city] = reduce(lambda left, right: pd.merge(\n",
        "        left, right, left_index=True, right_index=True, how='outer'),\n",
        "        weather_data[city].values())\n",
        "\n",
        "# Function to rename columns with city prefix\n",
        "def rename_columns(df, prefix):\n",
        "    \"\"\"Rename columns with a city prefix.\"\"\"\n",
        "    return df.rename(columns={col: f\"{prefix}_{col}\" for col in df.columns})\n",
        "\n",
        "# Rename columns and concatenate data from all cities\n",
        "combined_data = pd.concat([rename_columns(weather_data[city], city) for city in weather_data], axis=1)\n",
        "\n",
        "# Data cleaning\n",
        "# Drop rows with missing values\n",
        "combined_data = combined_data.dropna()\n",
        "\n",
        "# Split the combined data into features (X) and target (y)\n",
        "X_raw = combined_data.iloc[:,10:]  # Features from all cities except Paris\n",
        "y = combined_data['Paris_t2m']  # Target: temperature in Paris\n",
        "\n",
        "# Assuming X_raw and y are your raw data arrays\n",
        "X_normalized = (X_raw - X_raw.mean())/X_raw.std()\n",
        "y_normalized = (y - y.mean())/y.std()\n",
        "\n",
        "\n",
        "# Calculate the number of years in the dataset\n",
        "n_years = y_normalized.index.year.max() - y_normalized.index.year.min() + 1\n",
        "\n",
        "print(X_normalized.columns)\n",
        "print(y)\n",
        "print('Number of years: {}'.format(n_years))"
      ],
      "metadata": {
        "colab": {
          "base_uri": "https://localhost:8080/"
        },
        "id": "_AFDHEOp8-F1",
        "outputId": "6459857f-cd61-4f39-caed-c1b9a996ffa8"
      },
      "id": "_AFDHEOp8-F1",
      "execution_count": 2,
      "outputs": [
        {
          "output_type": "stream",
          "name": "stdout",
          "text": [
            "Index(['Brest_t2m', 'Brest_blh', 'Brest_d2m', 'Brest_skt', 'Brest_sp',\n",
            "       'Brest_ssrd', 'Brest_tcc', 'Brest_tp', 'Brest_u10', 'Brest_v10',\n",
            "       'London_t2m', 'London_blh', 'London_d2m', 'London_skt', 'London_sp',\n",
            "       'London_ssrd', 'London_tcc', 'London_tp', 'London_u10', 'London_v10',\n",
            "       'Marseille_t2m', 'Marseille_blh', 'Marseille_d2m', 'Marseille_skt',\n",
            "       'Marseille_sp', 'Marseille_ssrd', 'Marseille_tcc', 'Marseille_tp',\n",
            "       'Marseille_u10', 'Marseille_v10', 'Berlin_t2m', 'Berlin_blh',\n",
            "       'Berlin_d2m', 'Berlin_skt', 'Berlin_sp', 'Berlin_ssrd', 'Berlin_tcc',\n",
            "       'Berlin_tp', 'Berlin_u10', 'Berlin_v10'],\n",
            "      dtype='object')\n",
            "time\n",
            "1980-01-01 07:00:00    272.039154\n",
            "1980-01-01 08:00:00    272.022308\n",
            "1980-01-01 09:00:00    271.751892\n",
            "1980-01-01 10:00:00    274.506470\n",
            "1980-01-01 11:00:00    275.079346\n",
            "                          ...    \n",
            "2019-12-31 19:00:00    272.958130\n",
            "2019-12-31 20:00:00    272.240845\n",
            "2019-12-31 21:00:00    271.729919\n",
            "2019-12-31 22:00:00    273.190796\n",
            "2019-12-31 23:00:00    272.771423\n",
            "Freq: H, Name: Paris_t2m, Length: 350633, dtype: float32\n",
            "Number of years: 40\n"
          ]
        }
      ]
    },
    {
      "cell_type": "markdown",
      "source": [
        "## **Reducing the Dimension**\n",
        "The necessity to reduce the dimensions of our feature set is primarily driven by constraints in available RAM. Given the extensive volume of our dataset, directly applying high-degree polynomial regression (such as degree = 3) is not viable due to the significant computational resources it requires.\n",
        "\n",
        "To address this challenge, we have adopted two distinct methods: Principal Component Analysis (PCA) and Lasso Regression."
      ],
      "metadata": {
        "id": "JHTmbCLUJkWl"
      },
      "id": "JHTmbCLUJkWl"
    },
    {
      "cell_type": "markdown",
      "source": [
        "### **PCA**\n",
        "\n",
        "PCA is a powerful technique for dimensionality reduction. It works by identifying the most significant features in terms of variance and transforming the original features into a new set of uncorrelated features (principal components). This process not only reduces the computational load but also retains the most crucial information contained in the data."
      ],
      "metadata": {
        "id": "E8xgsWcB_n48"
      },
      "id": "E8xgsWcB_n48"
    },
    {
      "cell_type": "code",
      "source": [
        "from sklearn.decomposition import PCA\n",
        "import pandas as pd\n",
        "\n",
        "def apply_pca(X, n_components=20):\n",
        "    \"\"\"\n",
        "    Applies PCA to reduce the number of features.\n",
        "    Args:\n",
        "    X (DataFrame): The input features dataset.\n",
        "    n_components (int): The number of principal components to keep.\n",
        "    Returns:\n",
        "    DataFrame: Transformed feature set with reduced dimensions.\n",
        "    \"\"\"\n",
        "    # Initialize PCA\n",
        "    pca = PCA(n_components=n_components)\n",
        "    # Fit PCA on the dataset\n",
        "    pca.fit(X)\n",
        "    # Transform the dataset\n",
        "    X_pca = pca.transform(X)\n",
        "    # Convert to DataFrame for easier handling\n",
        "    X_pca_df = pd.DataFrame(X_pca, columns=[f'PC{i+1}' for i in range(n_components)])\n",
        "    return X_pca_df"
      ],
      "metadata": {
        "id": "Xqd3_wzmIcif"
      },
      "id": "Xqd3_wzmIcif",
      "execution_count": 3,
      "outputs": []
    },
    {
      "cell_type": "markdown",
      "source": [
        "### **Lasso**\n",
        "Lasso is a linear model that uses this cost function:\n",
        "\n",
        "$$\n",
        "\\frac{1}{2N_{\\text{training}}} \\sum_{i=1}^{N_{\\text{training}}} \\left( y^{(i)}_{\\text{real}} - y^{(i)}_{\\text{pred}} \\right)^2 + \\alpha \\sum_{j=1}^{n} |a_j|\n",
        "$$\n",
        "\n",
        "$a_j$ is the coefficient of the j-th feature. The final term is called $l_1$ penalty and $\\alpha$ is a hyperparameter that tunes the intensity of this penalty term. The higher the coefficient of a feature, the higher the value of the cost function. So, the idea of Lasso regression is to optimize the cost function reducing the absolute values of the coefficients.\n"
      ],
      "metadata": {
        "id": "1Fa2OtwzAsbH"
      },
      "id": "1Fa2OtwzAsbH"
    },
    {
      "cell_type": "code",
      "source": [
        "from sklearn.linear_model import LassoCV\n",
        "import pandas as pd\n",
        "\n",
        "def apply_lasso(X, y, n_features_to_select):\n",
        "    \"\"\"\n",
        "    Applies Lasso regression to select features.\n",
        "\n",
        "    Args:\n",
        "    X (DataFrame): The input features dataset.\n",
        "    y (Series): The target dataset.\n",
        "    n_features_to_select (int): The desired number of features to select.\n",
        "\n",
        "    Returns:\n",
        "    DataFrame: The reduced feature set.\n",
        "    List of tuples: The list of features with their corresponding absolute coefficient values.\n",
        "    \"\"\"\n",
        "    # Initialize LassoCV with cross-validation to find the optimal alpha\n",
        "    lasso = LassoCV(cv=5)\n",
        "\n",
        "    # Fit LassoCV on the dataset\n",
        "    lasso.fit(X, y)\n",
        "\n",
        "    # Get the coefficients\n",
        "    coef = lasso.coef_\n",
        "\n",
        "    # Combine features with their coefficients\n",
        "    feature_coef = list(zip(X.columns, abs(coef)))\n",
        "\n",
        "    # Sort features by the absolute value of their coefficient\n",
        "    feature_coef = sorted(feature_coef, key=lambda x: x[1], reverse=True)\n",
        "\n",
        "    # Select the top 'n_features_to_select'\n",
        "    selected_features = [feature for feature, _ in feature_coef[:n_features_to_select]]\n",
        "\n",
        "    return X[selected_features], feature_coef"
      ],
      "metadata": {
        "id": "Qtky8WbuJmVG"
      },
      "id": "Qtky8WbuJmVG",
      "execution_count": 4,
      "outputs": []
    },
    {
      "cell_type": "markdown",
      "source": [
        "## **Choose the number of features to reduce**\n",
        "\n",
        "We developed the following code to strategically determine the number of features to reduce our dataset to."
      ],
      "metadata": {
        "id": "JUBVcKCFK0sI"
      },
      "id": "JUBVcKCFK0sI"
    },
    {
      "cell_type": "code",
      "source": [
        "X_lasso, feature_coef = apply_lasso(X_normalized, y_normalized, 20)\n",
        "# Convert the list of tuples to a DataFrame for easier plotting\n",
        "features, coefficients = zip(*feature_coef)\n",
        "df = pd.DataFrame({'Feature': features, 'Coefficient': coefficients})\n",
        "\n",
        "# Determine the threshold for the top 3 features\n",
        "top_20_threshold = df['Coefficient'].nlargest(21).min()\n",
        "\n",
        "# Create a color list, where features above the threshold are 'red' and others are 'blue'\n",
        "colors = ['blue' if x > top_20_threshold else 'red' for x in df['Coefficient']]\n",
        "\n",
        "# Plot the horizontal bar plot\n",
        "plt.figure(figsize=(8, 5.5))\n",
        "bars = plt.barh(df['Feature'], df['Coefficient'], color=colors)\n",
        "\n",
        "# Add a vertical line for the threshold of the top 3 features\n",
        "plt.axvline(x=top_20_threshold, color='green', linestyle='--', linewidth=2)\n",
        "\n",
        "# Add a horizontal line at the position of the 3rd feature\n",
        "top_20_feature_position = df[df['Coefficient'] > top_20_threshold].shape[0]\n",
        "plt.axhline(y=top_20_feature_position-0.5, color='red', linestyle='--', linewidth=2)\n",
        "\n",
        "plt.xlabel('Coefficient Value')\n",
        "plt.yticks(fontsize = 8)\n",
        "plt.title('Feature Importance with Threshold')\n",
        "plt.tight_layout()\n",
        "\n",
        "# Show the plot\n",
        "plt.show()"
      ],
      "metadata": {
        "id": "2ywuZWmYuhTl",
        "outputId": "11484681-846c-4a12-a99e-617c462b925c",
        "colab": {
          "base_uri": "https://localhost:8080/",
          "height": 557
        }
      },
      "id": "2ywuZWmYuhTl",
      "execution_count": 5,
      "outputs": [
        {
          "output_type": "display_data",
          "data": {
            "text/plain": [
              "<Figure size 800x550 with 1 Axes>"
            ],
            "image/png": "[encoded data removed]"
          },
          "metadata": {}
        }
      ]
    },
    {
      "cell_type": "markdown",
      "source": [
        "## **Core Fucntion: poly_ridge**\n",
        "\n",
        "Our project's central analytical component is encapsulated in the poly_ridge function. This function is meticulously designed to perform polynomial regression complemented by Ridge regularization, a method particularly suitable for handling multicollinearity and preventing overfitting in our model."
      ],
      "metadata": {
        "id": "Bg_10e6ephP5"
      },
      "id": "Bg_10e6ephP5"
    },
    {
      "cell_type": "code",
      "source": [
        "from sklearn.model_selection import train_test_split, KFold, cross_val_score\n",
        "from sklearn.linear_model import Ridge\n",
        "from sklearn.preprocessing import PolynomialFeatures\n",
        "from sklearn.pipeline import make_pipeline\n",
        "from sklearn.metrics import mean_squared_error\n",
        "import numpy as np\n",
        "from sklearn.model_selection import TimeSeriesSplit\n",
        "\n",
        "def poly_ridge(degree, X, y, alpha_values, n_splits_cv, test_size):\n",
        "    \"\"\"\n",
        "    Performs polynomial regression with Ridge regularization.\n",
        "\n",
        "    Args:\n",
        "    degree (int): The degree of the polynomial features.\n",
        "    X (DataFrame): The features dataset.\n",
        "    y (Series): The target dataset.\n",
        "    alpha_values (array): Array of alpha values for regularization.\n",
        "    n_splits_cv (int): Number of splits for cross-validation.\n",
        "    test_size (float): The proportion of the dataset to include in the test split.\n",
        "\n",
        "    Returns:\n",
        "    dict: A dictionary containing model performance metrics and optimal parameters.\n",
        "    \"\"\"\n",
        "\n",
        "    # Split the dataset into cross-validation and testing sets\n",
        "    # Calculate the number of years to use for the test set\n",
        "    n_test_years = int(n_years * test_size)\n",
        "    # Define the cutoff year to separate the last 8 years\n",
        "    cutoff_year = y.index.year.max() - (n_test_years - 1)\n",
        "    # Create boolean masks for splitting the data\n",
        "    cv_mask = y.index.year < cutoff_year\n",
        "    test_mask = y.index.year >= cutoff_year\n",
        "\n",
        "    # Split the data into cross-validation and test sets\n",
        "    X_cv = X.loc[cv_mask]\n",
        "    y_cv = y[cv_mask]\n",
        "    X_test = X.loc[test_mask]\n",
        "    y_test = y[test_mask]\n",
        "\n",
        "    # Initialize arrays for storing scores and coefficients\n",
        "    r2_validation = np.empty(len(alpha_values))\n",
        "    # Set up the cross-validation configuration\n",
        "    tscv = TimeSeriesSplit(n_splits=n_splits_cv)\n",
        "\n",
        "    # Loop over different values of alpha (regularization strength)\n",
        "    for i, alpha in enumerate(alpha_values):\n",
        "        # Transform data to include polynomial features, include_bias=False because Ridge has the intercept by default\n",
        "        polynomial_features = PolynomialFeatures(degree=degree, include_bias=False)\n",
        "        # Create a pipeline with polynomial features and ridge regression\n",
        "        model = make_pipeline(polynomial_features, Ridge(alpha=alpha))\n",
        "\n",
        "        # Calculate the mean R^2 score from k-fold cross-validation\n",
        "        r2_validation[i] = cross_val_score(model, X_cv, y_cv, cv=tscv).mean()\n",
        "\n",
        "    # Find the index of the best alpha value\n",
        "    i_best = np.argmax(r2_validation)\n",
        "    alpha_best = alpha_values[i_best]\n",
        "\n",
        "    # Train the model with the best alpha value on the full CV dataset\n",
        "    best_model = make_pipeline(PolynomialFeatures(degree=degree, include_bias=False), Ridge(alpha=alpha_best))\n",
        "    best_model.fit(X_cv, y_cv)\n",
        "    # Calculate MSE on the training dataset\n",
        "    mse_train = mean_squared_error(best_model.predict(X_cv), y_cv)\n",
        "\n",
        "    # Calculate R^2 score on the test dataset\n",
        "    r2_test = best_model.score(X_test, y_test)\n",
        "\n",
        "    # Calculate MSE on the test dataset\n",
        "    y_pred = best_model.predict(X_test)\n",
        "    mse_test = mean_squared_error(y_test, y_pred)\n",
        "\n",
        "    # Return a dictionary containing the results\n",
        "    return {\n",
        "        'r2_validation': r2_validation,\n",
        "        'i_best': i_best,\n",
        "        'alpha_best': alpha_best,\n",
        "        'r2_test': r2_test,\n",
        "        'mse_test': mse_test,\n",
        "        'mse_train': mse_train\n",
        "    }"
      ],
      "metadata": {
        "id": "3I5bkqc3BNJW"
      },
      "id": "3I5bkqc3BNJW",
      "execution_count": 6,
      "outputs": []
    },
    {
      "cell_type": "markdown",
      "source": [
        "## **Results**"
      ],
      "metadata": {
        "id": "G5hc8M5tPg2G"
      },
      "id": "G5hc8M5tPg2G"
    },
    {
      "cell_type": "markdown",
      "source": [
        "### **40 features**"
      ],
      "metadata": {
        "id": "d2Zg-7ZPP64u"
      },
      "id": "d2Zg-7ZPP64u"
    },
    {
      "cell_type": "markdown",
      "source": [
        "Due to memory constraints in handling a third-degree polynomial regression with 40 features, we have adjusted our approach to focus exclusively on Ridge regression for linear (first-degree) and second-degree polynomial models."
      ],
      "metadata": {
        "id": "8kDxnatnP-jV"
      },
      "id": "8kDxnatnP-jV"
    },
    {
      "cell_type": "markdown",
      "source": [
        "### **The determination of the range of alpha**\n",
        "We tested several ranges of alpha_values and np.logspace(1, 3, 50) is the best choice where the best values of all models of 40 features and 20 features rely on this range"
      ],
      "metadata": {
        "id": "RuHUnfxNtmw7"
      },
      "id": "RuHUnfxNtmw7"
    },
    {
      "cell_type": "code",
      "source": [
        "alpha_values_40 =np.logspace(1, 3, 50)"
      ],
      "metadata": {
        "id": "VOacHrVaTHEc"
      },
      "id": "VOacHrVaTHEc",
      "execution_count": 7,
      "outputs": []
    },
    {
      "cell_type": "code",
      "source": [
        "# Degree 1\n",
        "results_40_linear = poly_ridge(degree=1, X=X_normalized, y=y_normalized, alpha_values=alpha_values_40, n_splits_cv=5, test_size=0.25)\n",
        "print(results_40_linear)"
      ],
      "metadata": {
        "id": "fM1GO0iWvLN-"
      },
      "id": "fM1GO0iWvLN-",
      "execution_count": 8,
      "outputs": []
    },
    {
      "cell_type": "code",
      "source": [
        "# Degree 2\n",
        "results_40_second = poly_ridge(degree=2, X=X_normalized, y=y_normalized, alpha_values=alpha_values_40, n_splits_cv=5, test_size=0.25)"
      ],
      "metadata": {
        "id": "dMSyPMaE05y-"
      },
      "id": "dMSyPMaE05y-",
      "execution_count": null,
      "outputs": []
    },
    {
      "cell_type": "code",
      "source": [
        "print(results_40_second)"
      ],
      "metadata": {
        "id": "r2emj51AKVAF"
      },
      "id": "r2emj51AKVAF",
      "execution_count": null,
      "outputs": []
    },
    {
      "cell_type": "markdown",
      "source": [
        "### **20 features**"
      ],
      "metadata": {
        "id": "j9YEyiQZRTJh"
      },
      "id": "j9YEyiQZRTJh"
    },
    {
      "cell_type": "code",
      "source": [
        "alpha_values_20 =np.logspace(2, 4, 100)"
      ],
      "metadata": {
        "id": "GKhmDmP8ZYI3"
      },
      "id": "GKhmDmP8ZYI3",
      "execution_count": null,
      "outputs": []
    },
    {
      "cell_type": "markdown",
      "source": [
        "### **Getting the results for 20 features (PCA)**"
      ],
      "metadata": {
        "id": "rfYL7zPjTknp"
      },
      "id": "rfYL7zPjTknp"
    },
    {
      "cell_type": "code",
      "source": [
        "X_20_PCA = apply_pca(X_normalized, 20)\n",
        "alpha_values_20_PCA =np.logspace(1, 4, 100)"
      ],
      "metadata": {
        "id": "3V0iUmfWTpn-"
      },
      "id": "3V0iUmfWTpn-",
      "execution_count": null,
      "outputs": []
    },
    {
      "cell_type": "code",
      "source": [
        "# Degree 1\n",
        "results_20_linear_PCA = poly_ridge(degree=1, X=X_20_PCA, y=y_normalized, alpha_values=alpha_values_20_PCA, n_splits_cv=5, test_size=0.25)\n",
        "print(results_20_linear_PCA)"
      ],
      "metadata": {
        "id": "J729HpmqVcoF"
      },
      "id": "J729HpmqVcoF",
      "execution_count": null,
      "outputs": []
    },
    {
      "cell_type": "code",
      "source": [
        "# Degree 2\n",
        "results_20_second_PCA = poly_ridge(degree=2, X=X_20_PCA, y=y_normalized, alpha_values=alpha_values_20_PCA, n_splits_cv=5, test_size=0.25)\n",
        "print(results_20_second_PCA)"
      ],
      "metadata": {
        "id": "zd63YBrWVrvO"
      },
      "id": "zd63YBrWVrvO",
      "execution_count": null,
      "outputs": []
    },
    {
      "cell_type": "code",
      "source": [
        "# Degree 2 with alpha = 0\n",
        "results_20_second_PCA_0 = poly_ridge(degree=2, X=X_20_PCA, y=y_normalized, alpha_values= np.zeros(1), n_splits_cv=5, test_size=0.25)\n",
        "print(results_20_second_PCA_0)"
      ],
      "metadata": {
        "id": "CvAxCoaMfhTJ"
      },
      "id": "CvAxCoaMfhTJ",
      "execution_count": null,
      "outputs": []
    },
    {
      "cell_type": "code",
      "source": [
        "# Degree 3\n",
        "results_20_third_PCA = poly_ridge(degree=3, X=X_20_PCA, y=y_normalized, alpha_values=alpha_values_20_PCA, n_splits_cv=5, test_size=0.25)"
      ],
      "metadata": {
        "id": "7GRZVCcFVz-4"
      },
      "id": "7GRZVCcFVz-4",
      "execution_count": null,
      "outputs": []
    },
    {
      "cell_type": "code",
      "source": [
        "print(results_20_third_PCA)"
      ],
      "metadata": {
        "id": "rhpO-AiaJ2j7"
      },
      "id": "rhpO-AiaJ2j7",
      "execution_count": null,
      "outputs": []
    },
    {
      "cell_type": "code",
      "source": [
        "# Degree 3 with alpha = 0\n",
        "results_20_third_PCA_0 = poly_ridge(degree=3, X=X_20_PCA, y=y_normalized, alpha_values=np.zeros(1), n_splits_cv=5, test_size=0.25)"
      ],
      "metadata": {
        "id": "tmCNkyM3fnXa"
      },
      "id": "tmCNkyM3fnXa",
      "execution_count": null,
      "outputs": []
    },
    {
      "cell_type": "code",
      "source": [
        "print(results_20_third_PCA_0)"
      ],
      "metadata": {
        "id": "CqOSpW5X2ll3"
      },
      "id": "CqOSpW5X2ll3",
      "execution_count": null,
      "outputs": []
    },
    {
      "cell_type": "markdown",
      "source": [
        "### **Getting the results for 20 features (Lasso)**"
      ],
      "metadata": {
        "id": "LbMFHrQtZ8eS"
      },
      "id": "LbMFHrQtZ8eS"
    },
    {
      "cell_type": "code",
      "source": [
        "X_20_Lasso, feature_coef = apply_lasso(X_normalized, y_normalized, 20)\n",
        "alpha_values_20_Lasso =np.logspace(1, 4, 100)"
      ],
      "metadata": {
        "id": "lxGitrO-ge60"
      },
      "id": "lxGitrO-ge60",
      "execution_count": null,
      "outputs": []
    },
    {
      "cell_type": "code",
      "source": [
        "# Degree 1\n",
        "results_20_linear_Lasso = poly_ridge(degree=1, X=X_20_Lasso, y=y_normalized, alpha_values=alpha_values_20_PCA, n_splits_cv=5, test_size=0.25)\n",
        "print(results_20_linear_Lasso)"
      ],
      "metadata": {
        "id": "ckIuFlpxgke-"
      },
      "id": "ckIuFlpxgke-",
      "execution_count": null,
      "outputs": []
    },
    {
      "cell_type": "code",
      "source": [
        "# Degree 2\n",
        "results_20_second_Lasso = poly_ridge(degree=2, X=X_20_Lasso, y=y_normalized, alpha_values=alpha_values_20_Lasso, n_splits_cv=5, test_size=0.25)\n",
        "print(results_20_second_Lasso)"
      ],
      "metadata": {
        "id": "UkkfVVihgp6F"
      },
      "id": "UkkfVVihgp6F",
      "execution_count": null,
      "outputs": []
    },
    {
      "cell_type": "code",
      "source": [
        "# Degree 3\n",
        "results_20_third_Lasso = poly_ridge(degree=3, X=X_20_Lasso, y=y_normalized, alpha_values=alpha_values_20_Lasso, n_splits_cv=5, test_size=0.25)"
      ],
      "metadata": {
        "id": "pTE-K5eZhZyq"
      },
      "id": "pTE-K5eZhZyq",
      "execution_count": null,
      "outputs": []
    },
    {
      "cell_type": "code",
      "source": [
        "print(results_20_third_Lasso)"
      ],
      "metadata": {
        "id": "ljLY8vNNLTDC"
      },
      "id": "ljLY8vNNLTDC",
      "execution_count": null,
      "outputs": []
    },
    {
      "cell_type": "markdown",
      "source": [
        "## Validation curve with alpha = 0"
      ],
      "metadata": {
        "id": "Yi4zHb2-1QxH"
      },
      "id": "Yi4zHb2-1QxH"
    },
    {
      "cell_type": "code",
      "source": [
        "PCA_1st = poly_ridge(degree=1, X=X_20_PCA, y=y_normalized, alpha_values=np.zeros(1), n_splits_cv=5, test_size=0.25)\n",
        "PCA_2nd = poly_ridge(degree=2, X=X_20_PCA, y=y_normalized, alpha_values=np.zeros(1), n_splits_cv=5, test_size=0.25)\n",
        "PCA_3rd = poly_ridge(degree=3, X=X_20_PCA, y=y_normalized, alpha_values=np.zeros(1), n_splits_cv=5, test_size=0.25)\n",
        "Lasso_1st = poly_ridge(degree=1, X=X_20_Lasso, y=y_normalized, alpha_values=np.zeros(1), n_splits_cv=5, test_size=0.25)\n",
        "Lasso_2nd = poly_ridge(degree=2, X=X_20_Lasso, y=y_normalized, alpha_values=np.zeros(1), n_splits_cv=5, test_size=0.25)\n",
        "Lasso_3rd = poly_ridge(degree=3, X=X_20_Lasso, y=y_normalized, alpha_values=np.zeros(1), n_splits_cv=5, test_size=0.25)\n",
        "\n",
        "complexity_levels = ['1st', '2nd', '3rd']\n",
        "PCA_train_mse = [PCA_1st['mse_train'], PCA_2nd['mse_train'], PCA_3rd['mse_train']]\n",
        "PCA_test_mse = [PCA_1st['mse_test'],PCA_2nd['mse_test'], PCA_3rd['mse_test']]\n",
        "Lasso_train_mse = [Lasso_1st['mse_train'], Lasso_2nd['mse_train'], Lasso_3rd['mse_train']]\n",
        "Lasso_test_mse = [Lasso_1st['mse_test'], Lasso_2nd['mse_test'], Lasso_3rd['mse_test']]\n"
      ],
      "metadata": {
        "id": "exMGedsd1sKu"
      },
      "id": "exMGedsd1sKu",
      "execution_count": null,
      "outputs": []
    },
    {
      "cell_type": "code",
      "source": [
        "\n",
        "# Plotting the validation curve\n",
        "plt.figure(figsize=(10, 6))\n",
        "plt.plot(complexity_levels, PCA_train_mse, marker='o', color='orange', label='PCA_train')\n",
        "plt.plot(complexity_levels, PCA_test_mse, marker='o', color='blue', linestyle='--', label='PCA_test')\n",
        "plt.plot(complexity_levels, Lasso_train_mse, marker='o', color='green', label='Lasso_train')\n",
        "plt.plot(complexity_levels, Lasso_test_mse, marker='o', color='red', linestyle='--', label='Lasso_test')\n",
        "\n",
        "# Adding labels and title\n",
        "plt.title('Validation curve with 20 features')\n",
        "plt.xlabel('Complexity')\n",
        "plt.ylabel('MSE')\n",
        "plt.legend()\n",
        "\n",
        "# Show the plot\n",
        "plt.show()"
      ],
      "metadata": {
        "id": "TXDlOj_J1TPg"
      },
      "id": "TXDlOj_J1TPg",
      "execution_count": null,
      "outputs": []
    },
    {
      "cell_type": "markdown",
      "source": [
        "## **Figures Plotting**"
      ],
      "metadata": {
        "id": "0mSPZOGWWAx8"
      },
      "id": "0mSPZOGWWAx8"
    },
    {
      "cell_type": "markdown",
      "source": [
        "### **Plot_2d function**"
      ],
      "metadata": {
        "id": "LO2UTuX2X_jL"
      },
      "id": "LO2UTuX2X_jL"
    },
    {
      "cell_type": "code",
      "source": [
        "import matplotlib.pyplot as plt\n",
        "import numpy as np\n",
        "\n",
        "def plot_3d(models, alpha_values, r2_validation_arrays):\n",
        "    \"\"\"\n",
        "    Plots a 3D of ridge curves of different models .\n",
        "\n",
        "    Parameters:\n",
        "    models (list): A list of models for the X-axis.\n",
        "    alpha_values (array): An array of alpha values for the Y-axis.\n",
        "    r2_validation_arrays (list of arrays): A list of r2_validation for the Z-axis, each corresponding to a model.\n",
        "    \"\"\"\n",
        "    X, Y = np.meshgrid(range(1, len(models) + 1), alpha_values)\n",
        "\n",
        "    fig = plt.figure()\n",
        "    ax = fig.add_subplot(111, projection='3d')\n",
        "\n",
        "    # Set the positions for the labels to be closer\n",
        "    label_positions = np.linspace(1, 1.2, len(labels))\n",
        "    for i, (label, z) in enumerate(zip(models, r2_validation_arrays)):\n",
        "        X = np.full_like(z, label_positions[i])  # Adjusting label positions\n",
        "        Y = alpha_values\n",
        "        ax.scatter(X, np.log10(Y), z, label=models)  # Apply log scale transformation\n",
        "\n",
        "    ax.set_xlabel('Models')\n",
        "    ax.set_ylabel('Alpha Values')\n",
        "    ax.set_zlabel('R2 validation')\n",
        "    ax.set_title('Ridge regression with several models')\n",
        "    ax.set_xticks(label_positions)\n",
        "    ax.set_xticklabels(models)\n",
        "    # Set the y ticks to represent the log scale\n",
        "    y_ticks = np.logspace(np.log10(alpha_values.min()), np.log10(alpha_values.max()), num=5)\n",
        "    ax.set_yticks(np.log10(y_ticks))\n",
        "    ax.set_yticklabels(y_ticks)\n",
        "    plt.show()\n"
      ],
      "metadata": {
        "id": "QFuFVVxvWHNe"
      },
      "id": "QFuFVVxvWHNe",
      "execution_count": null,
      "outputs": []
    },
    {
      "cell_type": "code",
      "source": [
        "import matplotlib.pyplot as plt\n",
        "import numpy as np\n",
        "\n",
        "def plot_2d(models, alpha_values, r2_validation_arrays):\n",
        "    \"\"\"\n",
        "    Plots a 2D of ridge curves of different models .\n",
        "\n",
        "    Parameters:\n",
        "    models (list): A list of models for the X-axis.\n",
        "    alpha_values (array): An array of alpha values for the Y-axis.\n",
        "    r2_validation_arrays (list of arrays): A list of r2_validation for the Z-axis, each corresponding to a model.\n",
        "    \"\"\"\n",
        "    # Set up the plot\n",
        "    fig, ax = plt.subplots()\n",
        "\n",
        "    # Plot each set of data\n",
        "    for i,z in enumerate(r2_validation_arrays):\n",
        "        ax.plot(alpha_values, z, label=f\"{models[i]}\")\n",
        "\n",
        "    ax.set_xscale('log')\n",
        "    ax.set_xlabel('Alpha values')\n",
        "    ax.set_ylabel('R2 validation')\n",
        "    ax.set_title('Ridge regression with several models')\n",
        "    ax.legend(loc='center left', bbox_to_anchor=(1, 0.5), shadow=True, ncol=2)\n",
        "\n",
        "    plt.show()"
      ],
      "metadata": {
        "id": "J7pkhQ2QazTw"
      },
      "id": "J7pkhQ2QazTw",
      "execution_count": null,
      "outputs": []
    },
    {
      "cell_type": "markdown",
      "source": [
        "### **40 features figures**"
      ],
      "metadata": {
        "id": "bVOiwiHfVSdb"
      },
      "id": "bVOiwiHfVSdb"
    },
    {
      "cell_type": "code",
      "source": [
        "# 2D plot\n",
        "models = ['1st', '2nd']\n",
        "alpha_values = alpha_values_40\n",
        "z_1st = results_40_linear['r2_validation']\n",
        "z_2nd = results_40_second['r2_validation']\n",
        "plot_2d(models, alpha_values, [z_1st, z_2nd])"
      ],
      "metadata": {
        "id": "KELaZNcHUWIN"
      },
      "id": "KELaZNcHUWIN",
      "execution_count": null,
      "outputs": []
    },
    {
      "cell_type": "markdown",
      "source": [
        "### **20 features figures**: Dimensionality Reduction Impact (PCA and Lasso)"
      ],
      "metadata": {
        "id": "MNEnrQm7c_cb"
      },
      "id": "MNEnrQm7c_cb"
    },
    {
      "cell_type": "code",
      "source": [
        "# 2D plot for 20 features using PCA\n",
        "models = ['PCA_1st', 'PCA_2nd','PCA_3rd', 'Lasso_1st', 'Lasso_2nd','Lasso_3rd']\n",
        "alpha_values = alpha_values_20_PCA\n",
        "z_1st_PCA = results_20_linear_PCA['r2_validation']\n",
        "z_2nd_PCA = results_20_second_PCA['r2_validation']\n",
        "z_3rd_PCA = results_20_third_PCA['r2_validation']\n",
        "z_1st_Lasso = results_20_linear_Lasso['r2_validation']\n",
        "z_2nd_Lasso = results_20_second_Lasso['r2_validation']\n",
        "z_3rd_Lasso = results_20_third_Lasso['r2_validation']\n",
        "plot_2d(models, alpha_values, [z_1st_PCA, z_2nd_PCA, z_3rd_PCA, z_1st_Lasso, z_2nd_Lasso, z_3rd_Lasso])"
      ],
      "metadata": {
        "id": "E-2bj7o8dG24"
      },
      "id": "E-2bj7o8dG24",
      "execution_count": null,
      "outputs": []
    },
    {
      "cell_type": "markdown",
      "source": [
        "## **Neural Network Prediction**\n",
        "Besides the polynomial regression prediction, we also tried to use neural network to do the prediction.\n",
        "\n",
        "Here, we do 3 kinds of predictions: 40 features, 20 features after PCA, 20 features after Lasso.\n",
        "\n",
        "The epochs are set to 100.\n",
        "\n",
        "The structure of the neural network is a feedforward network consisting of three layers:\n",
        "\n",
        "1. Input Layer: Composed of 64 neurons, receiving input features.\n",
        "2. Hidden Layer: A single hidden layer with 32 neurons.\n",
        "3. Output Layer: A single neuron producing a continuous output value, suitable for regression tasks.\n",
        "\n",
        "The network uses ReLU activation functions in the input and hidden layers to introduce non-linearity."
      ],
      "metadata": {
        "id": "b24FZb-6Jry1"
      },
      "id": "b24FZb-6Jry1"
    },
    {
      "cell_type": "code",
      "source": [
        "import tensorflow as tf\n",
        "from tensorflow.keras.models import Sequential\n",
        "from tensorflow.keras.layers import Dense\n",
        "from sklearn.model_selection import train_test_split\n",
        "from sklearn.preprocessing import StandardScaler\n",
        "from sklearn.metrics import r2_score\n",
        "\n",
        "def neural_network_regression(X, y, epochs=50, batch_size=32, test_size=0.25):\n",
        "    \"\"\"\n",
        "    Trains a neural network for regression.\n",
        "\n",
        "    Args:\n",
        "    X (DataFrame): The features dataset.\n",
        "    y (Series): The target dataset.\n",
        "    epochs (int): Number of epochs for training.\n",
        "    batch_size (int): Batch size for training.\n",
        "    test_size (float): Proportion of the dataset to include in the test split.\n",
        "\n",
        "    Returns:\n",
        "    model: Trained neural network model.\n",
        "    history: Training history object.\n",
        "    \"\"\"\n",
        "\n",
        "    # Split the data into training and test sets\n",
        "    # Split the dataset into cross-validation and testing sets\n",
        "    # Calculate the number of years to use for the test set\n",
        "    n_test_years = int(n_years * test_size)\n",
        "    # Define the cutoff year to separate the last 8 years\n",
        "    cutoff_year = y.index.year.max() - (n_test_years - 1)\n",
        "    # Create boolean masks for splitting the data\n",
        "    train_mask = y.index.year < cutoff_year\n",
        "    test_mask = y.index.year >= cutoff_year\n",
        "\n",
        "    # Split the data into cross-validation and test sets\n",
        "    X_train = X.loc[train_mask]\n",
        "    y_train = y[train_mask]\n",
        "    X_test = X.loc[test_mask]\n",
        "    y_test = y[test_mask]\n",
        "\n",
        "    # Define the neural network architecture\n",
        "    model = Sequential([\n",
        "        Dense(64, activation='relu', input_shape=(X_train.shape[1],)),\n",
        "        Dense(32, activation='relu'),\n",
        "        Dense(1)  # Single output node for regression\n",
        "    ])\n",
        "\n",
        "    # Compile the model\n",
        "    model.compile(optimizer='adam', loss='mean_squared_error')\n",
        "\n",
        "    # Train the model\n",
        "    history = model.fit(X_train, y_train, epochs=epochs, batch_size=batch_size, validation_split=0.2)\n",
        "\n",
        "    # Evaluate the model on the test set\n",
        "    test_loss = model.evaluate(X_test, y_test)\n",
        "    print(f'Test MSE: {test_loss}')\n",
        "\n",
        "    y_pred = model.predict(X_test)\n",
        "    r2 = r2_score(y_test, y_pred)\n",
        "    print(f'R² Score: {r2}')\n",
        "\n",
        "    return model, history, r2, test_loss"
      ],
      "metadata": {
        "id": "jTQT0305rox2"
      },
      "id": "jTQT0305rox2",
      "execution_count": null,
      "outputs": []
    },
    {
      "cell_type": "markdown",
      "source": [
        "### **Direct neural network prediction for 40 features**"
      ],
      "metadata": {
        "id": "v1SUOkIXBSLu"
      },
      "id": "v1SUOkIXBSLu"
    },
    {
      "cell_type": "code",
      "source": [
        "# Direct neural network prediction for 40 features\n",
        "results_40_neural_network = neural_network_regression(X=X_normalized, y=y_normalized)\n",
        "# Neural network prediction for 20 features (after PCA)\n",
        "results_20_PCA_neural_network = neural_network_regression(X=X_20_PCA, y=y_normalized)\n",
        "# Neural network prediction for 20 features (after Lasso)\n",
        "results_20_Lasso_neural_network = neural_network_regression(X=X_20_Lasso, y=y_normalized)"
      ],
      "metadata": {
        "id": "Kh2XsyPYr3_f"
      },
      "id": "Kh2XsyPYr3_f",
      "execution_count": null,
      "outputs": []
    },
    {
      "cell_type": "markdown",
      "source": [
        "### **Learning Curve Plotting**"
      ],
      "metadata": {
        "id": "r4wriuB3B4AI"
      },
      "id": "r4wriuB3B4AI"
    },
    {
      "cell_type": "code",
      "source": [
        "def plot_learning_curves(history):\n",
        "    \"\"\"\n",
        "    Plots the learning curves for training and validation loss.\n",
        "\n",
        "    Args:\n",
        "    history: Training history object returned by the fit method of a keras model.\n",
        "    \"\"\"\n",
        "    # Extract loss and validation loss from the history object\n",
        "    loss = history.history['loss']\n",
        "    val_loss = history.history['val_loss']\n",
        "\n",
        "    # Create a range for the number of epochs\n",
        "    epochs = range(1, len(loss) + 1)\n",
        "\n",
        "    # Plot training and validation loss\n",
        "    plt.figure(figsize=(10, 6))\n",
        "    plt.plot(epochs, loss, 'bo-', label='Training loss')\n",
        "    plt.plot(epochs, val_loss, 'ro-', label='Validation loss')\n",
        "    plt.title('Training and Validation Loss')\n",
        "    plt.xlabel('Epochs')\n",
        "    plt.ylabel('Loss (MSE)')\n",
        "    plt.legend()\n",
        "\n",
        "    plt.show()\n",
        "\n"
      ],
      "metadata": {
        "id": "46FrV4DHynIi"
      },
      "id": "46FrV4DHynIi",
      "execution_count": null,
      "outputs": []
    },
    {
      "cell_type": "markdown",
      "source": [
        "#### **Learning Curve for direct neural network prediction for 40 features**"
      ],
      "metadata": {
        "id": "Wbq75SDZCMX9"
      },
      "id": "Wbq75SDZCMX9"
    },
    {
      "cell_type": "code",
      "source": [
        "plot_learning_curves(results_40_neural_network[1])"
      ],
      "metadata": {
        "id": "4gmI3P0qCJcl"
      },
      "id": "4gmI3P0qCJcl",
      "execution_count": null,
      "outputs": []
    },
    {
      "cell_type": "markdown",
      "source": [
        "#### **Learning Curve for neural network prediction for 20 features (after PCA)**"
      ],
      "metadata": {
        "id": "l7EhX43lCbq0"
      },
      "id": "l7EhX43lCbq0"
    },
    {
      "cell_type": "code",
      "source": [
        "plot_learning_curves(results_20_PCA_neural_network[1])"
      ],
      "metadata": {
        "id": "9RvgmPzyzEIP"
      },
      "id": "9RvgmPzyzEIP",
      "execution_count": null,
      "outputs": []
    },
    {
      "cell_type": "markdown",
      "source": [
        "#### **Learning Curve for neural network prediction for 20 features (after Lasso)**"
      ],
      "metadata": {
        "id": "-wgreA6qCiBU"
      },
      "id": "-wgreA6qCiBU"
    },
    {
      "cell_type": "code",
      "source": [
        "plot_learning_curves(results_20_Lasso_neural_network[1])"
      ],
      "metadata": {
        "id": "3xsDy7QpzK6l"
      },
      "id": "3xsDy7QpzK6l",
      "execution_count": null,
      "outputs": []
    },
    {
      "cell_type": "markdown",
      "source": [
        "## **Plot R2 test and MSE of all the models**"
      ],
      "metadata": {
        "id": "ZTugp4EffzvY"
      },
      "id": "ZTugp4EffzvY"
    },
    {
      "cell_type": "code",
      "source": [
        "# Set up the plot\n",
        "models = ['4O_1st', '40_2nd', 'PCA_1st', 'PCA_2nd','PCA_3rd', 'Lasso_1st', 'Lasso_2nd','Lasso_3rd','40_NN', 'PCA_NN', 'Lasso_NN']\n",
        "r2_tests = [\n",
        "    results_40_linear['r2_test'], results_40_second['r2_test'],\n",
        "    results_20_linear_PCA['r2_test'], results_20_second_PCA['r2_test'],\n",
        "    results_20_third_PCA['r2_test'], results_20_linear_Lasso['r2_test'],\n",
        "    results_20_second_Lasso['r2_test'], results_20_third_Lasso['r2_test'],\n",
        "]\n",
        "fig, ax = plt.subplots(figsize = (10,4))\n",
        "ax.scatter(models, r2_tests)\n",
        "ax.set_xlabel('Models')\n",
        "ax.set_ylabel('R2 test')\n",
        "ax.set_title('R2 test score for different models')"
      ],
      "metadata": {
        "id": "6U52HfuXf5oi"
      },
      "id": "6U52HfuXf5oi",
      "execution_count": null,
      "outputs": []
    },
    {
      "cell_type": "code",
      "source": [
        "# Set up the plot\n",
        "models = ['4O_1st', '40_2nd', 'PCA_1st', 'PCA_2nd','PCA_3rd', 'Lasso_1st', 'Lasso_2nd','Lasso_3rd','40_NN', 'PCA_NN', 'Lasso_NN']\n",
        "r2_tests = [\n",
        "    results_40_second['r2_test'],results_20_third_Lasso['r2_test'],\n",
        "    results_40_neural_network[2], results_20_PCA_neural_network[2], results_20_Lasso_neural_network[2]\n",
        "]\n",
        "fig, ax = plt.subplots(figsize = (10,4))\n",
        "ax.scatter(models, r2_tests)\n",
        "ax.set_xticklabels(fontsize=4)\n",
        "ax.set_xlabel('Models')\n",
        "ax.set_ylabel('R2 test')\n",
        "ax.set_title('R2 test score for different models')"
      ],
      "metadata": {
        "id": "h_kDx_w_k3zl"
      },
      "id": "h_kDx_w_k3zl",
      "execution_count": null,
      "outputs": []
    },
    {
      "cell_type": "code",
      "source": [
        "# Set up the plot\n",
        "models = ['4O_1st', '40_2nd', 'PCA_1st', 'PCA_2nd','PCA_3rd', 'Lasso_1st', 'Lasso_2nd','Lasso_3rd','40_NN', 'PCA_NN', 'Lasso_NN']\n",
        "mse = [\n",
        "    results_40_linear['mse_test'], results_40_second['mse_test'], results_20_linear_PCA['mse_test'], results_20_second_PCA['mse_test'], results_20_third_PCA['mse_test'],\n",
        "    results_20_linear_Lasso['mse_test'], results_20_second_Lasso['mse_test'], results_20_third_Lasso['mse_test']\n",
        "]\n",
        "fig, ax = plt.subplots(figsize = (12,4))\n",
        "ax.scatter(models, mse)\n",
        "ax.set_xticklabels(fontsize=4)\n",
        "ax.set_xlabel('Models')\n",
        "ax.set_ylabel('MSE')\n",
        "ax.set_title('MSE for different models')"
      ],
      "metadata": {
        "id": "o4cr_6Yp6IkY"
      },
      "id": "o4cr_6Yp6IkY",
      "execution_count": null,
      "outputs": []
    },
    {
      "cell_type": "code",
      "source": [
        "# Set up the plot\n",
        "models = ['4O_1st', '40_2nd', 'PCA_1st', 'PCA_2nd','PCA_3rd', 'Lasso_1st', 'Lasso_2nd','Lasso_3rd','40_NN', 'PCA_NN', 'Lasso_NN']\n",
        "mse = [\n",
        "    results_40_second['mse_test'],results_20_third_Lasso['mse_test'],\n",
        "    results_40_neural_network[3], results_20_PCA_neural_network[3], results_20_Lasso_neural_network[3]\n",
        "]\n",
        "fig, ax = plt.subplots(figsize = (12,4))\n",
        "ax.scatter(models, mse)\n",
        "ax.set_xticklabels(fontsize=4)\n",
        "ax.set_xlabel('Models')\n",
        "ax.set_ylabel('MSE')\n",
        "ax.set_title('MSE for different models')"
      ],
      "metadata": {
        "id": "GFsAjKOBk8lZ"
      },
      "id": "GFsAjKOBk8lZ",
      "execution_count": null,
      "outputs": []
    },
    {
      "cell_type": "markdown",
      "source": [
        "### **Heat Map of the Performance Matrix**\n"
      ],
      "metadata": {
        "id": "84W_HMd5aCNR"
      },
      "id": "84W_HMd5aCNR"
    },
    {
      "cell_type": "code",
      "source": [
        "import seaborn as sns\n",
        "# Models with various configurations and two metrics (R² score and MSE)\n",
        "models = ['40_1st', '40_2nd', '20_PCA_1st', '20_PCA_2nd', '20_PCA_3rd', '20_Lasso_1st', '20_Lasso_2nd', '20_Lasso_3rd', '40_NN', '20_PCA_NN', '20_Lasso_NN']\n",
        "metrics = ['R² Score', 'MSE']\n",
        "\n",
        "r2_scores = [results_40_linear['r2_test'], results_40_second['r2_test'],\n",
        "             results_20_linear_PCA['r2_test'], results_20_second_PCA['r2_test'],\n",
        "             results_20_third_PCA['r2_test'], results_20_linear_Lasso['r2_test'],\n",
        "             results_20_second_Lasso['r2_test'], results_20_third_Lasso['r2_test'],\n",
        "             results_40_neural_network[2], results_20_PCA_neural_network[2],\n",
        "             results_20_Lasso_neural_network[2]]\n",
        "mse_values = [results_40_linear['mse_test'], results_40_second['mse_test'], results_20_linear_PCA['mse_test'], results_20_second_PCA['mse_test'], results_20_third_PCA['mse_test'],\n",
        "    results_20_linear_Lasso['mse_test'], results_20_second_Lasso['mse_test'], results_20_third_Lasso['mse_test'], results_40_neural_network[3], results_20_PCA_neural_network[3], results_20_Lasso_neural_network[3]]  # Replace with actual MSE values\n",
        "\n",
        "# Creating DataFrames for each metric\n",
        "df_r2 = pd.DataFrame({'R² Score': r2_scores}, index=models)\n",
        "df_mse = pd.DataFrame({'MSE': mse_values}, index=models)\n",
        "\n",
        "# Setting up the matplotlib figure\n",
        "fig, axs = plt.subplots(ncols=2, figsize=(18, 6))\n",
        "\n",
        "# Creating two heatmaps side by side\n",
        "sns.heatmap(df_r2, annot=True, cmap='coolwarm', fmt=\".3f\", ax=axs[0])\n",
        "sns.heatmap(df_mse, annot=True, cmap='viridis', fmt=\".3f\", ax=axs[1])\n",
        "\n",
        "axs[0].set_title('R² Scores of Models')\n",
        "axs[0].set_xlabel('Metrics')\n",
        "axs[0].set_ylabel('Models')\n",
        "\n",
        "axs[1].set_title('MSE of Models')\n",
        "axs[1].set_xlabel('Metrics')\n",
        "axs[1].set_ylabel('Models')\n",
        "\n",
        "plt.tight_layout()\n",
        "plt.show()"
      ],
      "metadata": {
        "id": "NElmVh-taBj8"
      },
      "id": "NElmVh-taBj8",
      "execution_count": null,
      "outputs": []
    },
    {
      "cell_type": "markdown",
      "source": [
        "## **Discussion and Conclusion**"
      ],
      "metadata": {
        "id": "CDBwnSFoXPln"
      },
      "id": "CDBwnSFoXPln"
    },
    {
      "cell_type": "markdown",
      "source": [
        "- In our study, we split the data into a testing set and a validation set. We use the validation set to choose the best parameters and then use the testing set to evaluate the final model's performance. Although we acknowledge that implementing nested cross-validation could produce more precise results, our method is still reliable for comparing the performance of models.\n",
        "- Lasso, being a supervised learning method, uses the target data to reduce less important features by penalizing their coefficients. On the other hand, PCA is an unsupervised learning method that reduces the number of features by identifying principal components. While Lasso's feature reduction is directly guided by the target data, making it more effective in this case.\n",
        "- The second degree polynomial model give us the best performance in term of MSE in case of 40 features and the third degree polynomial model with 20 features reduced by Lasso give us the best performance in case of 20 features.\n",
        "- The regularization applied to Lasso change the performance of the models much more than PCA."
      ],
      "metadata": {
        "id": "Fn7cOJ4NSDmJ"
      },
      "id": "Fn7cOJ4NSDmJ"
    },
    {
      "cell_type": "markdown",
      "id": "ad79471d",
      "metadata": {
        "id": "ad79471d"
      },
      "source": [
        "***\n",
        "## Credit\n",
        "\n",
        "[//]: # \"This notebook is part of [E4C Interdisciplinary Center - Education](https://gitlab.in2p3.fr/energy4climate/public/education).\"\n",
        "Contributors include Bruno Deremble and Alexis Tantet.\n",
        "Several slides and images are taken from the very good [Scikit-learn course](https://inria.github.io/scikit-learn-mooc/).\n",
        "\n",
        "<br>\n",
        "\n",
        "<div style=\"display: flex; height: 70px\">\n",
        "    \n",
        "<img alt=\"Logo LMD\" src=\"https://github.com/VTNay/MEC557-Project/blob/main/images/logos/logo_lmd.jpg?raw=1\" style=\"display: inline-block\"/>\n",
        "\n",
        "<img alt=\"Logo IPSL\" src=\"https://github.com/VTNay/MEC557-Project/blob/main/images/logos/logo_ipsl.png?raw=1\" style=\"display: inline-block\"/>\n",
        "\n",
        "<img alt=\"Logo E4C\" src=\"https://github.com/VTNay/MEC557-Project/blob/main/images/logos/logo_e4c_final.png?raw=1\" style=\"display: inline-block\"/>\n",
        "\n",
        "<img alt=\"Logo EP\" src=\"https://github.com/VTNay/MEC557-Project/blob/main/images/logos/logo_ep.png?raw=1\" style=\"display: inline-block\"/>\n",
        "\n",
        "<img alt=\"Logo SU\" src=\"https://github.com/VTNay/MEC557-Project/blob/main/images/logos/logo_su.png?raw=1\" style=\"display: inline-block\"/>\n",
        "\n",
        "<img alt=\"Logo ENS\" src=\"https://github.com/VTNay/MEC557-Project/blob/main/images/logos/logo_ens.jpg?raw=1\" style=\"display: inline-block\"/>\n",
        "\n",
        "<img alt=\"Logo CNRS\" src=\"https://github.com/VTNay/MEC557-Project/blob/main/images/logos/logo_cnrs.png?raw=1\" style=\"display: inline-block\"/>\n",
        "    \n",
        "</div>\n",
        "\n",
        "<hr>\n",
        "\n",
        "<div style=\"display: flex\">\n",
        "    <a rel=\"license\" href=\"http://creativecommons.org/licenses/by-sa/4.0/\"><img alt=\"Creative Commons License\" style=\"border-width:0; margin-right: 10px\" src=\"https://i.creativecommons.org/l/by-sa/4.0/88x31.png\" /></a>\n",
        "    <br>This work is licensed under a &nbsp; <a rel=\"license\" href=\"http://creativecommons.org/licenses/by-sa/4.0/\">Creative Commons Attribution-ShareAlike 4.0 International License</a>.\n",
        "</div>"
      ]
    }
  ],
  "metadata": {
    "kernelspec": {
      "display_name": "Python 3",
      "language": "python",
      "name": "python3"
    },
    "language_info": {
      "codemirror_mode": {
        "name": "ipython",
        "version": 3
      },
      "file_extension": ".py",
      "mimetype": "text/x-python",
      "name": "python",
      "nbconvert_exporter": "python",
      "pygments_lexer": "ipython3",
      "version": "3.9.12"
    },
    "latex_envs": {
      "LaTeX_envs_menu_present": true,
      "autoclose": true,
      "autocomplete": false,
      "bibliofile": "biblio.bib",
      "cite_by": "apalike",
      "current_citInitial": 1,
      "eqLabelWithNumbers": true,
      "eqNumInitial": 1,
      "hotkeys": {
        "equation": "Ctrl-E",
        "itemize": "Ctrl-I"
      },
      "labels_anchors": false,
      "latex_user_defs": false,
      "report_style_numbering": false,
      "user_envs_cfg": false
    },
    "toc": {
      "base_numbering": 1,
      "nav_menu": {},
      "number_sections": true,
      "sideBar": true,
      "skip_h1_title": false,
      "title_cell": "Table of Contents",
      "title_sidebar": "Contents",
      "toc_cell": false,
      "toc_position": {},
      "toc_section_display": true,
      "toc_window_display": false
    },
    "varInspector": {
      "cols": {
        "lenName": 16,
        "lenType": 16,
        "lenVar": 40
      },
      "kernels_config": {
        "python": {
          "delete_cmd_postfix": "",
          "delete_cmd_prefix": "del ",
          "library": "var_list.py",
          "varRefreshCmd": "print(var_dic_list())"
        },
        "r": {
          "delete_cmd_postfix": ") ",
          "delete_cmd_prefix": "rm(",
          "library": "var_list.r",
          "varRefreshCmd": "cat(var_dic_list()) "
        }
      },
      "types_to_exclude": [
        "module",
        "function",
        "builtin_function_or_method",
        "instance",
        "_Feature"
      ],
      "window_display": false
    },
    "colab": {
      "provenance": [],
      "machine_shape": "hm",
      "include_colab_link": true
    }
  },
  "nbformat": 4,
  "nbformat_minor": 5
}